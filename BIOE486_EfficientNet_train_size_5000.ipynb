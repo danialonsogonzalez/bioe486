{
  "cells": [
    {
      "cell_type": "code",
      "source": [
        "# prompt: mount the folder in which the ipynb is located\n",
        "\n",
        "import os\n",
        "from google.colab import drive\n",
        "\n",
        "drive.mount('/content/drive')\n",
        "\n",
        "# Get the current working directory\n",
        "# current_directory = os.getcwd()\n",
        "\n",
        "%cd ./drive/MyDrive/DeepL_BI_codes/project/\n",
        "\n",
        "# Verify the change\n",
        "print(f\"Current working directory: {os.getcwd()}\")\n"
      ],
      "metadata": {
        "id": "foGt94JSI7PH"
      },
      "id": "foGt94JSI7PH",
      "execution_count": null,
      "outputs": []
    },
    {
      "cell_type": "code",
      "source": [
        "# prompt: unzip original files.zip\n",
        "\n",
        "# !unzip OriginalFiles.zip > /dev/null\n"
      ],
      "metadata": {
        "id": "skXRU-aIHCqb"
      },
      "id": "skXRU-aIHCqb",
      "execution_count": null,
      "outputs": []
    },
    {
      "cell_type": "code",
      "execution_count": null,
      "id": "13c9dcfd",
      "metadata": {
        "id": "13c9dcfd"
      },
      "outputs": [],
      "source": [
        "import os\n",
        "from glob import glob\n",
        "import matplotlib.pyplot as plt\n",
        "from PIL import Image"
      ]
    },
    {
      "cell_type": "code",
      "execution_count": null,
      "id": "40555007",
      "metadata": {
        "id": "40555007"
      },
      "outputs": [],
      "source": [
        "import os\n",
        "import numpy as np\n",
        "import pandas as pd\n",
        "import warnings\n",
        "import matplotlib.pyplot as plt\n",
        "import seaborn as sns\n",
        "\n",
        "# Suppress warnings\n",
        "warnings.filterwarnings(action=\"ignore\")\n",
        "\n",
        "# Inline plotting (optional in Colab, but safe to include)\n",
        "%matplotlib inline\n",
        "\n",
        "# TensorFlow/Keras and model components\n",
        "import tensorflow as tf\n",
        "from tensorflow import keras\n",
        "from tensorflow.keras.models import Sequential\n",
        "from tensorflow.keras.layers import (\n",
        "    Dense, Dropout, Flatten, Conv2D, MaxPooling2D\n",
        ")\n",
        "from tensorflow.keras.optimizers import Adam\n",
        "from tensorflow.keras.losses import SparseCategoricalCrossentropy\n",
        "from tensorflow.keras.preprocessing.image import ImageDataGenerator\n",
        "from tensorflow.keras.callbacks import TensorBoard, EarlyStopping, LearningRateScheduler\n",
        "\n",
        "# Scikit-learn\n",
        "from sklearn.model_selection import train_test_split\n",
        "from sklearn.metrics import classification_report\n",
        "import sklearn.metrics as metrics\n",
        "\n",
        "# Learning rate schedule\n",
        "annealer = LearningRateScheduler(lambda x: 1e-3 * 0.95 ** x, verbose=0)"
      ]
    },
    {
      "cell_type": "code",
      "execution_count": null,
      "id": "ff8a685c",
      "metadata": {
        "id": "ff8a685c"
      },
      "outputs": [],
      "source": [
        "# Define the base directory where AugmentedAlzheimerDataset is located\n",
        "base_dir = os.path.join(\"AugmentedAlzheimerDataset\")\n",
        "# base_dir = os.path.join(\"data\", \"OriginalDataset\")\n",
        "\n",
        "# Define paths for each category\n",
        "mild_demented_path = os.path.join(base_dir, \"MildDemented\")\n",
        "moderate_demented_path = os.path.join(base_dir, \"ModerateDemented\")\n",
        "non_demented_path = os.path.join(base_dir, \"NonDemented\")\n",
        "very_mild_demented_path = os.path.join(base_dir, \"VeryMildDemented\")\n",
        "\n",
        "# Create variables with lists of image file paths for each category\n",
        "mild_demented_images = glob(os.path.join(mild_demented_path, \"*\"))\n",
        "moderate_demented_images = glob(os.path.join(moderate_demented_path, \"*\"))\n",
        "non_demented_images = glob(os.path.join(non_demented_path, \"*\"))\n",
        "very_mild_demented_images = glob(os.path.join(very_mild_demented_path, \"*\"))\n",
        "\n",
        "# Optionally, print the number of images found in each folder\n",
        "print(\"Mild Demented:\", len(mild_demented_images))\n",
        "print(\"Moderate Demented:\", len(moderate_demented_images))\n",
        "print(\"Non Demented:\", len(non_demented_images))\n",
        "print(\"Very Mild Demented:\", len(very_mild_demented_images))"
      ]
    },
    {
      "cell_type": "code",
      "execution_count": null,
      "id": "98b39372",
      "metadata": {
        "id": "98b39372"
      },
      "outputs": [],
      "source": [
        "data = []\n",
        "\n",
        "data.extend([(img, \"MildDemented\") for img in mild_demented_images])\n",
        "data.extend([(img, \"ModerateDemented\") for img in moderate_demented_images])\n",
        "data.extend([(img, \"NonDemented\") for img in non_demented_images])\n",
        "data.extend([(img, \"VeryMildDemented\") for img in very_mild_demented_images])\n",
        "\n",
        "print(\"Total images:\", len(data))"
      ]
    },
    {
      "cell_type": "code",
      "execution_count": null,
      "id": "40607c36",
      "metadata": {
        "id": "40607c36"
      },
      "outputs": [],
      "source": [
        "# Define the four categories\n",
        "categories = [\"MildDemented\", \"ModerateDemented\", \"NonDemented\", \"VeryMildDemented\"]\n",
        "\n",
        "# For each category, select the first image found in data\n",
        "samples = {cat: next(img for img, label in data if label == cat) for cat in categories}\n",
        "\n",
        "plt.figure(figsize=(12, 4))\n",
        "for i, cat in enumerate(categories):\n",
        "    # Open the image and plot it\n",
        "    img = Image.open(samples[cat])\n",
        "    plt.subplot(1, 4, i + 1)\n",
        "    plt.imshow(img)\n",
        "    plt.title(cat)\n",
        "    plt.axis(\"off\")\n",
        "plt.tight_layout()\n",
        "plt.show()"
      ]
    },
    {
      "cell_type": "code",
      "source": [
        "# Create DataFrame\n",
        "df = pd.DataFrame(data, columns=['filepaths', 'labels'])\n",
        "\n",
        "# Shuffle the full dataset\n",
        "df = df.sample(frac=1, random_state=42).reset_index(drop=True)\n",
        "\n",
        "# Define how many samples you want\n",
        "num_train_samples = 5000   # Total samples used for train + val\n",
        "num_test_samples = 1000     # Total samples used for test\n",
        "\n",
        "# Check total is within dataset size\n",
        "assert num_train_samples + num_test_samples <= len(df), \\\n",
        "    \"Requested train + test size exceeds dataset size.\"\n",
        "\n",
        "# Step 1: Sample training subset (stratified)\n",
        "train_val_subset = df.groupby('labels', group_keys=False).apply(\n",
        "    lambda x: x.sample(int(num_train_samples * len(x) / len(df)), random_state=42)\n",
        ").reset_index(drop=True)\n",
        "\n",
        "# Step 2: Remove train_val samples from df and sample test set (stratified)\n",
        "remaining = df.drop(train_val_subset.index).reset_index(drop=True)\n",
        "test_images = remaining.groupby('labels', group_keys=False).apply(\n",
        "    lambda x: x.sample(int(num_test_samples * len(x) / len(df)), random_state=42)\n",
        ").reset_index(drop=True)\n",
        "\n",
        "# Step 3: Split training subset into train and validation sets (e.g., 80/20)\n",
        "train_set, val_set = train_test_split(\n",
        "    train_val_subset,\n",
        "    test_size=0.2,\n",
        "    random_state=42,\n",
        "    stratify=train_val_subset['labels']\n",
        ")\n",
        "\n",
        "# Print final shapes\n",
        "print(\"Train set:\", train_set.shape)\n",
        "print(\"Validation set:\", val_set.shape)\n",
        "print(\"Test set:\", test_images.shape)"
      ],
      "metadata": {
        "id": "aHA426M3sIX0"
      },
      "id": "aHA426M3sIX0",
      "execution_count": null,
      "outputs": []
    },
    {
      "cell_type": "code",
      "execution_count": null,
      "id": "965c6666",
      "metadata": {
        "colab": {
          "base_uri": "https://localhost:8080/"
        },
        "id": "965c6666",
        "outputId": "af19476d-e637-4419-ddff-6405c40df12b"
      },
      "outputs": [
        {
          "output_type": "stream",
          "name": "stdout",
          "text": [
            "Found 3999 validated image filenames belonging to 4 classes.\n",
            "Found 1000 validated image filenames belonging to 4 classes.\n",
            "Found 836 validated image filenames belonging to 4 classes.\n"
          ]
        }
      ],
      "source": [
        "# Use MobileNetV2 preprocessing and set up data generators\n",
        "image_gen = ImageDataGenerator(preprocessing_function=tf.keras.applications.mobilenet_v2.preprocess_input)\n",
        "\n",
        "# Training data generator\n",
        "train = image_gen.flow_from_dataframe(\n",
        "    dataframe=train_set,\n",
        "    x_col=\"filepaths\",\n",
        "    y_col=\"labels\",\n",
        "    target_size=(244, 244),\n",
        "    color_mode='rgb',\n",
        "    class_mode=\"categorical\",\n",
        "    batch_size=32,\n",
        "    shuffle=True  # Can set to True for training\n",
        ")\n",
        "\n",
        "# Validation data generator\n",
        "val = image_gen.flow_from_dataframe(\n",
        "    dataframe=val_set,\n",
        "    x_col=\"filepaths\",\n",
        "    y_col=\"labels\",\n",
        "    target_size=(244, 244),\n",
        "    color_mode='rgb',\n",
        "    class_mode=\"categorical\",\n",
        "    batch_size=32,\n",
        "    shuffle=False\n",
        ")\n",
        "\n",
        "# Testing data generator\n",
        "test = image_gen.flow_from_dataframe(\n",
        "    dataframe=test_images,\n",
        "    x_col=\"filepaths\",\n",
        "    y_col=\"labels\",\n",
        "    target_size=(244, 244),\n",
        "    color_mode='rgb',\n",
        "    class_mode=\"categorical\",\n",
        "    batch_size=32,\n",
        "    shuffle=False\n",
        ")"
      ]
    },
    {
      "cell_type": "markdown",
      "source": [
        "# EfficientNetB7"
      ],
      "metadata": {
        "id": "nhar1pR9YcDr"
      },
      "id": "nhar1pR9YcDr"
    },
    {
      "cell_type": "code",
      "execution_count": null,
      "id": "7c3bce11",
      "metadata": {
        "id": "7c3bce11",
        "colab": {
          "base_uri": "https://localhost:8080/"
        },
        "outputId": "c73f792f-7ae3-43c0-84da-9d6b36807f3f"
      },
      "outputs": [
        {
          "output_type": "stream",
          "name": "stdout",
          "text": [
            "Downloading data from https://storage.googleapis.com/keras-applications/efficientnetb7_notop.h5\n",
            "\u001b[1m258076736/258076736\u001b[0m \u001b[32m━━━━━━━━━━━━━━━━━━━━\u001b[0m\u001b[37m\u001b[0m \u001b[1m1s\u001b[0m 0us/step\n"
          ]
        }
      ],
      "source": [
        "from tensorflow.keras.optimizers import Adamax\n",
        "from tensorflow.keras.applications import EfficientNetB7\n",
        "\n",
        "# Define input image shape\n",
        "img_shape = (244, 244, 3)\n",
        "\n",
        "# Load the pre-trained EfficientNetB7 model without the top classification layer\n",
        "base_model = EfficientNetB7(\n",
        "    include_top=False,         # Do not include the top classification layer\n",
        "    weights=\"imagenet\",        # Use pre-trained ImageNet weights\n",
        "    input_shape=img_shape,     # Input shape\n",
        "    pooling='max'              # Global max pooling after conv base\n",
        ")"
      ]
    },
    {
      "cell_type": "code",
      "execution_count": null,
      "id": "89e29f39",
      "metadata": {
        "id": "89e29f39"
      },
      "outputs": [],
      "source": [
        "base_model.trainable = True\n",
        "\n",
        "# Flag to start fine-tuning\n",
        "set_trainable = False\n",
        "\n",
        "# Unfreeze layers from a specific point onwards\n",
        "for layer in base_model.layers:\n",
        "    if layer.name == 'block6a_expand_conv':  # You can change this layer to whichever layer you want to unfreeze\n",
        "        set_trainable = True\n",
        "    if set_trainable:\n",
        "        layer.trainable = True\n",
        "    else:\n",
        "        layer.trainable = False"
      ]
    },
    {
      "cell_type": "code",
      "execution_count": null,
      "id": "79a9ea1f",
      "metadata": {
        "colab": {
          "base_uri": "https://localhost:8080/",
          "height": 321
        },
        "id": "79a9ea1f",
        "outputId": "85705d08-59c3-4735-cfc1-4bb589d82f19"
      },
      "outputs": [
        {
          "output_type": "display_data",
          "data": {
            "text/plain": [
              "\u001b[1mModel: \"sequential\"\u001b[0m\n"
            ],
            "text/html": [
              "<pre style=\"white-space:pre;overflow-x:auto;line-height:normal;font-family:Menlo,'DejaVu Sans Mono',consolas,'Courier New',monospace\"><span style=\"font-weight: bold\">Model: \"sequential\"</span>\n",
              "</pre>\n"
            ]
          },
          "metadata": {}
        },
        {
          "output_type": "display_data",
          "data": {
            "text/plain": [
              "┏━━━━━━━━━━━━━━━━━━━━━━━━━━━━━━━━━┳━━━━━━━━━━━━━━━━━━━━━━━━┳━━━━━━━━━━━━━━━┓\n",
              "┃\u001b[1m \u001b[0m\u001b[1mLayer (type)                   \u001b[0m\u001b[1m \u001b[0m┃\u001b[1m \u001b[0m\u001b[1mOutput Shape          \u001b[0m\u001b[1m \u001b[0m┃\u001b[1m \u001b[0m\u001b[1m      Param #\u001b[0m\u001b[1m \u001b[0m┃\n",
              "┡━━━━━━━━━━━━━━━━━━━━━━━━━━━━━━━━━╇━━━━━━━━━━━━━━━━━━━━━━━━╇━━━━━━━━━━━━━━━┩\n",
              "│ efficientnetb7 (\u001b[38;5;33mFunctional\u001b[0m)     │ (\u001b[38;5;45mNone\u001b[0m, \u001b[38;5;34m2560\u001b[0m)           │    \u001b[38;5;34m64,097,687\u001b[0m │\n",
              "├─────────────────────────────────┼────────────────────────┼───────────────┤\n",
              "│ flatten (\u001b[38;5;33mFlatten\u001b[0m)               │ (\u001b[38;5;45mNone\u001b[0m, \u001b[38;5;34m2560\u001b[0m)           │             \u001b[38;5;34m0\u001b[0m │\n",
              "├─────────────────────────────────┼────────────────────────┼───────────────┤\n",
              "│ dropout (\u001b[38;5;33mDropout\u001b[0m)               │ (\u001b[38;5;45mNone\u001b[0m, \u001b[38;5;34m2560\u001b[0m)           │             \u001b[38;5;34m0\u001b[0m │\n",
              "├─────────────────────────────────┼────────────────────────┼───────────────┤\n",
              "│ dense (\u001b[38;5;33mDense\u001b[0m)                   │ (\u001b[38;5;45mNone\u001b[0m, \u001b[38;5;34m128\u001b[0m)            │       \u001b[38;5;34m327,808\u001b[0m │\n",
              "├─────────────────────────────────┼────────────────────────┼───────────────┤\n",
              "│ dropout_1 (\u001b[38;5;33mDropout\u001b[0m)             │ (\u001b[38;5;45mNone\u001b[0m, \u001b[38;5;34m128\u001b[0m)            │             \u001b[38;5;34m0\u001b[0m │\n",
              "├─────────────────────────────────┼────────────────────────┼───────────────┤\n",
              "│ dense_1 (\u001b[38;5;33mDense\u001b[0m)                 │ (\u001b[38;5;45mNone\u001b[0m, \u001b[38;5;34m4\u001b[0m)              │           \u001b[38;5;34m516\u001b[0m │\n",
              "└─────────────────────────────────┴────────────────────────┴───────────────┘\n"
            ],
            "text/html": [
              "<pre style=\"white-space:pre;overflow-x:auto;line-height:normal;font-family:Menlo,'DejaVu Sans Mono',consolas,'Courier New',monospace\">┏━━━━━━━━━━━━━━━━━━━━━━━━━━━━━━━━━┳━━━━━━━━━━━━━━━━━━━━━━━━┳━━━━━━━━━━━━━━━┓\n",
              "┃<span style=\"font-weight: bold\"> Layer (type)                    </span>┃<span style=\"font-weight: bold\"> Output Shape           </span>┃<span style=\"font-weight: bold\">       Param # </span>┃\n",
              "┡━━━━━━━━━━━━━━━━━━━━━━━━━━━━━━━━━╇━━━━━━━━━━━━━━━━━━━━━━━━╇━━━━━━━━━━━━━━━┩\n",
              "│ efficientnetb7 (<span style=\"color: #0087ff; text-decoration-color: #0087ff\">Functional</span>)     │ (<span style=\"color: #00d7ff; text-decoration-color: #00d7ff\">None</span>, <span style=\"color: #00af00; text-decoration-color: #00af00\">2560</span>)           │    <span style=\"color: #00af00; text-decoration-color: #00af00\">64,097,687</span> │\n",
              "├─────────────────────────────────┼────────────────────────┼───────────────┤\n",
              "│ flatten (<span style=\"color: #0087ff; text-decoration-color: #0087ff\">Flatten</span>)               │ (<span style=\"color: #00d7ff; text-decoration-color: #00d7ff\">None</span>, <span style=\"color: #00af00; text-decoration-color: #00af00\">2560</span>)           │             <span style=\"color: #00af00; text-decoration-color: #00af00\">0</span> │\n",
              "├─────────────────────────────────┼────────────────────────┼───────────────┤\n",
              "│ dropout (<span style=\"color: #0087ff; text-decoration-color: #0087ff\">Dropout</span>)               │ (<span style=\"color: #00d7ff; text-decoration-color: #00d7ff\">None</span>, <span style=\"color: #00af00; text-decoration-color: #00af00\">2560</span>)           │             <span style=\"color: #00af00; text-decoration-color: #00af00\">0</span> │\n",
              "├─────────────────────────────────┼────────────────────────┼───────────────┤\n",
              "│ dense (<span style=\"color: #0087ff; text-decoration-color: #0087ff\">Dense</span>)                   │ (<span style=\"color: #00d7ff; text-decoration-color: #00d7ff\">None</span>, <span style=\"color: #00af00; text-decoration-color: #00af00\">128</span>)            │       <span style=\"color: #00af00; text-decoration-color: #00af00\">327,808</span> │\n",
              "├─────────────────────────────────┼────────────────────────┼───────────────┤\n",
              "│ dropout_1 (<span style=\"color: #0087ff; text-decoration-color: #0087ff\">Dropout</span>)             │ (<span style=\"color: #00d7ff; text-decoration-color: #00d7ff\">None</span>, <span style=\"color: #00af00; text-decoration-color: #00af00\">128</span>)            │             <span style=\"color: #00af00; text-decoration-color: #00af00\">0</span> │\n",
              "├─────────────────────────────────┼────────────────────────┼───────────────┤\n",
              "│ dense_1 (<span style=\"color: #0087ff; text-decoration-color: #0087ff\">Dense</span>)                 │ (<span style=\"color: #00d7ff; text-decoration-color: #00d7ff\">None</span>, <span style=\"color: #00af00; text-decoration-color: #00af00\">4</span>)              │           <span style=\"color: #00af00; text-decoration-color: #00af00\">516</span> │\n",
              "└─────────────────────────────────┴────────────────────────┴───────────────┘\n",
              "</pre>\n"
            ]
          },
          "metadata": {}
        },
        {
          "output_type": "display_data",
          "data": {
            "text/plain": [
              "\u001b[1m Total params: \u001b[0m\u001b[38;5;34m64,426,011\u001b[0m (245.77 MB)\n"
            ],
            "text/html": [
              "<pre style=\"white-space:pre;overflow-x:auto;line-height:normal;font-family:Menlo,'DejaVu Sans Mono',consolas,'Courier New',monospace\"><span style=\"font-weight: bold\"> Total params: </span><span style=\"color: #00af00; text-decoration-color: #00af00\">64,426,011</span> (245.77 MB)\n",
              "</pre>\n"
            ]
          },
          "metadata": {}
        },
        {
          "output_type": "display_data",
          "data": {
            "text/plain": [
              "\u001b[1m Trainable params: \u001b[0m\u001b[38;5;34m51,795,452\u001b[0m (197.58 MB)\n"
            ],
            "text/html": [
              "<pre style=\"white-space:pre;overflow-x:auto;line-height:normal;font-family:Menlo,'DejaVu Sans Mono',consolas,'Courier New',monospace\"><span style=\"font-weight: bold\"> Trainable params: </span><span style=\"color: #00af00; text-decoration-color: #00af00\">51,795,452</span> (197.58 MB)\n",
              "</pre>\n"
            ]
          },
          "metadata": {}
        },
        {
          "output_type": "display_data",
          "data": {
            "text/plain": [
              "\u001b[1m Non-trainable params: \u001b[0m\u001b[38;5;34m12,630,559\u001b[0m (48.18 MB)\n"
            ],
            "text/html": [
              "<pre style=\"white-space:pre;overflow-x:auto;line-height:normal;font-family:Menlo,'DejaVu Sans Mono',consolas,'Courier New',monospace\"><span style=\"font-weight: bold\"> Non-trainable params: </span><span style=\"color: #00af00; text-decoration-color: #00af00\">12,630,559</span> (48.18 MB)\n",
              "</pre>\n"
            ]
          },
          "metadata": {}
        }
      ],
      "source": [
        "EfficientNetB7_model = Sequential([\n",
        "    tf.keras.layers.InputLayer(input_shape=img_shape),\n",
        "    base_model,\n",
        "    Flatten(),\n",
        "    Dropout(rate=0.3),\n",
        "    Dense(128, activation='relu'),\n",
        "    Dropout(rate=0.25),\n",
        "    Dense(4, activation='softmax')\n",
        "])\n",
        "\n",
        "EfficientNetB7_model.compile(\n",
        "    Adamax(learning_rate=0.001),\n",
        "    loss='categorical_crossentropy',\n",
        "    metrics=['accuracy']\n",
        ")\n",
        "\n",
        "EfficientNetB7_model.summary()"
      ]
    },
    {
      "cell_type": "code",
      "source": [
        "# List all available physical devices\n",
        "physical_devices = tf.config.list_physical_devices('GPU')\n",
        "\n",
        "if physical_devices:\n",
        "    print(\"GPU is available:\")\n",
        "    for device in physical_devices:\n",
        "        print(f\"  - {device}\")\n",
        "else:\n",
        "    print(\"GPU is NOT available. Using CPU.\")\n",
        "\n",
        "from tensorflow.python.client import device_lib\n",
        "\n",
        "# Print available devices\n",
        "print(\"Available devices:\")\n",
        "for device in device_lib.list_local_devices():\n",
        "    print(f\"  - {device.name} ({device.device_type})\")"
      ],
      "metadata": {
        "colab": {
          "base_uri": "https://localhost:8080/"
        },
        "id": "2K-OXOEEp2Sy",
        "outputId": "ad4d00ef-39ae-496f-ac0b-ed4aa21fcdba"
      },
      "id": "2K-OXOEEp2Sy",
      "execution_count": null,
      "outputs": [
        {
          "output_type": "stream",
          "name": "stdout",
          "text": [
            "GPU is available:\n",
            "  - PhysicalDevice(name='/physical_device:GPU:0', device_type='GPU')\n",
            "Available devices:\n",
            "  - /device:CPU:0 (CPU)\n",
            "  - /device:GPU:0 (GPU)\n"
          ]
        }
      ]
    },
    {
      "cell_type": "code",
      "source": [
        "# Move the model to the GPU if available\n",
        "with tf.device('/GPU:0'): # Or '/GPU:1' etc. if you have multiple GPUs. If no GPU, defaults to CPU.\n",
        "    early_stopping = EarlyStopping(\n",
        "        monitor='val_loss',\n",
        "        patience=3,\n",
        "        mode='min',\n",
        "        restore_best_weights=True,\n",
        "        verbose=1\n",
        "    )\n",
        "    history = EfficientNetB7_model.fit(\n",
        "        train,\n",
        "        epochs=50,\n",
        "        validation_data=val,\n",
        "        callbacks=[early_stopping, annealer]\n",
        "    )\n"
      ],
      "metadata": {
        "colab": {
          "base_uri": "https://localhost:8080/"
        },
        "id": "dZhRT7QjKD_w",
        "outputId": "50922712-002c-4c23-c71b-2fa5b9131297"
      },
      "id": "dZhRT7QjKD_w",
      "execution_count": null,
      "outputs": [
        {
          "output_type": "stream",
          "name": "stdout",
          "text": [
            "Epoch 1/50\n",
            "\u001b[1m125/125\u001b[0m \u001b[32m━━━━━━━━━━━━━━━━━━━━\u001b[0m\u001b[37m\u001b[0m \u001b[1m2287s\u001b[0m 17s/step - accuracy: 0.3769 - loss: 2.7579 - val_accuracy: 0.4240 - val_loss: 1.1981 - learning_rate: 0.0010\n",
            "Epoch 2/50\n",
            "\u001b[1m125/125\u001b[0m \u001b[32m━━━━━━━━━━━━━━━━━━━━\u001b[0m\u001b[37m\u001b[0m \u001b[1m74s\u001b[0m 594ms/step - accuracy: 0.5733 - loss: 0.9807 - val_accuracy: 0.6410 - val_loss: 0.8224 - learning_rate: 9.5000e-04\n",
            "Epoch 3/50\n",
            "\u001b[1m125/125\u001b[0m \u001b[32m━━━━━━━━━━━━━━━━━━━━\u001b[0m\u001b[37m\u001b[0m \u001b[1m73s\u001b[0m 582ms/step - accuracy: 0.6259 - loss: 0.8350 - val_accuracy: 0.6830 - val_loss: 0.7204 - learning_rate: 9.0250e-04\n",
            "Epoch 4/50\n",
            "\u001b[1m125/125\u001b[0m \u001b[32m━━━━━━━━━━━━━━━━━━━━\u001b[0m\u001b[37m\u001b[0m \u001b[1m72s\u001b[0m 577ms/step - accuracy: 0.6697 - loss: 0.7665 - val_accuracy: 0.7260 - val_loss: 0.6395 - learning_rate: 8.5737e-04\n",
            "Epoch 5/50\n",
            "\u001b[1m125/125\u001b[0m \u001b[32m━━━━━━━━━━━━━━━━━━━━\u001b[0m\u001b[37m\u001b[0m \u001b[1m72s\u001b[0m 577ms/step - accuracy: 0.7024 - loss: 0.6668 - val_accuracy: 0.7220 - val_loss: 0.6053 - learning_rate: 8.1451e-04\n",
            "Epoch 6/50\n",
            "\u001b[1m125/125\u001b[0m \u001b[32m━━━━━━━━━━━━━━━━━━━━\u001b[0m\u001b[37m\u001b[0m \u001b[1m72s\u001b[0m 579ms/step - accuracy: 0.7526 - loss: 0.6019 - val_accuracy: 0.7420 - val_loss: 0.6047 - learning_rate: 7.7378e-04\n",
            "Epoch 7/50\n",
            "\u001b[1m125/125\u001b[0m \u001b[32m━━━━━━━━━━━━━━━━━━━━\u001b[0m\u001b[37m\u001b[0m \u001b[1m72s\u001b[0m 579ms/step - accuracy: 0.7694 - loss: 0.5576 - val_accuracy: 0.7550 - val_loss: 0.5415 - learning_rate: 7.3509e-04\n",
            "Epoch 8/50\n",
            "\u001b[1m125/125\u001b[0m \u001b[32m━━━━━━━━━━━━━━━━━━━━\u001b[0m\u001b[37m\u001b[0m \u001b[1m72s\u001b[0m 577ms/step - accuracy: 0.8111 - loss: 0.4766 - val_accuracy: 0.8060 - val_loss: 0.4601 - learning_rate: 6.9834e-04\n",
            "Epoch 9/50\n",
            "\u001b[1m125/125\u001b[0m \u001b[32m━━━━━━━━━━━━━━━━━━━━\u001b[0m\u001b[37m\u001b[0m \u001b[1m73s\u001b[0m 587ms/step - accuracy: 0.8330 - loss: 0.4213 - val_accuracy: 0.8170 - val_loss: 0.4784 - learning_rate: 6.6342e-04\n",
            "Epoch 10/50\n",
            "\u001b[1m125/125\u001b[0m \u001b[32m━━━━━━━━━━━━━━━━━━━━\u001b[0m\u001b[37m\u001b[0m \u001b[1m72s\u001b[0m 577ms/step - accuracy: 0.8376 - loss: 0.4033 - val_accuracy: 0.8450 - val_loss: 0.4273 - learning_rate: 6.3025e-04\n",
            "Epoch 11/50\n",
            "\u001b[1m125/125\u001b[0m \u001b[32m━━━━━━━━━━━━━━━━━━━━\u001b[0m\u001b[37m\u001b[0m \u001b[1m72s\u001b[0m 575ms/step - accuracy: 0.8567 - loss: 0.3546 - val_accuracy: 0.8310 - val_loss: 0.4312 - learning_rate: 5.9874e-04\n",
            "Epoch 12/50\n",
            "\u001b[1m125/125\u001b[0m \u001b[32m━━━━━━━━━━━━━━━━━━━━\u001b[0m\u001b[37m\u001b[0m \u001b[1m72s\u001b[0m 576ms/step - accuracy: 0.8931 - loss: 0.2919 - val_accuracy: 0.8380 - val_loss: 0.4506 - learning_rate: 5.6880e-04\n",
            "Epoch 13/50\n",
            "\u001b[1m125/125\u001b[0m \u001b[32m━━━━━━━━━━━━━━━━━━━━\u001b[0m\u001b[37m\u001b[0m \u001b[1m73s\u001b[0m 587ms/step - accuracy: 0.8975 - loss: 0.2718 - val_accuracy: 0.8450 - val_loss: 0.4320 - learning_rate: 5.4036e-04\n",
            "Epoch 13: early stopping\n",
            "Restoring model weights from the end of the best epoch: 10.\n"
          ]
        }
      ]
    },
    {
      "cell_type": "code",
      "execution_count": null,
      "id": "bb53fc55",
      "metadata": {
        "id": "bb53fc55",
        "colab": {
          "base_uri": "https://localhost:8080/"
        },
        "outputId": "cd03b665-10a0-4d3a-822a-3cf2b143a0bd"
      },
      "outputs": [
        {
          "output_type": "stream",
          "name": "stdout",
          "text": [
            "\u001b[1m125/125\u001b[0m \u001b[32m━━━━━━━━━━━━━━━━━━━━\u001b[0m\u001b[37m\u001b[0m \u001b[1m43s\u001b[0m 345ms/step - accuracy: 0.9506 - loss: 0.1483\n",
            "\n",
            "Train loss: 0.15\n",
            "Train Accuracy: 94.80 %\n",
            "\u001b[1m32/32\u001b[0m \u001b[32m━━━━━━━━━━━━━━━━━━━━\u001b[0m\u001b[37m\u001b[0m \u001b[1m9s\u001b[0m 280ms/step - accuracy: 0.8625 - loss: 0.3995\n",
            "\n",
            "validation loss: 0.43\n",
            "Validation Accuracy: 84.50 %\n",
            "\u001b[1m27/27\u001b[0m \u001b[32m━━━━━━━━━━━━━━━━━━━━\u001b[0m\u001b[37m\u001b[0m \u001b[1m283s\u001b[0m 11s/step - accuracy: 0.9315 - loss: 0.2225\n",
            "\n",
            "test loss: 0.42\n",
            "test Accuracy: 85.65 %\n"
          ]
        }
      ],
      "source": [
        "train_loss, train_accuracy =  EfficientNetB7_model.evaluate(train)\n",
        "print(f'\\nTrain loss: {train_loss:.2f}')\n",
        "print(f'Train Accuracy: {train_accuracy*100:.2f} %')\n",
        "\n",
        "val_loss, val_accuracy =  EfficientNetB7_model.evaluate(val)\n",
        "print(f'\\nvalidation loss: {val_loss:.2f}')\n",
        "print(f'Validation Accuracy: {val_accuracy*100:.2f} %')\n",
        "\n",
        "test_loss, test_accuracy =  EfficientNetB7_model.evaluate(test)\n",
        "print(f'\\ntest loss: {test_loss:.2f}')\n",
        "print(f'test Accuracy: {test_accuracy*100:.2f} %')"
      ]
    },
    {
      "cell_type": "code",
      "execution_count": null,
      "id": "c41484b0",
      "metadata": {
        "id": "c41484b0",
        "colab": {
          "base_uri": "https://localhost:8080/"
        },
        "outputId": "dc78e5da-f653-495d-cf2b-b5ebd21d162a"
      },
      "outputs": [
        {
          "output_type": "stream",
          "name": "stdout",
          "text": [
            "\u001b[1m27/27\u001b[0m \u001b[32m━━━━━━━━━━━━━━━━━━━━\u001b[0m\u001b[37m\u001b[0m \u001b[1m7s\u001b[0m 260ms/step - accuracy: 0.9315 - loss: 0.2225\n",
            "[0.4164763391017914, 0.8564593195915222]\n"
          ]
        }
      ],
      "source": [
        "result = EfficientNetB7_model.evaluate(test, verbose=1)\n",
        "print(result)"
      ]
    },
    {
      "cell_type": "code",
      "execution_count": null,
      "id": "180a4298",
      "metadata": {
        "id": "180a4298",
        "colab": {
          "base_uri": "https://localhost:8080/",
          "height": 472
        },
        "outputId": "723d031f-100f-4247-9662-48fcbf5e7aeb"
      },
      "outputs": [
        {
          "output_type": "display_data",
          "data": {
            "text/plain": [
              "<Figure size 640x480 with 1 Axes>"
            ],
            "image/png": "[encoded data removed]"
          },
          "metadata": {}
        }
      ],
      "source": [
        "plt.plot(history.history['accuracy'])\n",
        "plt.plot(history.history['val_accuracy'])\n",
        "plt.title('model accuracy')\n",
        "plt.ylabel('accuracy')\n",
        "plt.xlabel('epoch')\n",
        "plt.legend(['train', 'val'], loc='upper left')\n",
        "plt.show()"
      ]
    },
    {
      "cell_type": "code",
      "execution_count": null,
      "id": "5a221903",
      "metadata": {
        "id": "5a221903",
        "colab": {
          "base_uri": "https://localhost:8080/",
          "height": 472
        },
        "outputId": "a0f752f3-3678-46c9-de35-0fb241d1064b"
      },
      "outputs": [
        {
          "output_type": "display_data",
          "data": {
            "text/plain": [
              "<Figure size 640x480 with 1 Axes>"
            ],
            "image/png": "[encoded data removed]"
          },
          "metadata": {}
        }
      ],
      "source": [
        "plt.plot(history.history['loss'])\n",
        "plt.plot(history.history['val_loss'])\n",
        "plt.title('model loss')\n",
        "plt.ylabel('loss')\n",
        "plt.xlabel('epoch')\n",
        "plt.legend(['train', 'val'], loc='upper left')\n",
        "plt.show()"
      ]
    },
    {
      "cell_type": "code",
      "execution_count": null,
      "id": "ff0155f6",
      "metadata": {
        "id": "ff0155f6",
        "colab": {
          "base_uri": "https://localhost:8080/"
        },
        "outputId": "203bbebe-0976-41b7-ab74-f99c3cf8f035"
      },
      "outputs": [
        {
          "output_type": "stream",
          "name": "stdout",
          "text": [
            "\u001b[1m27/27\u001b[0m \u001b[32m━━━━━━━━━━━━━━━━━━━━\u001b[0m\u001b[37m\u001b[0m \u001b[1m40s\u001b[0m 899ms/step\n",
            "                  precision    recall  f1-score   support\n",
            "\n",
            "    MildDemented       0.86      0.94      0.90       244\n",
            "ModerateDemented       0.95      0.99      0.97       168\n",
            "     NonDemented       0.80      0.92      0.85       261\n",
            "VeryMildDemented       0.85      0.50      0.63       163\n",
            "\n",
            "        accuracy                           0.86       836\n",
            "       macro avg       0.87      0.84      0.84       836\n",
            "    weighted avg       0.86      0.86      0.85       836\n",
            "\n",
            "Accuracy of the Model: 85.6%\n"
          ]
        }
      ],
      "source": [
        "from sklearn.metrics import confusion_matrix, accuracy_score\n",
        "\n",
        "test_hat =  EfficientNetB7_model.predict(test)\n",
        "test_hat = np.argmax(test_hat, axis=1)\n",
        "\n",
        "labels = (train.class_indices)\n",
        "labels = dict((v,k) for k,v in labels.items())\n",
        "pred_report = [labels[k] for k in test_hat]\n",
        "\n",
        "y_test = test_images.labels\n",
        "print(classification_report(y_test, pred_report))\n",
        "print(\"Accuracy of the Model:\",\"{:.1f}%\".format(accuracy_score(y_test, pred_report)*100))"
      ]
    },
    {
      "cell_type": "markdown",
      "source": [
        "# EfficientNetB6"
      ],
      "metadata": {
        "id": "Izn0fv11Yrez"
      },
      "id": "Izn0fv11Yrez"
    },
    {
      "cell_type": "code",
      "source": [
        "from tensorflow.keras.optimizers import Adamax\n",
        "from tensorflow.keras.applications import EfficientNetB6\n",
        "\n",
        "# Define input image shape\n",
        "img_shape = (244, 244, 3)\n",
        "\n",
        "# Load the pre-trained EfficientNetB6 model without the top classification layer\n",
        "base_model = EfficientNetB6(\n",
        "    include_top=False,         # Do not include the top classification layer\n",
        "    weights=\"imagenet\",        # Use pre-trained ImageNet weights\n",
        "    input_shape=img_shape,     # Input shape\n",
        "    pooling='max'              # Global max pooling after conv base\n",
        ")"
      ],
      "metadata": {
        "id": "37tD2n1m8ts_",
        "colab": {
          "base_uri": "https://localhost:8080/"
        },
        "outputId": "1efc2e4a-155c-49c2-8141-5dbfdf93d444"
      },
      "id": "37tD2n1m8ts_",
      "execution_count": null,
      "outputs": [
        {
          "output_type": "stream",
          "name": "stdout",
          "text": [
            "Downloading data from https://storage.googleapis.com/keras-applications/efficientnetb6_notop.h5\n",
            "\u001b[1m165234480/165234480\u001b[0m \u001b[32m━━━━━━━━━━━━━━━━━━━━\u001b[0m\u001b[37m\u001b[0m \u001b[1m2s\u001b[0m 0us/step\n"
          ]
        }
      ]
    },
    {
      "cell_type": "code",
      "source": [
        "base_model.trainable = True\n",
        "\n",
        "# Flag to start fine-tuning\n",
        "set_trainable = False\n",
        "\n",
        "# Unfreeze layers from a specific point onwards\n",
        "for layer in base_model.layers:\n",
        "    if layer.name == 'block6a_expand_conv':  # You can change this layer to whichever layer you want to unfreeze\n",
        "        set_trainable = True\n",
        "    if set_trainable:\n",
        "        layer.trainable = True\n",
        "    else:\n",
        "        layer.trainable = False"
      ],
      "metadata": {
        "id": "UJBd5CkEVwJ7"
      },
      "id": "UJBd5CkEVwJ7",
      "execution_count": null,
      "outputs": []
    },
    {
      "cell_type": "code",
      "source": [
        "EfficientNetB6_model = Sequential([\n",
        "    tf.keras.layers.InputLayer(input_shape=img_shape),\n",
        "    base_model,\n",
        "    Flatten(),\n",
        "    Dropout(rate=0.3),\n",
        "    Dense(128, activation='relu'),\n",
        "    Dropout(rate=0.25),\n",
        "    Dense(4, activation='softmax')\n",
        "])\n",
        "\n",
        "EfficientNetB6_model.compile(\n",
        "    Adamax(learning_rate=0.001),\n",
        "    loss='categorical_crossentropy',\n",
        "    metrics=['accuracy']\n",
        ")\n",
        "\n",
        "EfficientNetB6_model.summary()"
      ],
      "metadata": {
        "colab": {
          "base_uri": "https://localhost:8080/",
          "height": 321
        },
        "id": "2uX5QgKDYl2s",
        "outputId": "9e2bd96f-a283-4671-a916-eff0ecca14b6"
      },
      "id": "2uX5QgKDYl2s",
      "execution_count": null,
      "outputs": [
        {
          "output_type": "display_data",
          "data": {
            "text/plain": [
              "\u001b[1mModel: \"sequential_1\"\u001b[0m\n"
            ],
            "text/html": [
              "<pre style=\"white-space:pre;overflow-x:auto;line-height:normal;font-family:Menlo,'DejaVu Sans Mono',consolas,'Courier New',monospace\"><span style=\"font-weight: bold\">Model: \"sequential_1\"</span>\n",
              "</pre>\n"
            ]
          },
          "metadata": {}
        },
        {
          "output_type": "display_data",
          "data": {
            "text/plain": [
              "┏━━━━━━━━━━━━━━━━━━━━━━━━━━━━━━━━━┳━━━━━━━━━━━━━━━━━━━━━━━━┳━━━━━━━━━━━━━━━┓\n",
              "┃\u001b[1m \u001b[0m\u001b[1mLayer (type)                   \u001b[0m\u001b[1m \u001b[0m┃\u001b[1m \u001b[0m\u001b[1mOutput Shape          \u001b[0m\u001b[1m \u001b[0m┃\u001b[1m \u001b[0m\u001b[1m      Param #\u001b[0m\u001b[1m \u001b[0m┃\n",
              "┡━━━━━━━━━━━━━━━━━━━━━━━━━━━━━━━━━╇━━━━━━━━━━━━━━━━━━━━━━━━╇━━━━━━━━━━━━━━━┩\n",
              "│ efficientnetb6 (\u001b[38;5;33mFunctional\u001b[0m)     │ (\u001b[38;5;45mNone\u001b[0m, \u001b[38;5;34m2304\u001b[0m)           │    \u001b[38;5;34m40,960,143\u001b[0m │\n",
              "├─────────────────────────────────┼────────────────────────┼───────────────┤\n",
              "│ flatten_1 (\u001b[38;5;33mFlatten\u001b[0m)             │ (\u001b[38;5;45mNone\u001b[0m, \u001b[38;5;34m2304\u001b[0m)           │             \u001b[38;5;34m0\u001b[0m │\n",
              "├─────────────────────────────────┼────────────────────────┼───────────────┤\n",
              "│ dropout_2 (\u001b[38;5;33mDropout\u001b[0m)             │ (\u001b[38;5;45mNone\u001b[0m, \u001b[38;5;34m2304\u001b[0m)           │             \u001b[38;5;34m0\u001b[0m │\n",
              "├─────────────────────────────────┼────────────────────────┼───────────────┤\n",
              "│ dense_2 (\u001b[38;5;33mDense\u001b[0m)                 │ (\u001b[38;5;45mNone\u001b[0m, \u001b[38;5;34m128\u001b[0m)            │       \u001b[38;5;34m295,040\u001b[0m │\n",
              "├─────────────────────────────────┼────────────────────────┼───────────────┤\n",
              "│ dropout_3 (\u001b[38;5;33mDropout\u001b[0m)             │ (\u001b[38;5;45mNone\u001b[0m, \u001b[38;5;34m128\u001b[0m)            │             \u001b[38;5;34m0\u001b[0m │\n",
              "├─────────────────────────────────┼────────────────────────┼───────────────┤\n",
              "│ dense_3 (\u001b[38;5;33mDense\u001b[0m)                 │ (\u001b[38;5;45mNone\u001b[0m, \u001b[38;5;34m4\u001b[0m)              │           \u001b[38;5;34m516\u001b[0m │\n",
              "└─────────────────────────────────┴────────────────────────┴───────────────┘\n"
            ],
            "text/html": [
              "<pre style=\"white-space:pre;overflow-x:auto;line-height:normal;font-family:Menlo,'DejaVu Sans Mono',consolas,'Courier New',monospace\">┏━━━━━━━━━━━━━━━━━━━━━━━━━━━━━━━━━┳━━━━━━━━━━━━━━━━━━━━━━━━┳━━━━━━━━━━━━━━━┓\n",
              "┃<span style=\"font-weight: bold\"> Layer (type)                    </span>┃<span style=\"font-weight: bold\"> Output Shape           </span>┃<span style=\"font-weight: bold\">       Param # </span>┃\n",
              "┡━━━━━━━━━━━━━━━━━━━━━━━━━━━━━━━━━╇━━━━━━━━━━━━━━━━━━━━━━━━╇━━━━━━━━━━━━━━━┩\n",
              "│ efficientnetb6 (<span style=\"color: #0087ff; text-decoration-color: #0087ff\">Functional</span>)     │ (<span style=\"color: #00d7ff; text-decoration-color: #00d7ff\">None</span>, <span style=\"color: #00af00; text-decoration-color: #00af00\">2304</span>)           │    <span style=\"color: #00af00; text-decoration-color: #00af00\">40,960,143</span> │\n",
              "├─────────────────────────────────┼────────────────────────┼───────────────┤\n",
              "│ flatten_1 (<span style=\"color: #0087ff; text-decoration-color: #0087ff\">Flatten</span>)             │ (<span style=\"color: #00d7ff; text-decoration-color: #00d7ff\">None</span>, <span style=\"color: #00af00; text-decoration-color: #00af00\">2304</span>)           │             <span style=\"color: #00af00; text-decoration-color: #00af00\">0</span> │\n",
              "├─────────────────────────────────┼────────────────────────┼───────────────┤\n",
              "│ dropout_2 (<span style=\"color: #0087ff; text-decoration-color: #0087ff\">Dropout</span>)             │ (<span style=\"color: #00d7ff; text-decoration-color: #00d7ff\">None</span>, <span style=\"color: #00af00; text-decoration-color: #00af00\">2304</span>)           │             <span style=\"color: #00af00; text-decoration-color: #00af00\">0</span> │\n",
              "├─────────────────────────────────┼────────────────────────┼───────────────┤\n",
              "│ dense_2 (<span style=\"color: #0087ff; text-decoration-color: #0087ff\">Dense</span>)                 │ (<span style=\"color: #00d7ff; text-decoration-color: #00d7ff\">None</span>, <span style=\"color: #00af00; text-decoration-color: #00af00\">128</span>)            │       <span style=\"color: #00af00; text-decoration-color: #00af00\">295,040</span> │\n",
              "├─────────────────────────────────┼────────────────────────┼───────────────┤\n",
              "│ dropout_3 (<span style=\"color: #0087ff; text-decoration-color: #0087ff\">Dropout</span>)             │ (<span style=\"color: #00d7ff; text-decoration-color: #00d7ff\">None</span>, <span style=\"color: #00af00; text-decoration-color: #00af00\">128</span>)            │             <span style=\"color: #00af00; text-decoration-color: #00af00\">0</span> │\n",
              "├─────────────────────────────────┼────────────────────────┼───────────────┤\n",
              "│ dense_3 (<span style=\"color: #0087ff; text-decoration-color: #0087ff\">Dense</span>)                 │ (<span style=\"color: #00d7ff; text-decoration-color: #00d7ff\">None</span>, <span style=\"color: #00af00; text-decoration-color: #00af00\">4</span>)              │           <span style=\"color: #00af00; text-decoration-color: #00af00\">516</span> │\n",
              "└─────────────────────────────────┴────────────────────────┴───────────────┘\n",
              "</pre>\n"
            ]
          },
          "metadata": {}
        },
        {
          "output_type": "display_data",
          "data": {
            "text/plain": [
              "\u001b[1m Total params: \u001b[0m\u001b[38;5;34m41,255,699\u001b[0m (157.38 MB)\n"
            ],
            "text/html": [
              "<pre style=\"white-space:pre;overflow-x:auto;line-height:normal;font-family:Menlo,'DejaVu Sans Mono',consolas,'Courier New',monospace\"><span style=\"font-weight: bold\"> Total params: </span><span style=\"color: #00af00; text-decoration-color: #00af00\">41,255,699</span> (157.38 MB)\n",
              "</pre>\n"
            ]
          },
          "metadata": {}
        },
        {
          "output_type": "display_data",
          "data": {
            "text/plain": [
              "\u001b[1m Trainable params: \u001b[0m\u001b[38;5;34m33,150,808\u001b[0m (126.46 MB)\n"
            ],
            "text/html": [
              "<pre style=\"white-space:pre;overflow-x:auto;line-height:normal;font-family:Menlo,'DejaVu Sans Mono',consolas,'Courier New',monospace\"><span style=\"font-weight: bold\"> Trainable params: </span><span style=\"color: #00af00; text-decoration-color: #00af00\">33,150,808</span> (126.46 MB)\n",
              "</pre>\n"
            ]
          },
          "metadata": {}
        },
        {
          "output_type": "display_data",
          "data": {
            "text/plain": [
              "\u001b[1m Non-trainable params: \u001b[0m\u001b[38;5;34m8,104,891\u001b[0m (30.92 MB)\n"
            ],
            "text/html": [
              "<pre style=\"white-space:pre;overflow-x:auto;line-height:normal;font-family:Menlo,'DejaVu Sans Mono',consolas,'Courier New',monospace\"><span style=\"font-weight: bold\"> Non-trainable params: </span><span style=\"color: #00af00; text-decoration-color: #00af00\">8,104,891</span> (30.92 MB)\n",
              "</pre>\n"
            ]
          },
          "metadata": {}
        }
      ]
    },
    {
      "cell_type": "code",
      "source": [
        "# List all available physical devices\n",
        "physical_devices = tf.config.list_physical_devices('GPU')\n",
        "\n",
        "if physical_devices:\n",
        "    print(\"GPU is available:\")\n",
        "    for device in physical_devices:\n",
        "        print(f\"  - {device}\")\n",
        "else:\n",
        "    print(\"GPU is NOT available. Using CPU.\")\n",
        "\n",
        "from tensorflow.python.client import device_lib\n",
        "\n",
        "# Print available devices\n",
        "print(\"Available devices:\")\n",
        "for device in device_lib.list_local_devices():\n",
        "    print(f\"  - {device.name} ({device.device_type})\")"
      ],
      "metadata": {
        "colab": {
          "base_uri": "https://localhost:8080/"
        },
        "id": "m7SjXfuSY-sZ",
        "outputId": "03154e0a-735a-4709-b1b8-6c4d9927ae35"
      },
      "id": "m7SjXfuSY-sZ",
      "execution_count": null,
      "outputs": [
        {
          "output_type": "stream",
          "name": "stdout",
          "text": [
            "GPU is available:\n",
            "  - PhysicalDevice(name='/physical_device:GPU:0', device_type='GPU')\n",
            "Available devices:\n",
            "  - /device:CPU:0 (CPU)\n",
            "  - /device:GPU:0 (GPU)\n"
          ]
        }
      ]
    },
    {
      "cell_type": "code",
      "source": [
        "# Move the model to the GPU if available\n",
        "with tf.device('/GPU:0'): # Or '/GPU:1' etc. if you have multiple GPUs. If no GPU, defaults to CPU.\n",
        "    early_stopping = EarlyStopping(\n",
        "        monitor='val_loss',\n",
        "        patience=3,\n",
        "        mode='min',\n",
        "        restore_best_weights=True,\n",
        "        verbose=1\n",
        "    )\n",
        "    history = EfficientNetB6_model.fit(\n",
        "        train,\n",
        "        epochs=50,\n",
        "        validation_data=val,\n",
        "        callbacks=[early_stopping, annealer]\n",
        "    )\n"
      ],
      "metadata": {
        "colab": {
          "base_uri": "https://localhost:8080/"
        },
        "id": "VuWC24-tZCVx",
        "outputId": "f88e1329-47c9-43ad-a7b2-4adc2a16508a"
      },
      "id": "VuWC24-tZCVx",
      "execution_count": null,
      "outputs": [
        {
          "output_type": "stream",
          "name": "stdout",
          "text": [
            "Epoch 1/50\n",
            "\u001b[1m125/125\u001b[0m \u001b[32m━━━━━━━━━━━━━━━━━━━━\u001b[0m\u001b[37m\u001b[0m \u001b[1m228s\u001b[0m 986ms/step - accuracy: 0.3782 - loss: 2.4944 - val_accuracy: 0.4530 - val_loss: 1.2238 - learning_rate: 0.0010\n",
            "Epoch 2/50\n",
            "\u001b[1m125/125\u001b[0m \u001b[32m━━━━━━━━━━━━━━━━━━━━\u001b[0m\u001b[37m\u001b[0m \u001b[1m77s\u001b[0m 405ms/step - accuracy: 0.5738 - loss: 0.9501 - val_accuracy: 0.6320 - val_loss: 0.8170 - learning_rate: 9.5000e-04\n",
            "Epoch 3/50\n",
            "\u001b[1m125/125\u001b[0m \u001b[32m━━━━━━━━━━━━━━━━━━━━\u001b[0m\u001b[37m\u001b[0m \u001b[1m52s\u001b[0m 414ms/step - accuracy: 0.6401 - loss: 0.8148 - val_accuracy: 0.6800 - val_loss: 0.7145 - learning_rate: 9.0250e-04\n",
            "Epoch 4/50\n",
            "\u001b[1m125/125\u001b[0m \u001b[32m━━━━━━━━━━━━━━━━━━━━\u001b[0m\u001b[37m\u001b[0m \u001b[1m56s\u001b[0m 445ms/step - accuracy: 0.6708 - loss: 0.7406 - val_accuracy: 0.7300 - val_loss: 0.6272 - learning_rate: 8.5737e-04\n",
            "Epoch 5/50\n",
            "\u001b[1m125/125\u001b[0m \u001b[32m━━━━━━━━━━━━━━━━━━━━\u001b[0m\u001b[37m\u001b[0m \u001b[1m53s\u001b[0m 419ms/step - accuracy: 0.7003 - loss: 0.6862 - val_accuracy: 0.7620 - val_loss: 0.5670 - learning_rate: 8.1451e-04\n",
            "Epoch 6/50\n",
            "\u001b[1m125/125\u001b[0m \u001b[32m━━━━━━━━━━━━━━━━━━━━\u001b[0m\u001b[37m\u001b[0m \u001b[1m52s\u001b[0m 419ms/step - accuracy: 0.7467 - loss: 0.5828 - val_accuracy: 0.7520 - val_loss: 0.5907 - learning_rate: 7.7378e-04\n",
            "Epoch 7/50\n",
            "\u001b[1m125/125\u001b[0m \u001b[32m━━━━━━━━━━━━━━━━━━━━\u001b[0m\u001b[37m\u001b[0m \u001b[1m53s\u001b[0m 420ms/step - accuracy: 0.7748 - loss: 0.5301 - val_accuracy: 0.7850 - val_loss: 0.5154 - learning_rate: 7.3509e-04\n",
            "Epoch 8/50\n",
            "\u001b[1m125/125\u001b[0m \u001b[32m━━━━━━━━━━━━━━━━━━━━\u001b[0m\u001b[37m\u001b[0m \u001b[1m53s\u001b[0m 421ms/step - accuracy: 0.7951 - loss: 0.4911 - val_accuracy: 0.8130 - val_loss: 0.4876 - learning_rate: 6.9834e-04\n",
            "Epoch 9/50\n",
            "\u001b[1m125/125\u001b[0m \u001b[32m━━━━━━━━━━━━━━━━━━━━\u001b[0m\u001b[37m\u001b[0m \u001b[1m53s\u001b[0m 422ms/step - accuracy: 0.7971 - loss: 0.4763 - val_accuracy: 0.8220 - val_loss: 0.4809 - learning_rate: 6.6342e-04\n",
            "Epoch 10/50\n",
            "\u001b[1m125/125\u001b[0m \u001b[32m━━━━━━━━━━━━━━━━━━━━\u001b[0m\u001b[37m\u001b[0m \u001b[1m53s\u001b[0m 420ms/step - accuracy: 0.8583 - loss: 0.3514 - val_accuracy: 0.8380 - val_loss: 0.4270 - learning_rate: 6.3025e-04\n",
            "Epoch 11/50\n",
            "\u001b[1m125/125\u001b[0m \u001b[32m━━━━━━━━━━━━━━━━━━━━\u001b[0m\u001b[37m\u001b[0m \u001b[1m53s\u001b[0m 422ms/step - accuracy: 0.8644 - loss: 0.3472 - val_accuracy: 0.8340 - val_loss: 0.4105 - learning_rate: 5.9874e-04\n",
            "Epoch 12/50\n",
            "\u001b[1m125/125\u001b[0m \u001b[32m━━━━━━━━━━━━━━━━━━━━\u001b[0m\u001b[37m\u001b[0m \u001b[1m53s\u001b[0m 422ms/step - accuracy: 0.8800 - loss: 0.2982 - val_accuracy: 0.8530 - val_loss: 0.3922 - learning_rate: 5.6880e-04\n",
            "Epoch 13/50\n",
            "\u001b[1m125/125\u001b[0m \u001b[32m━━━━━━━━━━━━━━━━━━━━\u001b[0m\u001b[37m\u001b[0m \u001b[1m52s\u001b[0m 419ms/step - accuracy: 0.8993 - loss: 0.2535 - val_accuracy: 0.8650 - val_loss: 0.4178 - learning_rate: 5.4036e-04\n",
            "Epoch 14/50\n",
            "\u001b[1m125/125\u001b[0m \u001b[32m━━━━━━━━━━━━━━━━━━━━\u001b[0m\u001b[37m\u001b[0m \u001b[1m53s\u001b[0m 422ms/step - accuracy: 0.9130 - loss: 0.2215 - val_accuracy: 0.8700 - val_loss: 0.3761 - learning_rate: 5.1334e-04\n",
            "Epoch 15/50\n",
            "\u001b[1m125/125\u001b[0m \u001b[32m━━━━━━━━━━━━━━━━━━━━\u001b[0m\u001b[37m\u001b[0m \u001b[1m56s\u001b[0m 448ms/step - accuracy: 0.9160 - loss: 0.2243 - val_accuracy: 0.8800 - val_loss: 0.3962 - learning_rate: 4.8767e-04\n",
            "Epoch 16/50\n",
            "\u001b[1m125/125\u001b[0m \u001b[32m━━━━━━━━━━━━━━━━━━━━\u001b[0m\u001b[37m\u001b[0m \u001b[1m52s\u001b[0m 418ms/step - accuracy: 0.9313 - loss: 0.1824 - val_accuracy: 0.8860 - val_loss: 0.3792 - learning_rate: 4.6329e-04\n",
            "Epoch 17/50\n",
            "\u001b[1m125/125\u001b[0m \u001b[32m━━━━━━━━━━━━━━━━━━━━\u001b[0m\u001b[37m\u001b[0m \u001b[1m52s\u001b[0m 418ms/step - accuracy: 0.9344 - loss: 0.1757 - val_accuracy: 0.8740 - val_loss: 0.3932 - learning_rate: 4.4013e-04\n",
            "Epoch 17: early stopping\n",
            "Restoring model weights from the end of the best epoch: 14.\n"
          ]
        }
      ]
    },
    {
      "cell_type": "code",
      "source": [
        "train_loss, train_accuracy =  EfficientNetB6_model.evaluate(train)\n",
        "print(f'\\nTrain loss: {train_loss:.2f}')\n",
        "print(f'Train Accuracy: {train_accuracy*100:.2f} %')\n",
        "\n",
        "val_loss, val_accuracy =  EfficientNetB6_model.evaluate(val)\n",
        "print(f'\\nvalidation loss: {val_loss:.2f}')\n",
        "print(f'Validation Accuracy: {val_accuracy*100:.2f} %')\n",
        "\n",
        "test_loss, test_accuracy =  EfficientNetB6_model.evaluate(test)\n",
        "print(f'\\ntest loss: {test_loss:.2f}')\n",
        "print(f'test Accuracy: {test_accuracy*100:.2f} %')"
      ],
      "metadata": {
        "colab": {
          "base_uri": "https://localhost:8080/"
        },
        "id": "48lRz-W7ZGQj",
        "outputId": "3f1f02da-57ac-4c28-c4bd-d6533c386ac6"
      },
      "id": "48lRz-W7ZGQj",
      "execution_count": null,
      "outputs": [
        {
          "output_type": "stream",
          "name": "stdout",
          "text": [
            "\u001b[1m125/125\u001b[0m \u001b[32m━━━━━━━━━━━━━━━━━━━━\u001b[0m\u001b[37m\u001b[0m \u001b[1m34s\u001b[0m 269ms/step - accuracy: 0.9832 - loss: 0.0557\n",
            "\n",
            "Train loss: 0.05\n",
            "Train Accuracy: 98.50 %\n",
            "\u001b[1m32/32\u001b[0m \u001b[32m━━━━━━━━━━━━━━━━━━━━\u001b[0m\u001b[37m\u001b[0m \u001b[1m7s\u001b[0m 205ms/step - accuracy: 0.8755 - loss: 0.3648\n",
            "\n",
            "validation loss: 0.38\n",
            "Validation Accuracy: 87.00 %\n",
            "\u001b[1m27/27\u001b[0m \u001b[32m━━━━━━━━━━━━━━━━━━━━\u001b[0m\u001b[37m\u001b[0m \u001b[1m13s\u001b[0m 495ms/step - accuracy: 0.9423 - loss: 0.1845\n",
            "\n",
            "test loss: 0.35\n",
            "test Accuracy: 88.64 %\n"
          ]
        }
      ]
    },
    {
      "cell_type": "code",
      "source": [
        "result = EfficientNetB6_model.evaluate(test, verbose=1)\n",
        "print(result)"
      ],
      "metadata": {
        "colab": {
          "base_uri": "https://localhost:8080/"
        },
        "id": "rDxNz8vnZM5N",
        "outputId": "5eed6ba7-aa31-429e-f96d-fa3d614e16f4"
      },
      "id": "rDxNz8vnZM5N",
      "execution_count": null,
      "outputs": [
        {
          "output_type": "stream",
          "name": "stdout",
          "text": [
            "\u001b[1m27/27\u001b[0m \u001b[32m━━━━━━━━━━━━━━━━━━━━\u001b[0m\u001b[37m\u001b[0m \u001b[1m6s\u001b[0m 197ms/step - accuracy: 0.9423 - loss: 0.1845\n",
            "[0.35138556361198425, 0.8863636255264282]\n"
          ]
        }
      ]
    },
    {
      "cell_type": "code",
      "source": [
        "plt.plot(history.history['accuracy'])\n",
        "plt.plot(history.history['val_accuracy'])\n",
        "plt.title('model accuracy')\n",
        "plt.ylabel('accuracy')\n",
        "plt.xlabel('epoch')\n",
        "plt.legend(['train', 'val'], loc='upper left')\n",
        "plt.show()"
      ],
      "metadata": {
        "colab": {
          "base_uri": "https://localhost:8080/",
          "height": 472
        },
        "id": "3PtCNgFBZPvT",
        "outputId": "81668e44-d7f6-4895-8650-e3353245788f"
      },
      "id": "3PtCNgFBZPvT",
      "execution_count": null,
      "outputs": [
        {
          "output_type": "display_data",
          "data": {
            "text/plain": [
              "<Figure size 640x480 with 1 Axes>"
            ],
            "image/png": "[encoded data removed]"
          },
          "metadata": {}
        }
      ]
    },
    {
      "cell_type": "code",
      "source": [
        "plt.plot(history.history['loss'])\n",
        "plt.plot(history.history['val_loss'])\n",
        "plt.title('model loss')\n",
        "plt.ylabel('loss')\n",
        "plt.xlabel('epoch')\n",
        "plt.legend(['train', 'val'], loc='upper left')\n",
        "plt.show()"
      ],
      "metadata": {
        "colab": {
          "base_uri": "https://localhost:8080/",
          "height": 472
        },
        "id": "mSHSH7-NZSXc",
        "outputId": "b7bcbee7-f914-4661-97c7-315582b4576b"
      },
      "id": "mSHSH7-NZSXc",
      "execution_count": null,
      "outputs": [
        {
          "output_type": "display_data",
          "data": {
            "text/plain": [
              "<Figure size 640x480 with 1 Axes>"
            ],
            "image/png": "[encoded data removed]"
          },
          "metadata": {}
        }
      ]
    },
    {
      "cell_type": "code",
      "source": [
        "from sklearn.metrics import confusion_matrix, accuracy_score\n",
        "\n",
        "test_hat =  EfficientNetB6_model.predict(test)\n",
        "test_hat = np.argmax(test_hat, axis=1)\n",
        "\n",
        "labels = (train.class_indices)\n",
        "labels = dict((v,k) for k,v in labels.items())\n",
        "pred_report = [labels[k] for k in test_hat]\n",
        "\n",
        "y_test = test_images.labels\n",
        "print(classification_report(y_test, pred_report))\n",
        "print(\"Accuracy of the Model:\",\"{:.1f}%\".format(accuracy_score(y_test, pred_report)*100))"
      ],
      "metadata": {
        "colab": {
          "base_uri": "https://localhost:8080/"
        },
        "id": "ITHCoTl2ZWJo",
        "outputId": "e05ea0b5-cee9-4543-a206-2b316261134b"
      },
      "id": "ITHCoTl2ZWJo",
      "execution_count": null,
      "outputs": [
        {
          "output_type": "stream",
          "name": "stdout",
          "text": [
            "\u001b[1m27/27\u001b[0m \u001b[32m━━━━━━━━━━━━━━━━━━━━\u001b[0m\u001b[37m\u001b[0m \u001b[1m34s\u001b[0m 760ms/step\n",
            "                  precision    recall  f1-score   support\n",
            "\n",
            "    MildDemented       0.88      0.95      0.92       244\n",
            "ModerateDemented       1.00      0.98      0.99       168\n",
            "     NonDemented       0.85      0.90      0.87       261\n",
            "VeryMildDemented       0.83      0.67      0.74       163\n",
            "\n",
            "        accuracy                           0.89       836\n",
            "       macro avg       0.89      0.88      0.88       836\n",
            "    weighted avg       0.89      0.89      0.88       836\n",
            "\n",
            "Accuracy of the Model: 88.6%\n"
          ]
        }
      ]
    },
    {
      "cell_type": "markdown",
      "source": [
        "# EfficientNetB5"
      ],
      "metadata": {
        "id": "ZKO0baE5ZjJK"
      },
      "id": "ZKO0baE5ZjJK"
    },
    {
      "cell_type": "code",
      "source": [
        "from tensorflow.keras.optimizers import Adamax\n",
        "from tensorflow.keras.applications import EfficientNetB5\n",
        "\n",
        "# Define input image shape\n",
        "img_shape = (244, 244, 3)\n",
        "\n",
        "# Load the pre-trained EfficientNetB5 model without the top classification layer\n",
        "base_model = EfficientNetB5(\n",
        "    include_top=False,         # Do not include the top classification layer\n",
        "    weights=\"imagenet\",        # Use pre-trained ImageNet weights\n",
        "    input_shape=img_shape,     # Input shape\n",
        "    pooling='max'              # Global max pooling after conv base\n",
        ")"
      ],
      "metadata": {
        "colab": {
          "base_uri": "https://localhost:8080/"
        },
        "id": "NApF_Eh-ZYRE",
        "outputId": "62987dd1-c779-44f9-c1b9-74d11dc499d6"
      },
      "id": "NApF_Eh-ZYRE",
      "execution_count": null,
      "outputs": [
        {
          "output_type": "stream",
          "name": "stdout",
          "text": [
            "Downloading data from https://storage.googleapis.com/keras-applications/efficientnetb5_notop.h5\n",
            "\u001b[1m115263384/115263384\u001b[0m \u001b[32m━━━━━━━━━━━━━━━━━━━━\u001b[0m\u001b[37m\u001b[0m \u001b[1m0s\u001b[0m 0us/step\n"
          ]
        }
      ]
    },
    {
      "cell_type": "code",
      "source": [
        "base_model.trainable = True\n",
        "\n",
        "# Flag to start fine-tuning\n",
        "set_trainable = False\n",
        "\n",
        "# Unfreeze layers from a specific point onwards\n",
        "for layer in base_model.layers:\n",
        "    if layer.name == 'block6a_expand_conv':  # You can change this layer to whichever layer you want to unfreeze\n",
        "        set_trainable = True\n",
        "    if set_trainable:\n",
        "        layer.trainable = True\n",
        "    else:\n",
        "        layer.trainable = False"
      ],
      "metadata": {
        "id": "IIC8sRGhZ8__"
      },
      "id": "IIC8sRGhZ8__",
      "execution_count": null,
      "outputs": []
    },
    {
      "cell_type": "code",
      "source": [
        "EfficientNetB5_model = Sequential([\n",
        "    tf.keras.layers.InputLayer(input_shape=img_shape),\n",
        "    base_model,\n",
        "    Flatten(),\n",
        "    Dropout(rate=0.3),\n",
        "    Dense(128, activation='relu'),\n",
        "    Dropout(rate=0.25),\n",
        "    Dense(4, activation='softmax')\n",
        "])\n",
        "\n",
        "EfficientNetB5_model.compile(\n",
        "    Adamax(learning_rate=0.001),\n",
        "    loss='categorical_crossentropy',\n",
        "    metrics=['accuracy']\n",
        ")\n",
        "\n",
        "EfficientNetB5_model.summary()"
      ],
      "metadata": {
        "colab": {
          "base_uri": "https://localhost:8080/",
          "height": 321
        },
        "id": "wysSAu7vZ-O4",
        "outputId": "a0c971ec-f890-40df-d719-3ad24888271e"
      },
      "id": "wysSAu7vZ-O4",
      "execution_count": null,
      "outputs": [
        {
          "output_type": "display_data",
          "data": {
            "text/plain": [
              "\u001b[1mModel: \"sequential\"\u001b[0m\n"
            ],
            "text/html": [
              "<pre style=\"white-space:pre;overflow-x:auto;line-height:normal;font-family:Menlo,'DejaVu Sans Mono',consolas,'Courier New',monospace\"><span style=\"font-weight: bold\">Model: \"sequential\"</span>\n",
              "</pre>\n"
            ]
          },
          "metadata": {}
        },
        {
          "output_type": "display_data",
          "data": {
            "text/plain": [
              "┏━━━━━━━━━━━━━━━━━━━━━━━━━━━━━━━━━┳━━━━━━━━━━━━━━━━━━━━━━━━┳━━━━━━━━━━━━━━━┓\n",
              "┃\u001b[1m \u001b[0m\u001b[1mLayer (type)                   \u001b[0m\u001b[1m \u001b[0m┃\u001b[1m \u001b[0m\u001b[1mOutput Shape          \u001b[0m\u001b[1m \u001b[0m┃\u001b[1m \u001b[0m\u001b[1m      Param #\u001b[0m\u001b[1m \u001b[0m┃\n",
              "┡━━━━━━━━━━━━━━━━━━━━━━━━━━━━━━━━━╇━━━━━━━━━━━━━━━━━━━━━━━━╇━━━━━━━━━━━━━━━┩\n",
              "│ efficientnetb5 (\u001b[38;5;33mFunctional\u001b[0m)     │ (\u001b[38;5;45mNone\u001b[0m, \u001b[38;5;34m2048\u001b[0m)           │    \u001b[38;5;34m28,513,527\u001b[0m │\n",
              "├─────────────────────────────────┼────────────────────────┼───────────────┤\n",
              "│ flatten (\u001b[38;5;33mFlatten\u001b[0m)               │ (\u001b[38;5;45mNone\u001b[0m, \u001b[38;5;34m2048\u001b[0m)           │             \u001b[38;5;34m0\u001b[0m │\n",
              "├─────────────────────────────────┼────────────────────────┼───────────────┤\n",
              "│ dropout (\u001b[38;5;33mDropout\u001b[0m)               │ (\u001b[38;5;45mNone\u001b[0m, \u001b[38;5;34m2048\u001b[0m)           │             \u001b[38;5;34m0\u001b[0m │\n",
              "├─────────────────────────────────┼────────────────────────┼───────────────┤\n",
              "│ dense (\u001b[38;5;33mDense\u001b[0m)                   │ (\u001b[38;5;45mNone\u001b[0m, \u001b[38;5;34m128\u001b[0m)            │       \u001b[38;5;34m262,272\u001b[0m │\n",
              "├─────────────────────────────────┼────────────────────────┼───────────────┤\n",
              "│ dropout_1 (\u001b[38;5;33mDropout\u001b[0m)             │ (\u001b[38;5;45mNone\u001b[0m, \u001b[38;5;34m128\u001b[0m)            │             \u001b[38;5;34m0\u001b[0m │\n",
              "├─────────────────────────────────┼────────────────────────┼───────────────┤\n",
              "│ dense_1 (\u001b[38;5;33mDense\u001b[0m)                 │ (\u001b[38;5;45mNone\u001b[0m, \u001b[38;5;34m4\u001b[0m)              │           \u001b[38;5;34m516\u001b[0m │\n",
              "└─────────────────────────────────┴────────────────────────┴───────────────┘\n"
            ],
            "text/html": [
              "<pre style=\"white-space:pre;overflow-x:auto;line-height:normal;font-family:Menlo,'DejaVu Sans Mono',consolas,'Courier New',monospace\">┏━━━━━━━━━━━━━━━━━━━━━━━━━━━━━━━━━┳━━━━━━━━━━━━━━━━━━━━━━━━┳━━━━━━━━━━━━━━━┓\n",
              "┃<span style=\"font-weight: bold\"> Layer (type)                    </span>┃<span style=\"font-weight: bold\"> Output Shape           </span>┃<span style=\"font-weight: bold\">       Param # </span>┃\n",
              "┡━━━━━━━━━━━━━━━━━━━━━━━━━━━━━━━━━╇━━━━━━━━━━━━━━━━━━━━━━━━╇━━━━━━━━━━━━━━━┩\n",
              "│ efficientnetb5 (<span style=\"color: #0087ff; text-decoration-color: #0087ff\">Functional</span>)     │ (<span style=\"color: #00d7ff; text-decoration-color: #00d7ff\">None</span>, <span style=\"color: #00af00; text-decoration-color: #00af00\">2048</span>)           │    <span style=\"color: #00af00; text-decoration-color: #00af00\">28,513,527</span> │\n",
              "├─────────────────────────────────┼────────────────────────┼───────────────┤\n",
              "│ flatten (<span style=\"color: #0087ff; text-decoration-color: #0087ff\">Flatten</span>)               │ (<span style=\"color: #00d7ff; text-decoration-color: #00d7ff\">None</span>, <span style=\"color: #00af00; text-decoration-color: #00af00\">2048</span>)           │             <span style=\"color: #00af00; text-decoration-color: #00af00\">0</span> │\n",
              "├─────────────────────────────────┼────────────────────────┼───────────────┤\n",
              "│ dropout (<span style=\"color: #0087ff; text-decoration-color: #0087ff\">Dropout</span>)               │ (<span style=\"color: #00d7ff; text-decoration-color: #00d7ff\">None</span>, <span style=\"color: #00af00; text-decoration-color: #00af00\">2048</span>)           │             <span style=\"color: #00af00; text-decoration-color: #00af00\">0</span> │\n",
              "├─────────────────────────────────┼────────────────────────┼───────────────┤\n",
              "│ dense (<span style=\"color: #0087ff; text-decoration-color: #0087ff\">Dense</span>)                   │ (<span style=\"color: #00d7ff; text-decoration-color: #00d7ff\">None</span>, <span style=\"color: #00af00; text-decoration-color: #00af00\">128</span>)            │       <span style=\"color: #00af00; text-decoration-color: #00af00\">262,272</span> │\n",
              "├─────────────────────────────────┼────────────────────────┼───────────────┤\n",
              "│ dropout_1 (<span style=\"color: #0087ff; text-decoration-color: #0087ff\">Dropout</span>)             │ (<span style=\"color: #00d7ff; text-decoration-color: #00d7ff\">None</span>, <span style=\"color: #00af00; text-decoration-color: #00af00\">128</span>)            │             <span style=\"color: #00af00; text-decoration-color: #00af00\">0</span> │\n",
              "├─────────────────────────────────┼────────────────────────┼───────────────┤\n",
              "│ dense_1 (<span style=\"color: #0087ff; text-decoration-color: #0087ff\">Dense</span>)                 │ (<span style=\"color: #00d7ff; text-decoration-color: #00d7ff\">None</span>, <span style=\"color: #00af00; text-decoration-color: #00af00\">4</span>)              │           <span style=\"color: #00af00; text-decoration-color: #00af00\">516</span> │\n",
              "└─────────────────────────────────┴────────────────────────┴───────────────┘\n",
              "</pre>\n"
            ]
          },
          "metadata": {}
        },
        {
          "output_type": "display_data",
          "data": {
            "text/plain": [
              "\u001b[1m Total params: \u001b[0m\u001b[38;5;34m28,776,315\u001b[0m (109.77 MB)\n"
            ],
            "text/html": [
              "<pre style=\"white-space:pre;overflow-x:auto;line-height:normal;font-family:Menlo,'DejaVu Sans Mono',consolas,'Courier New',monospace\"><span style=\"font-weight: bold\"> Total params: </span><span style=\"color: #00af00; text-decoration-color: #00af00\">28,776,315</span> (109.77 MB)\n",
              "</pre>\n"
            ]
          },
          "metadata": {}
        },
        {
          "output_type": "display_data",
          "data": {
            "text/plain": [
              "\u001b[1m Trainable params: \u001b[0m\u001b[38;5;34m23,225,660\u001b[0m (88.60 MB)\n"
            ],
            "text/html": [
              "<pre style=\"white-space:pre;overflow-x:auto;line-height:normal;font-family:Menlo,'DejaVu Sans Mono',consolas,'Courier New',monospace\"><span style=\"font-weight: bold\"> Trainable params: </span><span style=\"color: #00af00; text-decoration-color: #00af00\">23,225,660</span> (88.60 MB)\n",
              "</pre>\n"
            ]
          },
          "metadata": {}
        },
        {
          "output_type": "display_data",
          "data": {
            "text/plain": [
              "\u001b[1m Non-trainable params: \u001b[0m\u001b[38;5;34m5,550,655\u001b[0m (21.17 MB)\n"
            ],
            "text/html": [
              "<pre style=\"white-space:pre;overflow-x:auto;line-height:normal;font-family:Menlo,'DejaVu Sans Mono',consolas,'Courier New',monospace\"><span style=\"font-weight: bold\"> Non-trainable params: </span><span style=\"color: #00af00; text-decoration-color: #00af00\">5,550,655</span> (21.17 MB)\n",
              "</pre>\n"
            ]
          },
          "metadata": {}
        }
      ]
    },
    {
      "cell_type": "code",
      "source": [
        "# List all available physical devices\n",
        "physical_devices = tf.config.list_physical_devices('GPU')\n",
        "\n",
        "if physical_devices:\n",
        "    print(\"GPU is available:\")\n",
        "    for device in physical_devices:\n",
        "        print(f\"  - {device}\")\n",
        "else:\n",
        "    print(\"GPU is NOT available. Using CPU.\")\n",
        "\n",
        "from tensorflow.python.client import device_lib\n",
        "\n",
        "# Print available devices\n",
        "print(\"Available devices:\")\n",
        "for device in device_lib.list_local_devices():\n",
        "    print(f\"  - {device.name} ({device.device_type})\")"
      ],
      "metadata": {
        "colab": {
          "base_uri": "https://localhost:8080/"
        },
        "id": "jbxYAg-BZ-MS",
        "outputId": "63e43b75-eb4c-4996-921e-50ef6023e1f4"
      },
      "id": "jbxYAg-BZ-MS",
      "execution_count": null,
      "outputs": [
        {
          "output_type": "stream",
          "name": "stdout",
          "text": [
            "GPU is available:\n",
            "  - PhysicalDevice(name='/physical_device:GPU:0', device_type='GPU')\n",
            "Available devices:\n",
            "  - /device:CPU:0 (CPU)\n",
            "  - /device:GPU:0 (GPU)\n"
          ]
        }
      ]
    },
    {
      "cell_type": "code",
      "source": [
        "# Move the model to the GPU if available\n",
        "with tf.device('/GPU:0'): # Or '/GPU:1' etc. if you have multiple GPUs. If no GPU, defaults to CPU.\n",
        "    early_stopping = EarlyStopping(\n",
        "        monitor='val_loss',\n",
        "        patience=3,\n",
        "        mode='min',\n",
        "        restore_best_weights=True,\n",
        "        verbose=1\n",
        "    )\n",
        "    history = EfficientNetB5_model.fit(\n",
        "        train,\n",
        "        epochs=50,\n",
        "        validation_data=val,\n",
        "        callbacks=[early_stopping, annealer]\n",
        "    )\n"
      ],
      "metadata": {
        "colab": {
          "base_uri": "https://localhost:8080/"
        },
        "id": "nzd7877pZ-Jr",
        "outputId": "b64877ae-f885-49ca-f761-08458b2556ad"
      },
      "id": "nzd7877pZ-Jr",
      "execution_count": null,
      "outputs": [
        {
          "output_type": "stream",
          "name": "stdout",
          "text": [
            "Epoch 1/50\n",
            "\u001b[1m125/125\u001b[0m \u001b[32m━━━━━━━━━━━━━━━━━━━━\u001b[0m\u001b[37m\u001b[0m \u001b[1m2087s\u001b[0m 16s/step - accuracy: 0.3529 - loss: 2.4660 - val_accuracy: 0.4210 - val_loss: 1.2195 - learning_rate: 0.0010\n",
            "Epoch 2/50\n",
            "\u001b[1m125/125\u001b[0m \u001b[32m━━━━━━━━━━━━━━━━━━━━\u001b[0m\u001b[37m\u001b[0m \u001b[1m38s\u001b[0m 300ms/step - accuracy: 0.5442 - loss: 1.0286 - val_accuracy: 0.6430 - val_loss: 0.8519 - learning_rate: 9.5000e-04\n",
            "Epoch 3/50\n",
            "\u001b[1m125/125\u001b[0m \u001b[32m━━━━━━━━━━━━━━━━━━━━\u001b[0m\u001b[37m\u001b[0m \u001b[1m38s\u001b[0m 299ms/step - accuracy: 0.6296 - loss: 0.8597 - val_accuracy: 0.6790 - val_loss: 0.7329 - learning_rate: 9.0250e-04\n",
            "Epoch 4/50\n",
            "\u001b[1m125/125\u001b[0m \u001b[32m━━━━━━━━━━━━━━━━━━━━\u001b[0m\u001b[37m\u001b[0m \u001b[1m42s\u001b[0m 339ms/step - accuracy: 0.6619 - loss: 0.7827 - val_accuracy: 0.6930 - val_loss: 0.6598 - learning_rate: 8.5737e-04\n",
            "Epoch 5/50\n",
            "\u001b[1m125/125\u001b[0m \u001b[32m━━━━━━━━━━━━━━━━━━━━\u001b[0m\u001b[37m\u001b[0m \u001b[1m38s\u001b[0m 304ms/step - accuracy: 0.6773 - loss: 0.7191 - val_accuracy: 0.7400 - val_loss: 0.6270 - learning_rate: 8.1451e-04\n",
            "Epoch 6/50\n",
            "\u001b[1m125/125\u001b[0m \u001b[32m━━━━━━━━━━━━━━━━━━━━\u001b[0m\u001b[37m\u001b[0m \u001b[1m38s\u001b[0m 301ms/step - accuracy: 0.7306 - loss: 0.6315 - val_accuracy: 0.7730 - val_loss: 0.5451 - learning_rate: 7.7378e-04\n",
            "Epoch 7/50\n",
            "\u001b[1m125/125\u001b[0m \u001b[32m━━━━━━━━━━━━━━━━━━━━\u001b[0m\u001b[37m\u001b[0m \u001b[1m41s\u001b[0m 300ms/step - accuracy: 0.7389 - loss: 0.6010 - val_accuracy: 0.7820 - val_loss: 0.4929 - learning_rate: 7.3509e-04\n",
            "Epoch 8/50\n",
            "\u001b[1m125/125\u001b[0m \u001b[32m━━━━━━━━━━━━━━━━━━━━\u001b[0m\u001b[37m\u001b[0m \u001b[1m37s\u001b[0m 295ms/step - accuracy: 0.7731 - loss: 0.5344 - val_accuracy: 0.7800 - val_loss: 0.4966 - learning_rate: 6.9834e-04\n",
            "Epoch 9/50\n",
            "\u001b[1m125/125\u001b[0m \u001b[32m━━━━━━━━━━━━━━━━━━━━\u001b[0m\u001b[37m\u001b[0m \u001b[1m41s\u001b[0m 298ms/step - accuracy: 0.7905 - loss: 0.4779 - val_accuracy: 0.7860 - val_loss: 0.5498 - learning_rate: 6.6342e-04\n",
            "Epoch 10/50\n",
            "\u001b[1m125/125\u001b[0m \u001b[32m━━━━━━━━━━━━━━━━━━━━\u001b[0m\u001b[37m\u001b[0m \u001b[1m37s\u001b[0m 297ms/step - accuracy: 0.8154 - loss: 0.4241 - val_accuracy: 0.8140 - val_loss: 0.4458 - learning_rate: 6.3025e-04\n",
            "Epoch 11/50\n",
            "\u001b[1m125/125\u001b[0m \u001b[32m━━━━━━━━━━━━━━━━━━━━\u001b[0m\u001b[37m\u001b[0m \u001b[1m37s\u001b[0m 295ms/step - accuracy: 0.8587 - loss: 0.3578 - val_accuracy: 0.8090 - val_loss: 0.5049 - learning_rate: 5.9874e-04\n",
            "Epoch 12/50\n",
            "\u001b[1m125/125\u001b[0m \u001b[32m━━━━━━━━━━━━━━━━━━━━\u001b[0m\u001b[37m\u001b[0m \u001b[1m38s\u001b[0m 301ms/step - accuracy: 0.8595 - loss: 0.3400 - val_accuracy: 0.8430 - val_loss: 0.3917 - learning_rate: 5.6880e-04\n",
            "Epoch 13/50\n",
            "\u001b[1m125/125\u001b[0m \u001b[32m━━━━━━━━━━━━━━━━━━━━\u001b[0m\u001b[37m\u001b[0m \u001b[1m37s\u001b[0m 298ms/step - accuracy: 0.8787 - loss: 0.3055 - val_accuracy: 0.8390 - val_loss: 0.4141 - learning_rate: 5.4036e-04\n",
            "Epoch 14/50\n",
            "\u001b[1m125/125\u001b[0m \u001b[32m━━━━━━━━━━━━━━━━━━━━\u001b[0m\u001b[37m\u001b[0m \u001b[1m41s\u001b[0m 296ms/step - accuracy: 0.8991 - loss: 0.2672 - val_accuracy: 0.8490 - val_loss: 0.3991 - learning_rate: 5.1334e-04\n",
            "Epoch 15/50\n",
            "\u001b[1m125/125\u001b[0m \u001b[32m━━━━━━━━━━━━━━━━━━━━\u001b[0m\u001b[37m\u001b[0m \u001b[1m41s\u001b[0m 297ms/step - accuracy: 0.9017 - loss: 0.2531 - val_accuracy: 0.8620 - val_loss: 0.4107 - learning_rate: 4.8767e-04\n",
            "Epoch 15: early stopping\n",
            "Restoring model weights from the end of the best epoch: 12.\n"
          ]
        }
      ]
    },
    {
      "cell_type": "code",
      "source": [
        "train_loss, train_accuracy =  EfficientNetB5_model.evaluate(train)\n",
        "print(f'\\nTrain loss: {train_loss:.2f}')\n",
        "print(f'Train Accuracy: {train_accuracy*100:.2f} %')\n",
        "\n",
        "val_loss, val_accuracy =  EfficientNetB5_model.evaluate(val)\n",
        "print(f'\\nvalidation loss: {val_loss:.2f}')\n",
        "print(f'Validation Accuracy: {val_accuracy*100:.2f} %')\n",
        "\n",
        "test_loss, test_accuracy =  EfficientNetB5_model.evaluate(test)\n",
        "print(f'\\ntest loss: {test_loss:.2f}')\n",
        "print(f'test Accuracy: {test_accuracy*100:.2f} %')"
      ],
      "metadata": {
        "colab": {
          "base_uri": "https://localhost:8080/"
        },
        "id": "EKiZhy-jZ-G0",
        "outputId": "2aeddc2c-5b46-447e-b2bf-028ebbbf9199"
      },
      "id": "EKiZhy-jZ-G0",
      "execution_count": null,
      "outputs": [
        {
          "output_type": "stream",
          "name": "stdout",
          "text": [
            "\u001b[1m125/125\u001b[0m \u001b[32m━━━━━━━━━━━━━━━━━━━━\u001b[0m\u001b[37m\u001b[0m \u001b[1m26s\u001b[0m 204ms/step - accuracy: 0.9643 - loss: 0.1308\n",
            "\n",
            "Train loss: 0.12\n",
            "Train Accuracy: 96.50 %\n",
            "\u001b[1m32/32\u001b[0m \u001b[32m━━━━━━━━━━━━━━━━━━━━\u001b[0m\u001b[37m\u001b[0m \u001b[1m5s\u001b[0m 146ms/step - accuracy: 0.8405 - loss: 0.3972\n",
            "\n",
            "validation loss: 0.39\n",
            "Validation Accuracy: 84.30 %\n",
            "\u001b[1m27/27\u001b[0m \u001b[32m━━━━━━━━━━━━━━━━━━━━\u001b[0m\u001b[37m\u001b[0m \u001b[1m267s\u001b[0m 10s/step - accuracy: 0.9276 - loss: 0.2409\n",
            "\n",
            "test loss: 0.37\n",
            "test Accuracy: 85.89 %\n"
          ]
        }
      ]
    },
    {
      "cell_type": "code",
      "source": [
        "result = EfficientNetB5_model.evaluate(test, verbose=1)\n",
        "print(result)"
      ],
      "metadata": {
        "colab": {
          "base_uri": "https://localhost:8080/"
        },
        "id": "jd-6_MVLaKRd",
        "outputId": "2e9eded2-6dfd-4807-e51c-ffab1bdcef37"
      },
      "id": "jd-6_MVLaKRd",
      "execution_count": null,
      "outputs": [
        {
          "output_type": "stream",
          "name": "stdout",
          "text": [
            "\u001b[1m27/27\u001b[0m \u001b[32m━━━━━━━━━━━━━━━━━━━━\u001b[0m\u001b[37m\u001b[0m \u001b[1m4s\u001b[0m 159ms/step - accuracy: 0.9276 - loss: 0.2409\n",
            "[0.37314072251319885, 0.8588516712188721]\n"
          ]
        }
      ]
    },
    {
      "cell_type": "code",
      "source": [
        "plt.plot(history.history['accuracy'])\n",
        "plt.plot(history.history['val_accuracy'])\n",
        "plt.title('model accuracy')\n",
        "plt.ylabel('accuracy')\n",
        "plt.xlabel('epoch')\n",
        "plt.legend(['train', 'val'], loc='upper left')\n",
        "plt.show()"
      ],
      "metadata": {
        "colab": {
          "base_uri": "https://localhost:8080/",
          "height": 472
        },
        "id": "x2v-z4F0aMoO",
        "outputId": "7e67821e-51ab-465f-ee4a-8b933c73f4ee"
      },
      "id": "x2v-z4F0aMoO",
      "execution_count": null,
      "outputs": [
        {
          "output_type": "display_data",
          "data": {
            "text/plain": [
              "<Figure size 640x480 with 1 Axes>"
            ],
            "image/png": "[encoded data removed]"
          },
          "metadata": {}
        }
      ]
    },
    {
      "cell_type": "code",
      "source": [
        "plt.plot(history.history['loss'])\n",
        "plt.plot(history.history['val_loss'])\n",
        "plt.title('model loss')\n",
        "plt.ylabel('loss')\n",
        "plt.xlabel('epoch')\n",
        "plt.legend(['train', 'val'], loc='upper left')\n",
        "plt.show()"
      ],
      "metadata": {
        "colab": {
          "base_uri": "https://localhost:8080/",
          "height": 472
        },
        "id": "P3PM_mzjaRGu",
        "outputId": "fdfe16f6-508f-4ccb-a951-9dfc22e737cf"
      },
      "id": "P3PM_mzjaRGu",
      "execution_count": null,
      "outputs": [
        {
          "output_type": "display_data",
          "data": {
            "text/plain": [
              "<Figure size 640x480 with 1 Axes>"
            ],
            "image/png": "[encoded data removed]"
          },
          "metadata": {}
        }
      ]
    },
    {
      "cell_type": "code",
      "source": [
        "from sklearn.metrics import confusion_matrix, accuracy_score\n",
        "\n",
        "test_hat =  EfficientNetB5_model.predict(test)\n",
        "test_hat = np.argmax(test_hat, axis=1)\n",
        "\n",
        "labels = (train.class_indices)\n",
        "labels = dict((v,k) for k,v in labels.items())\n",
        "pred_report = [labels[k] for k in test_hat]\n",
        "\n",
        "y_test = test_images.labels\n",
        "print(classification_report(y_test, pred_report))\n",
        "print(\"Accuracy of the Model:\",\"{:.1f}%\".format(accuracy_score(y_test, pred_report)*100))"
      ],
      "metadata": {
        "colab": {
          "base_uri": "https://localhost:8080/"
        },
        "id": "oAtixQQ0aUAJ",
        "outputId": "7323690f-4675-4746-f137-4ff25993fe08"
      },
      "id": "oAtixQQ0aUAJ",
      "execution_count": null,
      "outputs": [
        {
          "output_type": "stream",
          "name": "stdout",
          "text": [
            "\u001b[1m27/27\u001b[0m \u001b[32m━━━━━━━━━━━━━━━━━━━━\u001b[0m\u001b[37m\u001b[0m \u001b[1m28s\u001b[0m 630ms/step\n",
            "                  precision    recall  f1-score   support\n",
            "\n",
            "    MildDemented       0.87      0.93      0.90       244\n",
            "ModerateDemented       1.00      1.00      1.00       168\n",
            "     NonDemented       0.82      0.85      0.83       261\n",
            "VeryMildDemented       0.74      0.61      0.67       163\n",
            "\n",
            "        accuracy                           0.86       836\n",
            "       macro avg       0.86      0.85      0.85       836\n",
            "    weighted avg       0.86      0.86      0.86       836\n",
            "\n",
            "Accuracy of the Model: 85.9%\n"
          ]
        }
      ]
    },
    {
      "cell_type": "markdown",
      "source": [
        "# EfficientNetB4"
      ],
      "metadata": {
        "id": "hGC9v3U4aVpp"
      },
      "id": "hGC9v3U4aVpp"
    },
    {
      "cell_type": "code",
      "source": [
        "from tensorflow.keras.optimizers import Adamax\n",
        "from tensorflow.keras.applications import EfficientNetB4\n",
        "\n",
        "# Define input image shape\n",
        "img_shape = (244, 244, 3)\n",
        "\n",
        "# Load the pre-trained EfficientNetB7 model without the top classification layer\n",
        "base_model = EfficientNetB4(\n",
        "    include_top=False,         # Do not include the top classification layer\n",
        "    weights=\"imagenet\",        # Use pre-trained ImageNet weights\n",
        "    input_shape=img_shape,     # Input shape\n",
        "    pooling='max'              # Global max pooling after conv base\n",
        ")"
      ],
      "metadata": {
        "colab": {
          "base_uri": "https://localhost:8080/"
        },
        "id": "rBMFHYOOaXEi",
        "outputId": "24bc2468-866a-4842-9670-d2adcc29a9d3"
      },
      "id": "rBMFHYOOaXEi",
      "execution_count": null,
      "outputs": [
        {
          "output_type": "stream",
          "name": "stdout",
          "text": [
            "Downloading data from https://storage.googleapis.com/keras-applications/efficientnetb4_notop.h5\n",
            "\u001b[1m71686520/71686520\u001b[0m \u001b[32m━━━━━━━━━━━━━━━━━━━━\u001b[0m\u001b[37m\u001b[0m \u001b[1m0s\u001b[0m 0us/step\n"
          ]
        }
      ]
    },
    {
      "cell_type": "code",
      "source": [
        "base_model.trainable = True\n",
        "\n",
        "# Flag to start fine-tuning\n",
        "set_trainable = False\n",
        "\n",
        "# Unfreeze layers from a specific point onwards\n",
        "for layer in base_model.layers:\n",
        "    if layer.name == 'block6a_expand_conv':  # You can change this layer to whichever layer you want to unfreeze\n",
        "        set_trainable = True\n",
        "    if set_trainable:\n",
        "        layer.trainable = True\n",
        "    else:\n",
        "        layer.trainable = False"
      ],
      "metadata": {
        "id": "f3i6uyvEdWUZ"
      },
      "id": "f3i6uyvEdWUZ",
      "execution_count": null,
      "outputs": []
    },
    {
      "cell_type": "code",
      "source": [
        "EfficientNetB4_model = Sequential([\n",
        "    tf.keras.layers.InputLayer(input_shape=img_shape),\n",
        "    base_model,\n",
        "    Flatten(),\n",
        "    Dropout(rate=0.3),\n",
        "    Dense(128, activation='relu'),\n",
        "    Dropout(rate=0.25),\n",
        "    Dense(4, activation='softmax')\n",
        "])\n",
        "\n",
        "EfficientNetB4_model.compile(\n",
        "    Adamax(learning_rate=0.001),\n",
        "    loss='categorical_crossentropy',\n",
        "    metrics=['accuracy']\n",
        ")\n",
        "\n",
        "EfficientNetB4_model.summary()"
      ],
      "metadata": {
        "colab": {
          "base_uri": "https://localhost:8080/",
          "height": 321
        },
        "id": "9amB9quzdY65",
        "outputId": "b04ead84-305c-4027-c81f-91e83e7a6d51"
      },
      "id": "9amB9quzdY65",
      "execution_count": null,
      "outputs": [
        {
          "output_type": "display_data",
          "data": {
            "text/plain": [
              "\u001b[1mModel: \"sequential_1\"\u001b[0m\n"
            ],
            "text/html": [
              "<pre style=\"white-space:pre;overflow-x:auto;line-height:normal;font-family:Menlo,'DejaVu Sans Mono',consolas,'Courier New',monospace\"><span style=\"font-weight: bold\">Model: \"sequential_1\"</span>\n",
              "</pre>\n"
            ]
          },
          "metadata": {}
        },
        {
          "output_type": "display_data",
          "data": {
            "text/plain": [
              "┏━━━━━━━━━━━━━━━━━━━━━━━━━━━━━━━━━┳━━━━━━━━━━━━━━━━━━━━━━━━┳━━━━━━━━━━━━━━━┓\n",
              "┃\u001b[1m \u001b[0m\u001b[1mLayer (type)                   \u001b[0m\u001b[1m \u001b[0m┃\u001b[1m \u001b[0m\u001b[1mOutput Shape          \u001b[0m\u001b[1m \u001b[0m┃\u001b[1m \u001b[0m\u001b[1m      Param #\u001b[0m\u001b[1m \u001b[0m┃\n",
              "┡━━━━━━━━━━━━━━━━━━━━━━━━━━━━━━━━━╇━━━━━━━━━━━━━━━━━━━━━━━━╇━━━━━━━━━━━━━━━┩\n",
              "│ efficientnetb4 (\u001b[38;5;33mFunctional\u001b[0m)     │ (\u001b[38;5;45mNone\u001b[0m, \u001b[38;5;34m1792\u001b[0m)           │    \u001b[38;5;34m17,673,823\u001b[0m │\n",
              "├─────────────────────────────────┼────────────────────────┼───────────────┤\n",
              "│ flatten_1 (\u001b[38;5;33mFlatten\u001b[0m)             │ (\u001b[38;5;45mNone\u001b[0m, \u001b[38;5;34m1792\u001b[0m)           │             \u001b[38;5;34m0\u001b[0m │\n",
              "├─────────────────────────────────┼────────────────────────┼───────────────┤\n",
              "│ dropout_2 (\u001b[38;5;33mDropout\u001b[0m)             │ (\u001b[38;5;45mNone\u001b[0m, \u001b[38;5;34m1792\u001b[0m)           │             \u001b[38;5;34m0\u001b[0m │\n",
              "├─────────────────────────────────┼────────────────────────┼───────────────┤\n",
              "│ dense_2 (\u001b[38;5;33mDense\u001b[0m)                 │ (\u001b[38;5;45mNone\u001b[0m, \u001b[38;5;34m128\u001b[0m)            │       \u001b[38;5;34m229,504\u001b[0m │\n",
              "├─────────────────────────────────┼────────────────────────┼───────────────┤\n",
              "│ dropout_3 (\u001b[38;5;33mDropout\u001b[0m)             │ (\u001b[38;5;45mNone\u001b[0m, \u001b[38;5;34m128\u001b[0m)            │             \u001b[38;5;34m0\u001b[0m │\n",
              "├─────────────────────────────────┼────────────────────────┼───────────────┤\n",
              "│ dense_3 (\u001b[38;5;33mDense\u001b[0m)                 │ (\u001b[38;5;45mNone\u001b[0m, \u001b[38;5;34m4\u001b[0m)              │           \u001b[38;5;34m516\u001b[0m │\n",
              "└─────────────────────────────────┴────────────────────────┴───────────────┘\n"
            ],
            "text/html": [
              "<pre style=\"white-space:pre;overflow-x:auto;line-height:normal;font-family:Menlo,'DejaVu Sans Mono',consolas,'Courier New',monospace\">┏━━━━━━━━━━━━━━━━━━━━━━━━━━━━━━━━━┳━━━━━━━━━━━━━━━━━━━━━━━━┳━━━━━━━━━━━━━━━┓\n",
              "┃<span style=\"font-weight: bold\"> Layer (type)                    </span>┃<span style=\"font-weight: bold\"> Output Shape           </span>┃<span style=\"font-weight: bold\">       Param # </span>┃\n",
              "┡━━━━━━━━━━━━━━━━━━━━━━━━━━━━━━━━━╇━━━━━━━━━━━━━━━━━━━━━━━━╇━━━━━━━━━━━━━━━┩\n",
              "│ efficientnetb4 (<span style=\"color: #0087ff; text-decoration-color: #0087ff\">Functional</span>)     │ (<span style=\"color: #00d7ff; text-decoration-color: #00d7ff\">None</span>, <span style=\"color: #00af00; text-decoration-color: #00af00\">1792</span>)           │    <span style=\"color: #00af00; text-decoration-color: #00af00\">17,673,823</span> │\n",
              "├─────────────────────────────────┼────────────────────────┼───────────────┤\n",
              "│ flatten_1 (<span style=\"color: #0087ff; text-decoration-color: #0087ff\">Flatten</span>)             │ (<span style=\"color: #00d7ff; text-decoration-color: #00d7ff\">None</span>, <span style=\"color: #00af00; text-decoration-color: #00af00\">1792</span>)           │             <span style=\"color: #00af00; text-decoration-color: #00af00\">0</span> │\n",
              "├─────────────────────────────────┼────────────────────────┼───────────────┤\n",
              "│ dropout_2 (<span style=\"color: #0087ff; text-decoration-color: #0087ff\">Dropout</span>)             │ (<span style=\"color: #00d7ff; text-decoration-color: #00d7ff\">None</span>, <span style=\"color: #00af00; text-decoration-color: #00af00\">1792</span>)           │             <span style=\"color: #00af00; text-decoration-color: #00af00\">0</span> │\n",
              "├─────────────────────────────────┼────────────────────────┼───────────────┤\n",
              "│ dense_2 (<span style=\"color: #0087ff; text-decoration-color: #0087ff\">Dense</span>)                 │ (<span style=\"color: #00d7ff; text-decoration-color: #00d7ff\">None</span>, <span style=\"color: #00af00; text-decoration-color: #00af00\">128</span>)            │       <span style=\"color: #00af00; text-decoration-color: #00af00\">229,504</span> │\n",
              "├─────────────────────────────────┼────────────────────────┼───────────────┤\n",
              "│ dropout_3 (<span style=\"color: #0087ff; text-decoration-color: #0087ff\">Dropout</span>)             │ (<span style=\"color: #00d7ff; text-decoration-color: #00d7ff\">None</span>, <span style=\"color: #00af00; text-decoration-color: #00af00\">128</span>)            │             <span style=\"color: #00af00; text-decoration-color: #00af00\">0</span> │\n",
              "├─────────────────────────────────┼────────────────────────┼───────────────┤\n",
              "│ dense_3 (<span style=\"color: #0087ff; text-decoration-color: #0087ff\">Dense</span>)                 │ (<span style=\"color: #00d7ff; text-decoration-color: #00d7ff\">None</span>, <span style=\"color: #00af00; text-decoration-color: #00af00\">4</span>)              │           <span style=\"color: #00af00; text-decoration-color: #00af00\">516</span> │\n",
              "└─────────────────────────────────┴────────────────────────┴───────────────┘\n",
              "</pre>\n"
            ]
          },
          "metadata": {}
        },
        {
          "output_type": "display_data",
          "data": {
            "text/plain": [
              "\u001b[1m Total params: \u001b[0m\u001b[38;5;34m17,903,843\u001b[0m (68.30 MB)\n"
            ],
            "text/html": [
              "<pre style=\"white-space:pre;overflow-x:auto;line-height:normal;font-family:Menlo,'DejaVu Sans Mono',consolas,'Courier New',monospace\"><span style=\"font-weight: bold\"> Total params: </span><span style=\"color: #00af00; text-decoration-color: #00af00\">17,903,843</span> (68.30 MB)\n",
              "</pre>\n"
            ]
          },
          "metadata": {}
        },
        {
          "output_type": "display_data",
          "data": {
            "text/plain": [
              "\u001b[1m Trainable params: \u001b[0m\u001b[38;5;34m14,142,652\u001b[0m (53.95 MB)\n"
            ],
            "text/html": [
              "<pre style=\"white-space:pre;overflow-x:auto;line-height:normal;font-family:Menlo,'DejaVu Sans Mono',consolas,'Courier New',monospace\"><span style=\"font-weight: bold\"> Trainable params: </span><span style=\"color: #00af00; text-decoration-color: #00af00\">14,142,652</span> (53.95 MB)\n",
              "</pre>\n"
            ]
          },
          "metadata": {}
        },
        {
          "output_type": "display_data",
          "data": {
            "text/plain": [
              "\u001b[1m Non-trainable params: \u001b[0m\u001b[38;5;34m3,761,191\u001b[0m (14.35 MB)\n"
            ],
            "text/html": [
              "<pre style=\"white-space:pre;overflow-x:auto;line-height:normal;font-family:Menlo,'DejaVu Sans Mono',consolas,'Courier New',monospace\"><span style=\"font-weight: bold\"> Non-trainable params: </span><span style=\"color: #00af00; text-decoration-color: #00af00\">3,761,191</span> (14.35 MB)\n",
              "</pre>\n"
            ]
          },
          "metadata": {}
        }
      ]
    },
    {
      "cell_type": "code",
      "source": [
        "# List all available physical devices\n",
        "physical_devices = tf.config.list_physical_devices('GPU')\n",
        "\n",
        "if physical_devices:\n",
        "    print(\"GPU is available:\")\n",
        "    for device in physical_devices:\n",
        "        print(f\"  - {device}\")\n",
        "else:\n",
        "    print(\"GPU is NOT available. Using CPU.\")\n",
        "\n",
        "from tensorflow.python.client import device_lib\n",
        "\n",
        "# Print available devices\n",
        "print(\"Available devices:\")\n",
        "for device in device_lib.list_local_devices():\n",
        "    print(f\"  - {device.name} ({device.device_type})\")"
      ],
      "metadata": {
        "colab": {
          "base_uri": "https://localhost:8080/"
        },
        "id": "4stEdcG4ddJU",
        "outputId": "ebd7aa84-e36d-4a0c-c07f-3cd048ccd1f8"
      },
      "id": "4stEdcG4ddJU",
      "execution_count": null,
      "outputs": [
        {
          "output_type": "stream",
          "name": "stdout",
          "text": [
            "GPU is available:\n",
            "  - PhysicalDevice(name='/physical_device:GPU:0', device_type='GPU')\n",
            "Available devices:\n",
            "  - /device:CPU:0 (CPU)\n",
            "  - /device:GPU:0 (GPU)\n"
          ]
        }
      ]
    },
    {
      "cell_type": "code",
      "source": [
        "# Move the model to the GPU if available\n",
        "with tf.device('/GPU:0'): # Or '/GPU:1' etc. if you have multiple GPUs. If no GPU, defaults to CPU.\n",
        "    early_stopping = EarlyStopping(\n",
        "        monitor='val_loss',\n",
        "        patience=3,\n",
        "        mode='min',\n",
        "        restore_best_weights=True,\n",
        "        verbose=1\n",
        "    )\n",
        "    history = EfficientNetB4_model.fit(\n",
        "        train,\n",
        "        epochs=50,\n",
        "        validation_data=val,\n",
        "        callbacks=[early_stopping, annealer]\n",
        "    )\n"
      ],
      "metadata": {
        "colab": {
          "base_uri": "https://localhost:8080/"
        },
        "id": "UCg_hX1cdffC",
        "outputId": "71aab6e6-24a1-4a39-ae2b-84ac7d6f1de4"
      },
      "id": "UCg_hX1cdffC",
      "execution_count": null,
      "outputs": [
        {
          "output_type": "stream",
          "name": "stdout",
          "text": [
            "Epoch 1/50\n",
            "\u001b[1m125/125\u001b[0m \u001b[32m━━━━━━━━━━━━━━━━━━━━\u001b[0m\u001b[37m\u001b[0m \u001b[1m157s\u001b[0m 665ms/step - accuracy: 0.3382 - loss: 2.9240 - val_accuracy: 0.3500 - val_loss: 1.3339 - learning_rate: 0.0010\n",
            "Epoch 2/50\n",
            "\u001b[1m125/125\u001b[0m \u001b[32m━━━━━━━━━━━━━━━━━━━━\u001b[0m\u001b[37m\u001b[0m \u001b[1m29s\u001b[0m 227ms/step - accuracy: 0.4593 - loss: 1.1817 - val_accuracy: 0.5130 - val_loss: 1.0886 - learning_rate: 9.5000e-04\n",
            "Epoch 3/50\n",
            "\u001b[1m125/125\u001b[0m \u001b[32m━━━━━━━━━━━━━━━━━━━━\u001b[0m\u001b[37m\u001b[0m \u001b[1m28s\u001b[0m 224ms/step - accuracy: 0.5347 - loss: 1.0309 - val_accuracy: 0.6290 - val_loss: 0.8786 - learning_rate: 9.0250e-04\n",
            "Epoch 4/50\n",
            "\u001b[1m125/125\u001b[0m \u001b[32m━━━━━━━━━━━━━━━━━━━━\u001b[0m\u001b[37m\u001b[0m \u001b[1m28s\u001b[0m 222ms/step - accuracy: 0.5999 - loss: 0.9227 - val_accuracy: 0.6610 - val_loss: 0.7622 - learning_rate: 8.5737e-04\n",
            "Epoch 5/50\n",
            "\u001b[1m125/125\u001b[0m \u001b[32m━━━━━━━━━━━━━━━━━━━━\u001b[0m\u001b[37m\u001b[0m \u001b[1m28s\u001b[0m 222ms/step - accuracy: 0.6288 - loss: 0.8300 - val_accuracy: 0.6490 - val_loss: 0.7875 - learning_rate: 8.1451e-04\n",
            "Epoch 6/50\n",
            "\u001b[1m125/125\u001b[0m \u001b[32m━━━━━━━━━━━━━━━━━━━━\u001b[0m\u001b[37m\u001b[0m \u001b[1m28s\u001b[0m 223ms/step - accuracy: 0.6633 - loss: 0.7716 - val_accuracy: 0.6830 - val_loss: 0.7415 - learning_rate: 7.7378e-04\n",
            "Epoch 7/50\n",
            "\u001b[1m125/125\u001b[0m \u001b[32m━━━━━━━━━━━━━━━━━━━━\u001b[0m\u001b[37m\u001b[0m \u001b[1m29s\u001b[0m 229ms/step - accuracy: 0.6721 - loss: 0.7496 - val_accuracy: 0.7100 - val_loss: 0.6783 - learning_rate: 7.3509e-04\n",
            "Epoch 8/50\n",
            "\u001b[1m125/125\u001b[0m \u001b[32m━━━━━━━━━━━━━━━━━━━━\u001b[0m\u001b[37m\u001b[0m \u001b[1m41s\u001b[0m 228ms/step - accuracy: 0.6975 - loss: 0.6893 - val_accuracy: 0.7210 - val_loss: 0.6504 - learning_rate: 6.9834e-04\n",
            "Epoch 9/50\n",
            "\u001b[1m125/125\u001b[0m \u001b[32m━━━━━━━━━━━━━━━━━━━━\u001b[0m\u001b[37m\u001b[0m \u001b[1m28s\u001b[0m 226ms/step - accuracy: 0.7079 - loss: 0.6612 - val_accuracy: 0.7320 - val_loss: 0.5955 - learning_rate: 6.6342e-04\n",
            "Epoch 10/50\n",
            "\u001b[1m125/125\u001b[0m \u001b[32m━━━━━━━━━━━━━━━━━━━━\u001b[0m\u001b[37m\u001b[0m \u001b[1m28s\u001b[0m 221ms/step - accuracy: 0.7141 - loss: 0.6334 - val_accuracy: 0.7440 - val_loss: 0.6454 - learning_rate: 6.3025e-04\n",
            "Epoch 11/50\n",
            "\u001b[1m125/125\u001b[0m \u001b[32m━━━━━━━━━━━━━━━━━━━━\u001b[0m\u001b[37m\u001b[0m \u001b[1m28s\u001b[0m 222ms/step - accuracy: 0.7635 - loss: 0.5430 - val_accuracy: 0.7700 - val_loss: 0.5431 - learning_rate: 5.9874e-04\n",
            "Epoch 12/50\n",
            "\u001b[1m125/125\u001b[0m \u001b[32m━━━━━━━━━━━━━━━━━━━━\u001b[0m\u001b[37m\u001b[0m \u001b[1m28s\u001b[0m 222ms/step - accuracy: 0.7856 - loss: 0.5149 - val_accuracy: 0.7650 - val_loss: 0.5391 - learning_rate: 5.6880e-04\n",
            "Epoch 13/50\n",
            "\u001b[1m125/125\u001b[0m \u001b[32m━━━━━━━━━━━━━━━━━━━━\u001b[0m\u001b[37m\u001b[0m \u001b[1m28s\u001b[0m 220ms/step - accuracy: 0.7863 - loss: 0.4923 - val_accuracy: 0.7830 - val_loss: 0.4965 - learning_rate: 5.4036e-04\n",
            "Epoch 14/50\n",
            "\u001b[1m125/125\u001b[0m \u001b[32m━━━━━━━━━━━━━━━━━━━━\u001b[0m\u001b[37m\u001b[0m \u001b[1m28s\u001b[0m 220ms/step - accuracy: 0.8022 - loss: 0.4816 - val_accuracy: 0.7880 - val_loss: 0.4847 - learning_rate: 5.1334e-04\n",
            "Epoch 15/50\n",
            "\u001b[1m125/125\u001b[0m \u001b[32m━━━━━━━━━━━━━━━━━━━━\u001b[0m\u001b[37m\u001b[0m \u001b[1m28s\u001b[0m 220ms/step - accuracy: 0.8215 - loss: 0.4199 - val_accuracy: 0.7770 - val_loss: 0.5040 - learning_rate: 4.8767e-04\n",
            "Epoch 16/50\n",
            "\u001b[1m125/125\u001b[0m \u001b[32m━━━━━━━━━━━━━━━━━━━━\u001b[0m\u001b[37m\u001b[0m \u001b[1m28s\u001b[0m 222ms/step - accuracy: 0.8340 - loss: 0.3927 - val_accuracy: 0.8140 - val_loss: 0.4676 - learning_rate: 4.6329e-04\n",
            "Epoch 17/50\n",
            "\u001b[1m125/125\u001b[0m \u001b[32m━━━━━━━━━━━━━━━━━━━━\u001b[0m\u001b[37m\u001b[0m \u001b[1m27s\u001b[0m 219ms/step - accuracy: 0.8697 - loss: 0.3427 - val_accuracy: 0.8130 - val_loss: 0.4839 - learning_rate: 4.4013e-04\n",
            "Epoch 18/50\n",
            "\u001b[1m125/125\u001b[0m \u001b[32m━━━━━━━━━━━━━━━━━━━━\u001b[0m\u001b[37m\u001b[0m \u001b[1m29s\u001b[0m 230ms/step - accuracy: 0.8561 - loss: 0.3479 - val_accuracy: 0.8110 - val_loss: 0.5036 - learning_rate: 4.1812e-04\n",
            "Epoch 19/50\n",
            "\u001b[1m125/125\u001b[0m \u001b[32m━━━━━━━━━━━━━━━━━━━━\u001b[0m\u001b[37m\u001b[0m \u001b[1m41s\u001b[0m 226ms/step - accuracy: 0.8788 - loss: 0.2949 - val_accuracy: 0.8280 - val_loss: 0.4788 - learning_rate: 3.9721e-04\n",
            "Epoch 19: early stopping\n",
            "Restoring model weights from the end of the best epoch: 16.\n"
          ]
        }
      ]
    },
    {
      "cell_type": "code",
      "source": [
        "train_loss, train_accuracy =  EfficientNetB4_model.evaluate(train)\n",
        "print(f'\\nTrain loss: {train_loss:.2f}')\n",
        "print(f'Train Accuracy: {train_accuracy*100:.2f} %')\n",
        "\n",
        "val_loss, val_accuracy =  EfficientNetB4_model.evaluate(val)\n",
        "print(f'\\nvalidation loss: {val_loss:.2f}')\n",
        "print(f'Validation Accuracy: {val_accuracy*100:.2f} %')\n",
        "\n",
        "test_loss, test_accuracy =  EfficientNetB4_model.evaluate(test)\n",
        "print(f'\\ntest loss: {test_loss:.2f}')\n",
        "print(f'test Accuracy: {test_accuracy*100:.2f} %')"
      ],
      "metadata": {
        "colab": {
          "base_uri": "https://localhost:8080/"
        },
        "id": "XXNRlDBadhvT",
        "outputId": "28844019-e936-47a8-cbf0-cfc7a2330be3"
      },
      "id": "XXNRlDBadhvT",
      "execution_count": null,
      "outputs": [
        {
          "output_type": "stream",
          "name": "stdout",
          "text": [
            "\u001b[1m125/125\u001b[0m \u001b[32m━━━━━━━━━━━━━━━━━━━━\u001b[0m\u001b[37m\u001b[0m \u001b[1m21s\u001b[0m 168ms/step - accuracy: 0.9344 - loss: 0.1739\n",
            "\n",
            "Train loss: 0.17\n",
            "Train Accuracy: 93.57 %\n",
            "\u001b[1m32/32\u001b[0m \u001b[32m━━━━━━━━━━━━━━━━━━━━\u001b[0m\u001b[37m\u001b[0m \u001b[1m5s\u001b[0m 145ms/step - accuracy: 0.8170 - loss: 0.4716\n",
            "\n",
            "validation loss: 0.47\n",
            "Validation Accuracy: 81.40 %\n",
            "\u001b[1m27/27\u001b[0m \u001b[32m━━━━━━━━━━━━━━━━━━━━\u001b[0m\u001b[37m\u001b[0m \u001b[1m9s\u001b[0m 345ms/step - accuracy: 0.9227 - loss: 0.2381\n",
            "\n",
            "test loss: 0.43\n",
            "test Accuracy: 83.37 %\n"
          ]
        }
      ]
    },
    {
      "cell_type": "code",
      "source": [
        "result = EfficientNetB4_model.evaluate(test, verbose=1)\n",
        "print(result)"
      ],
      "metadata": {
        "colab": {
          "base_uri": "https://localhost:8080/"
        },
        "id": "fffDJnTcdo_5",
        "outputId": "9a30ba96-0b9e-4166-cc45-48221af082d2"
      },
      "id": "fffDJnTcdo_5",
      "execution_count": null,
      "outputs": [
        {
          "output_type": "stream",
          "name": "stdout",
          "text": [
            "\u001b[1m27/27\u001b[0m \u001b[32m━━━━━━━━━━━━━━━━━━━━\u001b[0m\u001b[37m\u001b[0m \u001b[1m4s\u001b[0m 135ms/step - accuracy: 0.9227 - loss: 0.2381\n",
            "[0.4331471621990204, 0.8337320685386658]\n"
          ]
        }
      ]
    },
    {
      "cell_type": "code",
      "source": [
        "plt.plot(history.history['accuracy'])\n",
        "plt.plot(history.history['val_accuracy'])\n",
        "plt.title('model accuracy')\n",
        "plt.ylabel('accuracy')\n",
        "plt.xlabel('epoch')\n",
        "plt.legend(['train', 'val'], loc='upper left')\n",
        "plt.show()"
      ],
      "metadata": {
        "colab": {
          "base_uri": "https://localhost:8080/",
          "height": 472
        },
        "id": "t9CVaj_ZeRxQ",
        "outputId": "4b06ed24-889d-4f88-95ee-29aca8bc1ee1"
      },
      "id": "t9CVaj_ZeRxQ",
      "execution_count": null,
      "outputs": [
        {
          "output_type": "display_data",
          "data": {
            "text/plain": [
              "<Figure size 640x480 with 1 Axes>"
            ],
            "image/png": "[encoded data removed]"
          },
          "metadata": {}
        }
      ]
    },
    {
      "cell_type": "code",
      "source": [
        "plt.plot(history.history['loss'])\n",
        "plt.plot(history.history['val_loss'])\n",
        "plt.title('model loss')\n",
        "plt.ylabel('loss')\n",
        "plt.xlabel('epoch')\n",
        "plt.legend(['train', 'val'], loc='upper left')\n",
        "plt.show()"
      ],
      "metadata": {
        "colab": {
          "base_uri": "https://localhost:8080/",
          "height": 472
        },
        "id": "r07pDrPeeXAs",
        "outputId": "84d87664-d6b5-4019-bb94-2a0a05e392ba"
      },
      "id": "r07pDrPeeXAs",
      "execution_count": null,
      "outputs": [
        {
          "output_type": "display_data",
          "data": {
            "text/plain": [
              "<Figure size 640x480 with 1 Axes>"
            ],
            "image/png": "[encoded data removed]"
          },
          "metadata": {}
        }
      ]
    },
    {
      "cell_type": "code",
      "source": [
        "from sklearn.metrics import confusion_matrix, accuracy_score\n",
        "\n",
        "test_hat =  EfficientNetB4_model.predict(test)\n",
        "test_hat = np.argmax(test_hat, axis=1)\n",
        "\n",
        "labels = (train.class_indices)\n",
        "labels = dict((v,k) for k,v in labels.items())\n",
        "pred_report = [labels[k] for k in test_hat]\n",
        "\n",
        "y_test = test_images.labels\n",
        "print(classification_report(y_test, pred_report))\n",
        "print(\"Accuracy of the Model:\",\"{:.1f}%\".format(accuracy_score(y_test, pred_report)*100))"
      ],
      "metadata": {
        "colab": {
          "base_uri": "https://localhost:8080/"
        },
        "id": "fc0zKd_xefpk",
        "outputId": "2c17d8e6-0009-402e-b79c-fbb0b6620bb4"
      },
      "id": "fc0zKd_xefpk",
      "execution_count": null,
      "outputs": [
        {
          "output_type": "stream",
          "name": "stdout",
          "text": [
            "\u001b[1m27/27\u001b[0m \u001b[32m━━━━━━━━━━━━━━━━━━━━\u001b[0m\u001b[37m\u001b[0m \u001b[1m24s\u001b[0m 519ms/step\n",
            "                  precision    recall  f1-score   support\n",
            "\n",
            "    MildDemented       0.80      0.95      0.87       244\n",
            "ModerateDemented       0.95      1.00      0.98       168\n",
            "     NonDemented       0.82      0.84      0.83       261\n",
            "VeryMildDemented       0.75      0.48      0.58       163\n",
            "\n",
            "        accuracy                           0.83       836\n",
            "       macro avg       0.83      0.82      0.82       836\n",
            "    weighted avg       0.83      0.83      0.82       836\n",
            "\n",
            "Accuracy of the Model: 83.4%\n"
          ]
        }
      ]
    },
    {
      "cell_type": "markdown",
      "source": [
        "# EfficientNetB3"
      ],
      "metadata": {
        "id": "M9QaHK_NeunC"
      },
      "id": "M9QaHK_NeunC"
    },
    {
      "cell_type": "code",
      "source": [
        "from tensorflow.keras.optimizers import Adamax\n",
        "from tensorflow.keras.applications import EfficientNetB3\n",
        "\n",
        "# Define input image shape\n",
        "img_shape = (244, 244, 3)\n",
        "\n",
        "# Load the pre-trained EfficientNetB7 model without the top classification layer\n",
        "base_model = EfficientNetB3(\n",
        "    include_top=False,         # Do not include the top classification layer\n",
        "    weights=\"imagenet\",        # Use pre-trained ImageNet weights\n",
        "    input_shape=img_shape,     # Input shape\n",
        "    pooling='max'              # Global max pooling after conv base\n",
        ")"
      ],
      "metadata": {
        "colab": {
          "base_uri": "https://localhost:8080/"
        },
        "id": "fTInDm5lerZ5",
        "outputId": "ecc5a78b-d2a5-4589-8566-e5b1d7835c27"
      },
      "id": "fTInDm5lerZ5",
      "execution_count": null,
      "outputs": [
        {
          "output_type": "stream",
          "name": "stdout",
          "text": [
            "Downloading data from https://storage.googleapis.com/keras-applications/efficientnetb3_notop.h5\n",
            "\u001b[1m43941136/43941136\u001b[0m \u001b[32m━━━━━━━━━━━━━━━━━━━━\u001b[0m\u001b[37m\u001b[0m \u001b[1m0s\u001b[0m 0us/step\n"
          ]
        }
      ]
    },
    {
      "cell_type": "code",
      "source": [
        "base_model.trainable = True\n",
        "\n",
        "# Flag to start fine-tuning\n",
        "set_trainable = False\n",
        "\n",
        "# Unfreeze layers from a specific point onwards\n",
        "for layer in base_model.layers:\n",
        "    if layer.name == 'block6a_expand_conv':  # You can change this layer to whichever layer you want to unfreeze\n",
        "        set_trainable = True\n",
        "    if set_trainable:\n",
        "        layer.trainable = True\n",
        "    else:\n",
        "        layer.trainable = False"
      ],
      "metadata": {
        "id": "BB6GpynVeynz"
      },
      "id": "BB6GpynVeynz",
      "execution_count": null,
      "outputs": []
    },
    {
      "cell_type": "code",
      "source": [
        "EfficientNetB3_model = Sequential([\n",
        "    tf.keras.layers.InputLayer(input_shape=img_shape),\n",
        "    base_model,\n",
        "    Flatten(),\n",
        "    Dropout(rate=0.3),\n",
        "    Dense(128, activation='relu'),\n",
        "    Dropout(rate=0.25),\n",
        "    Dense(4, activation='softmax')\n",
        "])\n",
        "\n",
        "EfficientNetB3_model.compile(\n",
        "    Adamax(learning_rate=0.001),\n",
        "    loss='categorical_crossentropy',\n",
        "    metrics=['accuracy']\n",
        ")\n",
        "\n",
        "EfficientNetB3_model.summary()"
      ],
      "metadata": {
        "colab": {
          "base_uri": "https://localhost:8080/",
          "height": 321
        },
        "id": "uxAJh3jEe1E5",
        "outputId": "f7c5018c-51c3-40b8-9bb3-cdab85ab2d99"
      },
      "id": "uxAJh3jEe1E5",
      "execution_count": null,
      "outputs": [
        {
          "output_type": "display_data",
          "data": {
            "text/plain": [
              "\u001b[1mModel: \"sequential\"\u001b[0m\n"
            ],
            "text/html": [
              "<pre style=\"white-space:pre;overflow-x:auto;line-height:normal;font-family:Menlo,'DejaVu Sans Mono',consolas,'Courier New',monospace\"><span style=\"font-weight: bold\">Model: \"sequential\"</span>\n",
              "</pre>\n"
            ]
          },
          "metadata": {}
        },
        {
          "output_type": "display_data",
          "data": {
            "text/plain": [
              "┏━━━━━━━━━━━━━━━━━━━━━━━━━━━━━━━━━┳━━━━━━━━━━━━━━━━━━━━━━━━┳━━━━━━━━━━━━━━━┓\n",
              "┃\u001b[1m \u001b[0m\u001b[1mLayer (type)                   \u001b[0m\u001b[1m \u001b[0m┃\u001b[1m \u001b[0m\u001b[1mOutput Shape          \u001b[0m\u001b[1m \u001b[0m┃\u001b[1m \u001b[0m\u001b[1m      Param #\u001b[0m\u001b[1m \u001b[0m┃\n",
              "┡━━━━━━━━━━━━━━━━━━━━━━━━━━━━━━━━━╇━━━━━━━━━━━━━━━━━━━━━━━━╇━━━━━━━━━━━━━━━┩\n",
              "│ efficientnetb3 (\u001b[38;5;33mFunctional\u001b[0m)     │ (\u001b[38;5;45mNone\u001b[0m, \u001b[38;5;34m1536\u001b[0m)           │    \u001b[38;5;34m10,783,535\u001b[0m │\n",
              "├─────────────────────────────────┼────────────────────────┼───────────────┤\n",
              "│ flatten (\u001b[38;5;33mFlatten\u001b[0m)               │ (\u001b[38;5;45mNone\u001b[0m, \u001b[38;5;34m1536\u001b[0m)           │             \u001b[38;5;34m0\u001b[0m │\n",
              "├─────────────────────────────────┼────────────────────────┼───────────────┤\n",
              "│ dropout (\u001b[38;5;33mDropout\u001b[0m)               │ (\u001b[38;5;45mNone\u001b[0m, \u001b[38;5;34m1536\u001b[0m)           │             \u001b[38;5;34m0\u001b[0m │\n",
              "├─────────────────────────────────┼────────────────────────┼───────────────┤\n",
              "│ dense (\u001b[38;5;33mDense\u001b[0m)                   │ (\u001b[38;5;45mNone\u001b[0m, \u001b[38;5;34m128\u001b[0m)            │       \u001b[38;5;34m196,736\u001b[0m │\n",
              "├─────────────────────────────────┼────────────────────────┼───────────────┤\n",
              "│ dropout_1 (\u001b[38;5;33mDropout\u001b[0m)             │ (\u001b[38;5;45mNone\u001b[0m, \u001b[38;5;34m128\u001b[0m)            │             \u001b[38;5;34m0\u001b[0m │\n",
              "├─────────────────────────────────┼────────────────────────┼───────────────┤\n",
              "│ dense_1 (\u001b[38;5;33mDense\u001b[0m)                 │ (\u001b[38;5;45mNone\u001b[0m, \u001b[38;5;34m4\u001b[0m)              │           \u001b[38;5;34m516\u001b[0m │\n",
              "└─────────────────────────────────┴────────────────────────┴───────────────┘\n"
            ],
            "text/html": [
              "<pre style=\"white-space:pre;overflow-x:auto;line-height:normal;font-family:Menlo,'DejaVu Sans Mono',consolas,'Courier New',monospace\">┏━━━━━━━━━━━━━━━━━━━━━━━━━━━━━━━━━┳━━━━━━━━━━━━━━━━━━━━━━━━┳━━━━━━━━━━━━━━━┓\n",
              "┃<span style=\"font-weight: bold\"> Layer (type)                    </span>┃<span style=\"font-weight: bold\"> Output Shape           </span>┃<span style=\"font-weight: bold\">       Param # </span>┃\n",
              "┡━━━━━━━━━━━━━━━━━━━━━━━━━━━━━━━━━╇━━━━━━━━━━━━━━━━━━━━━━━━╇━━━━━━━━━━━━━━━┩\n",
              "│ efficientnetb3 (<span style=\"color: #0087ff; text-decoration-color: #0087ff\">Functional</span>)     │ (<span style=\"color: #00d7ff; text-decoration-color: #00d7ff\">None</span>, <span style=\"color: #00af00; text-decoration-color: #00af00\">1536</span>)           │    <span style=\"color: #00af00; text-decoration-color: #00af00\">10,783,535</span> │\n",
              "├─────────────────────────────────┼────────────────────────┼───────────────┤\n",
              "│ flatten (<span style=\"color: #0087ff; text-decoration-color: #0087ff\">Flatten</span>)               │ (<span style=\"color: #00d7ff; text-decoration-color: #00d7ff\">None</span>, <span style=\"color: #00af00; text-decoration-color: #00af00\">1536</span>)           │             <span style=\"color: #00af00; text-decoration-color: #00af00\">0</span> │\n",
              "├─────────────────────────────────┼────────────────────────┼───────────────┤\n",
              "│ dropout (<span style=\"color: #0087ff; text-decoration-color: #0087ff\">Dropout</span>)               │ (<span style=\"color: #00d7ff; text-decoration-color: #00d7ff\">None</span>, <span style=\"color: #00af00; text-decoration-color: #00af00\">1536</span>)           │             <span style=\"color: #00af00; text-decoration-color: #00af00\">0</span> │\n",
              "├─────────────────────────────────┼────────────────────────┼───────────────┤\n",
              "│ dense (<span style=\"color: #0087ff; text-decoration-color: #0087ff\">Dense</span>)                   │ (<span style=\"color: #00d7ff; text-decoration-color: #00d7ff\">None</span>, <span style=\"color: #00af00; text-decoration-color: #00af00\">128</span>)            │       <span style=\"color: #00af00; text-decoration-color: #00af00\">196,736</span> │\n",
              "├─────────────────────────────────┼────────────────────────┼───────────────┤\n",
              "│ dropout_1 (<span style=\"color: #0087ff; text-decoration-color: #0087ff\">Dropout</span>)             │ (<span style=\"color: #00d7ff; text-decoration-color: #00d7ff\">None</span>, <span style=\"color: #00af00; text-decoration-color: #00af00\">128</span>)            │             <span style=\"color: #00af00; text-decoration-color: #00af00\">0</span> │\n",
              "├─────────────────────────────────┼────────────────────────┼───────────────┤\n",
              "│ dense_1 (<span style=\"color: #0087ff; text-decoration-color: #0087ff\">Dense</span>)                 │ (<span style=\"color: #00d7ff; text-decoration-color: #00d7ff\">None</span>, <span style=\"color: #00af00; text-decoration-color: #00af00\">4</span>)              │           <span style=\"color: #00af00; text-decoration-color: #00af00\">516</span> │\n",
              "└─────────────────────────────────┴────────────────────────┴───────────────┘\n",
              "</pre>\n"
            ]
          },
          "metadata": {}
        },
        {
          "output_type": "display_data",
          "data": {
            "text/plain": [
              "\u001b[1m Total params: \u001b[0m\u001b[38;5;34m10,980,787\u001b[0m (41.89 MB)\n"
            ],
            "text/html": [
              "<pre style=\"white-space:pre;overflow-x:auto;line-height:normal;font-family:Menlo,'DejaVu Sans Mono',consolas,'Courier New',monospace\"><span style=\"font-weight: bold\"> Total params: </span><span style=\"color: #00af00; text-decoration-color: #00af00\">10,980,787</span> (41.89 MB)\n",
              "</pre>\n"
            ]
          },
          "metadata": {}
        },
        {
          "output_type": "display_data",
          "data": {
            "text/plain": [
              "\u001b[1m Trainable params: \u001b[0m\u001b[38;5;34m8,703,330\u001b[0m (33.20 MB)\n"
            ],
            "text/html": [
              "<pre style=\"white-space:pre;overflow-x:auto;line-height:normal;font-family:Menlo,'DejaVu Sans Mono',consolas,'Courier New',monospace\"><span style=\"font-weight: bold\"> Trainable params: </span><span style=\"color: #00af00; text-decoration-color: #00af00\">8,703,330</span> (33.20 MB)\n",
              "</pre>\n"
            ]
          },
          "metadata": {}
        },
        {
          "output_type": "display_data",
          "data": {
            "text/plain": [
              "\u001b[1m Non-trainable params: \u001b[0m\u001b[38;5;34m2,277,457\u001b[0m (8.69 MB)\n"
            ],
            "text/html": [
              "<pre style=\"white-space:pre;overflow-x:auto;line-height:normal;font-family:Menlo,'DejaVu Sans Mono',consolas,'Courier New',monospace\"><span style=\"font-weight: bold\"> Non-trainable params: </span><span style=\"color: #00af00; text-decoration-color: #00af00\">2,277,457</span> (8.69 MB)\n",
              "</pre>\n"
            ]
          },
          "metadata": {}
        }
      ]
    },
    {
      "cell_type": "code",
      "source": [
        "# List all available physical devices\n",
        "physical_devices = tf.config.list_physical_devices('GPU')\n",
        "\n",
        "if physical_devices:\n",
        "    print(\"GPU is available:\")\n",
        "    for device in physical_devices:\n",
        "        print(f\"  - {device}\")\n",
        "else:\n",
        "    print(\"GPU is NOT available. Using CPU.\")\n",
        "\n",
        "from tensorflow.python.client import device_lib\n",
        "\n",
        "# Print available devices\n",
        "print(\"Available devices:\")\n",
        "for device in device_lib.list_local_devices():\n",
        "    print(f\"  - {device.name} ({device.device_type})\")"
      ],
      "metadata": {
        "colab": {
          "base_uri": "https://localhost:8080/"
        },
        "id": "_NUq1eEle4e8",
        "outputId": "0979a1ab-dc90-4505-e4a7-f73d5ab4bc1b"
      },
      "id": "_NUq1eEle4e8",
      "execution_count": null,
      "outputs": [
        {
          "output_type": "stream",
          "name": "stdout",
          "text": [
            "GPU is available:\n",
            "  - PhysicalDevice(name='/physical_device:GPU:0', device_type='GPU')\n",
            "Available devices:\n",
            "  - /device:CPU:0 (CPU)\n",
            "  - /device:GPU:0 (GPU)\n"
          ]
        }
      ]
    },
    {
      "cell_type": "code",
      "source": [
        "# Move the model to the GPU if available\n",
        "with tf.device('/GPU:0'): # Or '/GPU:1' etc. if you have multiple GPUs. If no GPU, defaults to CPU.\n",
        "    early_stopping = EarlyStopping(\n",
        "        monitor='val_loss',\n",
        "        patience=3,\n",
        "        mode='min',\n",
        "        restore_best_weights=True,\n",
        "        verbose=1\n",
        "    )\n",
        "    history = EfficientNetB3_model.fit(\n",
        "        train,\n",
        "        epochs=50,\n",
        "        validation_data=val,\n",
        "        callbacks=[early_stopping, annealer]\n",
        "    )\n"
      ],
      "metadata": {
        "colab": {
          "base_uri": "https://localhost:8080/"
        },
        "id": "cO_N4U11e7UE",
        "outputId": "e9d446be-b7f3-4e4c-c6c6-6d6df1df6685"
      },
      "id": "cO_N4U11e7UE",
      "execution_count": null,
      "outputs": [
        {
          "output_type": "stream",
          "name": "stdout",
          "text": [
            "Epoch 1/50\n",
            "\u001b[1m125/125\u001b[0m \u001b[32m━━━━━━━━━━━━━━━━━━━━\u001b[0m\u001b[37m\u001b[0m \u001b[1m1611s\u001b[0m 12s/step - accuracy: 0.3120 - loss: 2.4661 - val_accuracy: 0.3010 - val_loss: 1.3647 - learning_rate: 0.0010\n",
            "Epoch 2/50\n",
            "\u001b[1m125/125\u001b[0m \u001b[32m━━━━━━━━━━━━━━━━━━━━\u001b[0m\u001b[37m\u001b[0m \u001b[1m21s\u001b[0m 169ms/step - accuracy: 0.4541 - loss: 1.1938 - val_accuracy: 0.4740 - val_loss: 1.1597 - learning_rate: 9.5000e-04\n",
            "Epoch 3/50\n",
            "\u001b[1m125/125\u001b[0m \u001b[32m━━━━━━━━━━━━━━━━━━━━\u001b[0m\u001b[37m\u001b[0m \u001b[1m21s\u001b[0m 166ms/step - accuracy: 0.5392 - loss: 1.0365 - val_accuracy: 0.5640 - val_loss: 0.9340 - learning_rate: 9.0250e-04\n",
            "Epoch 4/50\n",
            "\u001b[1m125/125\u001b[0m \u001b[32m━━━━━━━━━━━━━━━━━━━━\u001b[0m\u001b[37m\u001b[0m \u001b[1m42s\u001b[0m 176ms/step - accuracy: 0.5765 - loss: 0.9361 - val_accuracy: 0.6670 - val_loss: 0.7572 - learning_rate: 8.5737e-04\n",
            "Epoch 5/50\n",
            "\u001b[1m125/125\u001b[0m \u001b[32m━━━━━━━━━━━━━━━━━━━━\u001b[0m\u001b[37m\u001b[0m \u001b[1m21s\u001b[0m 167ms/step - accuracy: 0.6180 - loss: 0.8386 - val_accuracy: 0.6850 - val_loss: 0.7152 - learning_rate: 8.1451e-04\n",
            "Epoch 6/50\n",
            "\u001b[1m125/125\u001b[0m \u001b[32m━━━━━━━━━━━━━━━━━━━━\u001b[0m\u001b[37m\u001b[0m \u001b[1m21s\u001b[0m 171ms/step - accuracy: 0.6317 - loss: 0.8242 - val_accuracy: 0.6900 - val_loss: 0.7164 - learning_rate: 7.7378e-04\n",
            "Epoch 7/50\n",
            "\u001b[1m125/125\u001b[0m \u001b[32m━━━━━━━━━━━━━━━━━━━━\u001b[0m\u001b[37m\u001b[0m \u001b[1m21s\u001b[0m 168ms/step - accuracy: 0.6674 - loss: 0.7398 - val_accuracy: 0.7110 - val_loss: 0.6486 - learning_rate: 7.3509e-04\n",
            "Epoch 8/50\n",
            "\u001b[1m125/125\u001b[0m \u001b[32m━━━━━━━━━━━━━━━━━━━━\u001b[0m\u001b[37m\u001b[0m \u001b[1m23s\u001b[0m 180ms/step - accuracy: 0.6661 - loss: 0.7482 - val_accuracy: 0.7200 - val_loss: 0.6458 - learning_rate: 6.9834e-04\n",
            "Epoch 9/50\n",
            "\u001b[1m125/125\u001b[0m \u001b[32m━━━━━━━━━━━━━━━━━━━━\u001b[0m\u001b[37m\u001b[0m \u001b[1m22s\u001b[0m 172ms/step - accuracy: 0.6883 - loss: 0.7225 - val_accuracy: 0.7180 - val_loss: 0.6423 - learning_rate: 6.6342e-04\n",
            "Epoch 10/50\n",
            "\u001b[1m125/125\u001b[0m \u001b[32m━━━━━━━━━━━━━━━━━━━━\u001b[0m\u001b[37m\u001b[0m \u001b[1m21s\u001b[0m 165ms/step - accuracy: 0.6958 - loss: 0.6903 - val_accuracy: 0.7290 - val_loss: 0.6509 - learning_rate: 6.3025e-04\n",
            "Epoch 11/50\n",
            "\u001b[1m125/125\u001b[0m \u001b[32m━━━━━━━━━━━━━━━━━━━━\u001b[0m\u001b[37m\u001b[0m \u001b[1m42s\u001b[0m 170ms/step - accuracy: 0.7299 - loss: 0.6054 - val_accuracy: 0.7320 - val_loss: 0.6150 - learning_rate: 5.9874e-04\n",
            "Epoch 12/50\n",
            "\u001b[1m125/125\u001b[0m \u001b[32m━━━━━━━━━━━━━━━━━━━━\u001b[0m\u001b[37m\u001b[0m \u001b[1m21s\u001b[0m 170ms/step - accuracy: 0.7355 - loss: 0.5879 - val_accuracy: 0.7710 - val_loss: 0.5519 - learning_rate: 5.6880e-04\n",
            "Epoch 13/50\n",
            "\u001b[1m125/125\u001b[0m \u001b[32m━━━━━━━━━━━━━━━━━━━━\u001b[0m\u001b[37m\u001b[0m \u001b[1m22s\u001b[0m 173ms/step - accuracy: 0.7777 - loss: 0.5221 - val_accuracy: 0.7660 - val_loss: 0.5764 - learning_rate: 5.4036e-04\n",
            "Epoch 14/50\n",
            "\u001b[1m125/125\u001b[0m \u001b[32m━━━━━━━━━━━━━━━━━━━━\u001b[0m\u001b[37m\u001b[0m \u001b[1m22s\u001b[0m 178ms/step - accuracy: 0.7813 - loss: 0.5197 - val_accuracy: 0.7780 - val_loss: 0.5361 - learning_rate: 5.1334e-04\n",
            "Epoch 15/50\n",
            "\u001b[1m125/125\u001b[0m \u001b[32m━━━━━━━━━━━━━━━━━━━━\u001b[0m\u001b[37m\u001b[0m \u001b[1m21s\u001b[0m 167ms/step - accuracy: 0.8003 - loss: 0.4813 - val_accuracy: 0.7930 - val_loss: 0.5376 - learning_rate: 4.8767e-04\n",
            "Epoch 16/50\n",
            "\u001b[1m125/125\u001b[0m \u001b[32m━━━━━━━━━━━━━━━━━━━━\u001b[0m\u001b[37m\u001b[0m \u001b[1m42s\u001b[0m 176ms/step - accuracy: 0.8082 - loss: 0.4524 - val_accuracy: 0.7850 - val_loss: 0.5485 - learning_rate: 4.6329e-04\n",
            "Epoch 17/50\n",
            "\u001b[1m125/125\u001b[0m \u001b[32m━━━━━━━━━━━━━━━━━━━━\u001b[0m\u001b[37m\u001b[0m \u001b[1m21s\u001b[0m 169ms/step - accuracy: 0.8211 - loss: 0.4250 - val_accuracy: 0.8010 - val_loss: 0.5272 - learning_rate: 4.4013e-04\n",
            "Epoch 18/50\n",
            "\u001b[1m125/125\u001b[0m \u001b[32m━━━━━━━━━━━━━━━━━━━━\u001b[0m\u001b[37m\u001b[0m \u001b[1m22s\u001b[0m 173ms/step - accuracy: 0.8379 - loss: 0.3966 - val_accuracy: 0.7860 - val_loss: 0.5590 - learning_rate: 4.1812e-04\n",
            "Epoch 19/50\n",
            "\u001b[1m125/125\u001b[0m \u001b[32m━━━━━━━━━━━━━━━━━━━━\u001b[0m\u001b[37m\u001b[0m \u001b[1m22s\u001b[0m 178ms/step - accuracy: 0.8371 - loss: 0.3924 - val_accuracy: 0.8140 - val_loss: 0.4876 - learning_rate: 3.9721e-04\n",
            "Epoch 20/50\n",
            "\u001b[1m125/125\u001b[0m \u001b[32m━━━━━━━━━━━━━━━━━━━━\u001b[0m\u001b[37m\u001b[0m \u001b[1m21s\u001b[0m 166ms/step - accuracy: 0.8618 - loss: 0.3335 - val_accuracy: 0.8170 - val_loss: 0.5282 - learning_rate: 3.7735e-04\n",
            "Epoch 21/50\n",
            "\u001b[1m125/125\u001b[0m \u001b[32m━━━━━━━━━━━━━━━━━━━━\u001b[0m\u001b[37m\u001b[0m \u001b[1m21s\u001b[0m 169ms/step - accuracy: 0.8552 - loss: 0.3427 - val_accuracy: 0.8060 - val_loss: 0.5166 - learning_rate: 3.5849e-04\n",
            "Epoch 22/50\n",
            "\u001b[1m125/125\u001b[0m \u001b[32m━━━━━━━━━━━━━━━━━━━━\u001b[0m\u001b[37m\u001b[0m \u001b[1m22s\u001b[0m 177ms/step - accuracy: 0.8614 - loss: 0.3512 - val_accuracy: 0.8250 - val_loss: 0.4855 - learning_rate: 3.4056e-04\n",
            "Epoch 23/50\n",
            "\u001b[1m125/125\u001b[0m \u001b[32m━━━━━━━━━━━━━━━━━━━━\u001b[0m\u001b[37m\u001b[0m \u001b[1m41s\u001b[0m 178ms/step - accuracy: 0.8769 - loss: 0.3187 - val_accuracy: 0.8220 - val_loss: 0.4850 - learning_rate: 3.2353e-04\n",
            "Epoch 24/50\n",
            "\u001b[1m125/125\u001b[0m \u001b[32m━━━━━━━━━━━━━━━━━━━━\u001b[0m\u001b[37m\u001b[0m \u001b[1m21s\u001b[0m 165ms/step - accuracy: 0.8722 - loss: 0.3119 - val_accuracy: 0.8170 - val_loss: 0.5035 - learning_rate: 3.0736e-04\n",
            "Epoch 25/50\n",
            "\u001b[1m125/125\u001b[0m \u001b[32m━━━━━━━━━━━━━━━━━━━━\u001b[0m\u001b[37m\u001b[0m \u001b[1m21s\u001b[0m 170ms/step - accuracy: 0.8776 - loss: 0.2791 - val_accuracy: 0.8140 - val_loss: 0.5248 - learning_rate: 2.9199e-04\n",
            "Epoch 26/50\n",
            "\u001b[1m125/125\u001b[0m \u001b[32m━━━━━━━━━━━━━━━━━━━━\u001b[0m\u001b[37m\u001b[0m \u001b[1m22s\u001b[0m 176ms/step - accuracy: 0.9086 - loss: 0.2423 - val_accuracy: 0.8280 - val_loss: 0.4886 - learning_rate: 2.7739e-04\n",
            "Epoch 26: early stopping\n",
            "Restoring model weights from the end of the best epoch: 23.\n"
          ]
        }
      ]
    },
    {
      "cell_type": "code",
      "source": [
        "train_loss, train_accuracy =  EfficientNetB3_model.evaluate(train)\n",
        "print(f'\\nTrain loss: {train_loss:.2f}')\n",
        "print(f'Train Accuracy: {train_accuracy*100:.2f} %')\n",
        "\n",
        "val_loss, val_accuracy =  EfficientNetB3_model.evaluate(val)\n",
        "print(f'\\nvalidation loss: {val_loss:.2f}')\n",
        "print(f'Validation Accuracy: {val_accuracy*100:.2f} %')\n",
        "\n",
        "test_loss, test_accuracy =  EfficientNetB3_model.evaluate(test)\n",
        "print(f'\\ntest loss: {test_loss:.2f}')\n",
        "print(f'test Accuracy: {test_accuracy*100:.2f} %')"
      ],
      "metadata": {
        "colab": {
          "base_uri": "https://localhost:8080/"
        },
        "id": "K6UNxM_Xe-fe",
        "outputId": "c9cb9d1b-0e5f-4772-b755-7e21096a3268"
      },
      "id": "K6UNxM_Xe-fe",
      "execution_count": null,
      "outputs": [
        {
          "output_type": "stream",
          "name": "stdout",
          "text": [
            "\u001b[1m125/125\u001b[0m \u001b[32m━━━━━━━━━━━━━━━━━━━━\u001b[0m\u001b[37m\u001b[0m \u001b[1m20s\u001b[0m 157ms/step - accuracy: 0.9613 - loss: 0.1009\n",
            "\n",
            "Train loss: 0.10\n",
            "Train Accuracy: 96.57 %\n",
            "\u001b[1m32/32\u001b[0m \u001b[32m━━━━━━━━━━━━━━━━━━━━\u001b[0m\u001b[37m\u001b[0m \u001b[1m4s\u001b[0m 127ms/step - accuracy: 0.8262 - loss: 0.4653\n",
            "\n",
            "validation loss: 0.48\n",
            "Validation Accuracy: 82.20 %\n",
            "\u001b[1m27/27\u001b[0m \u001b[32m━━━━━━━━━━━━━━━━━━━━\u001b[0m\u001b[37m\u001b[0m \u001b[1m207s\u001b[0m 8s/step - accuracy: 0.9175 - loss: 0.2465\n",
            "\n",
            "test loss: 0.41\n",
            "test Accuracy: 84.81 %\n"
          ]
        }
      ]
    },
    {
      "cell_type": "code",
      "source": [
        "result = EfficientNetB3_model.evaluate(test, verbose=1)\n",
        "print(result)"
      ],
      "metadata": {
        "colab": {
          "base_uri": "https://localhost:8080/"
        },
        "id": "_m0SjWDnfByJ",
        "outputId": "1c24c0f2-db75-4cf3-b539-8a92402f52a8"
      },
      "id": "_m0SjWDnfByJ",
      "execution_count": null,
      "outputs": [
        {
          "output_type": "stream",
          "name": "stdout",
          "text": [
            "\u001b[1m27/27\u001b[0m \u001b[32m━━━━━━━━━━━━━━━━━━━━\u001b[0m\u001b[37m\u001b[0m \u001b[1m3s\u001b[0m 117ms/step - accuracy: 0.9175 - loss: 0.2465\n",
            "[0.40638086199760437, 0.8480861186981201]\n"
          ]
        }
      ]
    },
    {
      "cell_type": "code",
      "source": [
        "plt.plot(history.history['accuracy'])\n",
        "plt.plot(history.history['val_accuracy'])\n",
        "plt.title('model accuracy')\n",
        "plt.ylabel('accuracy')\n",
        "plt.xlabel('epoch')\n",
        "plt.legend(['train', 'val'], loc='upper left')\n",
        "plt.show()"
      ],
      "metadata": {
        "colab": {
          "base_uri": "https://localhost:8080/",
          "height": 472
        },
        "id": "Qrm2cdvJfEbs",
        "outputId": "734349bc-bfe8-47e2-ffb7-19c504fad629"
      },
      "id": "Qrm2cdvJfEbs",
      "execution_count": null,
      "outputs": [
        {
          "output_type": "display_data",
          "data": {
            "text/plain": [
              "<Figure size 640x480 with 1 Axes>"
            ],
            "image/png": "[encoded data removed]"
          },
          "metadata": {}
        }
      ]
    },
    {
      "cell_type": "code",
      "source": [
        "plt.plot(history.history['loss'])\n",
        "plt.plot(history.history['val_loss'])\n",
        "plt.title('model loss')\n",
        "plt.ylabel('loss')\n",
        "plt.xlabel('epoch')\n",
        "plt.legend(['train', 'val'], loc='upper left')\n",
        "plt.show()"
      ],
      "metadata": {
        "colab": {
          "base_uri": "https://localhost:8080/",
          "height": 472
        },
        "id": "1Og7WY__fGG-",
        "outputId": "b85ed463-5be5-4c14-8aa3-ad2eeb295d9e"
      },
      "id": "1Og7WY__fGG-",
      "execution_count": null,
      "outputs": [
        {
          "output_type": "display_data",
          "data": {
            "text/plain": [
              "<Figure size 640x480 with 1 Axes>"
            ],
            "image/png": "[encoded data removed]"
          },
          "metadata": {}
        }
      ]
    },
    {
      "cell_type": "code",
      "source": [
        "from sklearn.metrics import confusion_matrix, accuracy_score\n",
        "\n",
        "test_hat =  EfficientNetB3_model.predict(test)\n",
        "test_hat = np.argmax(test_hat, axis=1)\n",
        "\n",
        "labels = (train.class_indices)\n",
        "labels = dict((v,k) for k,v in labels.items())\n",
        "pred_report = [labels[k] for k in test_hat]\n",
        "\n",
        "y_test = test_images.labels\n",
        "print(classification_report(y_test, pred_report))\n",
        "print(\"Accuracy of the Model:\",\"{:.1f}%\".format(accuracy_score(y_test, pred_report)*100))"
      ],
      "metadata": {
        "colab": {
          "base_uri": "https://localhost:8080/"
        },
        "id": "oCgFT651fHwM",
        "outputId": "7bf405f6-41ab-4c5d-9518-39de38326b06"
      },
      "id": "oCgFT651fHwM",
      "execution_count": null,
      "outputs": [
        {
          "output_type": "stream",
          "name": "stdout",
          "text": [
            "\u001b[1m27/27\u001b[0m \u001b[32m━━━━━━━━━━━━━━━━━━━━\u001b[0m\u001b[37m\u001b[0m \u001b[1m20s\u001b[0m 448ms/step\n",
            "                  precision    recall  f1-score   support\n",
            "\n",
            "    MildDemented       0.85      0.93      0.89       244\n",
            "ModerateDemented       0.99      0.99      0.99       168\n",
            "     NonDemented       0.85      0.79      0.82       261\n",
            "VeryMildDemented       0.69      0.66      0.68       163\n",
            "\n",
            "        accuracy                           0.85       836\n",
            "       macro avg       0.84      0.85      0.84       836\n",
            "    weighted avg       0.85      0.85      0.85       836\n",
            "\n",
            "Accuracy of the Model: 84.8%\n"
          ]
        }
      ]
    },
    {
      "cell_type": "markdown",
      "source": [
        "# EfficientNetB2"
      ],
      "metadata": {
        "id": "QhvAyfQ7gJcY"
      },
      "id": "QhvAyfQ7gJcY"
    },
    {
      "cell_type": "code",
      "source": [
        "from tensorflow.keras.optimizers import Adamax\n",
        "from tensorflow.keras.applications import EfficientNetB2\n",
        "\n",
        "# Define input image shape\n",
        "img_shape = (244, 244, 3)\n",
        "\n",
        "# Load the pre-trained EfficientNetB2 model without the top classification layer\n",
        "base_model = EfficientNetB2(\n",
        "    include_top=False,         # Do not include the top classification layer\n",
        "    weights=\"imagenet\",        # Use pre-trained ImageNet weights\n",
        "    input_shape=img_shape,     # Input shape\n",
        "    pooling='max'              # Global max pooling after conv base\n",
        ")"
      ],
      "metadata": {
        "id": "mqEkuramgIZk",
        "colab": {
          "base_uri": "https://localhost:8080/"
        },
        "outputId": "4ef67bfb-2cec-4524-aee0-68bcfd45f53a"
      },
      "id": "mqEkuramgIZk",
      "execution_count": null,
      "outputs": [
        {
          "output_type": "stream",
          "name": "stdout",
          "text": [
            "Downloading data from https://storage.googleapis.com/keras-applications/efficientnetb2_notop.h5\n",
            "\u001b[1m31790344/31790344\u001b[0m \u001b[32m━━━━━━━━━━━━━━━━━━━━\u001b[0m\u001b[37m\u001b[0m \u001b[1m0s\u001b[0m 0us/step\n"
          ]
        }
      ]
    },
    {
      "cell_type": "code",
      "source": [
        "base_model.trainable = True\n",
        "\n",
        "# Flag to start fine-tuning\n",
        "set_trainable = False\n",
        "\n",
        "# Unfreeze layers from a specific point onwards\n",
        "for layer in base_model.layers:\n",
        "    if layer.name == 'block6a_expand_conv':  # You can change this layer to whichever layer you want to unfreeze\n",
        "        set_trainable = True\n",
        "    if set_trainable:\n",
        "        layer.trainable = True\n",
        "    else:\n",
        "        layer.trainable = False"
      ],
      "metadata": {
        "id": "Q_3zIAS_gPjH"
      },
      "id": "Q_3zIAS_gPjH",
      "execution_count": null,
      "outputs": []
    },
    {
      "cell_type": "code",
      "source": [
        "EfficientNetB2_model = Sequential([\n",
        "    tf.keras.layers.InputLayer(input_shape=img_shape),\n",
        "    base_model,\n",
        "    Flatten(),\n",
        "    Dropout(rate=0.3),\n",
        "    Dense(128, activation='relu'),\n",
        "    Dropout(rate=0.25),\n",
        "    Dense(4, activation='softmax')\n",
        "])\n",
        "\n",
        "EfficientNetB2_model.compile(\n",
        "    Adamax(learning_rate=0.001),\n",
        "    loss='categorical_crossentropy',\n",
        "    metrics=['accuracy']\n",
        ")\n",
        "\n",
        "EfficientNetB2_model.summary()"
      ],
      "metadata": {
        "colab": {
          "base_uri": "https://localhost:8080/",
          "height": 321
        },
        "id": "2q9IsyJmgTrK",
        "outputId": "156cff2b-8cd0-40e9-bfc4-81dc7981a5ce"
      },
      "id": "2q9IsyJmgTrK",
      "execution_count": null,
      "outputs": [
        {
          "output_type": "display_data",
          "data": {
            "text/plain": [
              "\u001b[1mModel: \"sequential_1\"\u001b[0m\n"
            ],
            "text/html": [
              "<pre style=\"white-space:pre;overflow-x:auto;line-height:normal;font-family:Menlo,'DejaVu Sans Mono',consolas,'Courier New',monospace\"><span style=\"font-weight: bold\">Model: \"sequential_1\"</span>\n",
              "</pre>\n"
            ]
          },
          "metadata": {}
        },
        {
          "output_type": "display_data",
          "data": {
            "text/plain": [
              "┏━━━━━━━━━━━━━━━━━━━━━━━━━━━━━━━━━┳━━━━━━━━━━━━━━━━━━━━━━━━┳━━━━━━━━━━━━━━━┓\n",
              "┃\u001b[1m \u001b[0m\u001b[1mLayer (type)                   \u001b[0m\u001b[1m \u001b[0m┃\u001b[1m \u001b[0m\u001b[1mOutput Shape          \u001b[0m\u001b[1m \u001b[0m┃\u001b[1m \u001b[0m\u001b[1m      Param #\u001b[0m\u001b[1m \u001b[0m┃\n",
              "┡━━━━━━━━━━━━━━━━━━━━━━━━━━━━━━━━━╇━━━━━━━━━━━━━━━━━━━━━━━━╇━━━━━━━━━━━━━━━┩\n",
              "│ efficientnetb2 (\u001b[38;5;33mFunctional\u001b[0m)     │ (\u001b[38;5;45mNone\u001b[0m, \u001b[38;5;34m1408\u001b[0m)           │     \u001b[38;5;34m7,768,569\u001b[0m │\n",
              "├─────────────────────────────────┼────────────────────────┼───────────────┤\n",
              "│ flatten_1 (\u001b[38;5;33mFlatten\u001b[0m)             │ (\u001b[38;5;45mNone\u001b[0m, \u001b[38;5;34m1408\u001b[0m)           │             \u001b[38;5;34m0\u001b[0m │\n",
              "├─────────────────────────────────┼────────────────────────┼───────────────┤\n",
              "│ dropout_2 (\u001b[38;5;33mDropout\u001b[0m)             │ (\u001b[38;5;45mNone\u001b[0m, \u001b[38;5;34m1408\u001b[0m)           │             \u001b[38;5;34m0\u001b[0m │\n",
              "├─────────────────────────────────┼────────────────────────┼───────────────┤\n",
              "│ dense_2 (\u001b[38;5;33mDense\u001b[0m)                 │ (\u001b[38;5;45mNone\u001b[0m, \u001b[38;5;34m128\u001b[0m)            │       \u001b[38;5;34m180,352\u001b[0m │\n",
              "├─────────────────────────────────┼────────────────────────┼───────────────┤\n",
              "│ dropout_3 (\u001b[38;5;33mDropout\u001b[0m)             │ (\u001b[38;5;45mNone\u001b[0m, \u001b[38;5;34m128\u001b[0m)            │             \u001b[38;5;34m0\u001b[0m │\n",
              "├─────────────────────────────────┼────────────────────────┼───────────────┤\n",
              "│ dense_3 (\u001b[38;5;33mDense\u001b[0m)                 │ (\u001b[38;5;45mNone\u001b[0m, \u001b[38;5;34m4\u001b[0m)              │           \u001b[38;5;34m516\u001b[0m │\n",
              "└─────────────────────────────────┴────────────────────────┴───────────────┘\n"
            ],
            "text/html": [
              "<pre style=\"white-space:pre;overflow-x:auto;line-height:normal;font-family:Menlo,'DejaVu Sans Mono',consolas,'Courier New',monospace\">┏━━━━━━━━━━━━━━━━━━━━━━━━━━━━━━━━━┳━━━━━━━━━━━━━━━━━━━━━━━━┳━━━━━━━━━━━━━━━┓\n",
              "┃<span style=\"font-weight: bold\"> Layer (type)                    </span>┃<span style=\"font-weight: bold\"> Output Shape           </span>┃<span style=\"font-weight: bold\">       Param # </span>┃\n",
              "┡━━━━━━━━━━━━━━━━━━━━━━━━━━━━━━━━━╇━━━━━━━━━━━━━━━━━━━━━━━━╇━━━━━━━━━━━━━━━┩\n",
              "│ efficientnetb2 (<span style=\"color: #0087ff; text-decoration-color: #0087ff\">Functional</span>)     │ (<span style=\"color: #00d7ff; text-decoration-color: #00d7ff\">None</span>, <span style=\"color: #00af00; text-decoration-color: #00af00\">1408</span>)           │     <span style=\"color: #00af00; text-decoration-color: #00af00\">7,768,569</span> │\n",
              "├─────────────────────────────────┼────────────────────────┼───────────────┤\n",
              "│ flatten_1 (<span style=\"color: #0087ff; text-decoration-color: #0087ff\">Flatten</span>)             │ (<span style=\"color: #00d7ff; text-decoration-color: #00d7ff\">None</span>, <span style=\"color: #00af00; text-decoration-color: #00af00\">1408</span>)           │             <span style=\"color: #00af00; text-decoration-color: #00af00\">0</span> │\n",
              "├─────────────────────────────────┼────────────────────────┼───────────────┤\n",
              "│ dropout_2 (<span style=\"color: #0087ff; text-decoration-color: #0087ff\">Dropout</span>)             │ (<span style=\"color: #00d7ff; text-decoration-color: #00d7ff\">None</span>, <span style=\"color: #00af00; text-decoration-color: #00af00\">1408</span>)           │             <span style=\"color: #00af00; text-decoration-color: #00af00\">0</span> │\n",
              "├─────────────────────────────────┼────────────────────────┼───────────────┤\n",
              "│ dense_2 (<span style=\"color: #0087ff; text-decoration-color: #0087ff\">Dense</span>)                 │ (<span style=\"color: #00d7ff; text-decoration-color: #00d7ff\">None</span>, <span style=\"color: #00af00; text-decoration-color: #00af00\">128</span>)            │       <span style=\"color: #00af00; text-decoration-color: #00af00\">180,352</span> │\n",
              "├─────────────────────────────────┼────────────────────────┼───────────────┤\n",
              "│ dropout_3 (<span style=\"color: #0087ff; text-decoration-color: #0087ff\">Dropout</span>)             │ (<span style=\"color: #00d7ff; text-decoration-color: #00d7ff\">None</span>, <span style=\"color: #00af00; text-decoration-color: #00af00\">128</span>)            │             <span style=\"color: #00af00; text-decoration-color: #00af00\">0</span> │\n",
              "├─────────────────────────────────┼────────────────────────┼───────────────┤\n",
              "│ dense_3 (<span style=\"color: #0087ff; text-decoration-color: #0087ff\">Dense</span>)                 │ (<span style=\"color: #00d7ff; text-decoration-color: #00d7ff\">None</span>, <span style=\"color: #00af00; text-decoration-color: #00af00\">4</span>)              │           <span style=\"color: #00af00; text-decoration-color: #00af00\">516</span> │\n",
              "└─────────────────────────────────┴────────────────────────┴───────────────┘\n",
              "</pre>\n"
            ]
          },
          "metadata": {}
        },
        {
          "output_type": "display_data",
          "data": {
            "text/plain": [
              "\u001b[1m Total params: \u001b[0m\u001b[38;5;34m7,949,437\u001b[0m (30.32 MB)\n"
            ],
            "text/html": [
              "<pre style=\"white-space:pre;overflow-x:auto;line-height:normal;font-family:Menlo,'DejaVu Sans Mono',consolas,'Courier New',monospace\"><span style=\"font-weight: bold\"> Total params: </span><span style=\"color: #00af00; text-decoration-color: #00af00\">7,949,437</span> (30.32 MB)\n",
              "</pre>\n"
            ]
          },
          "metadata": {}
        },
        {
          "output_type": "display_data",
          "data": {
            "text/plain": [
              "\u001b[1m Trainable params: \u001b[0m\u001b[38;5;34m6,463,998\u001b[0m (24.66 MB)\n"
            ],
            "text/html": [
              "<pre style=\"white-space:pre;overflow-x:auto;line-height:normal;font-family:Menlo,'DejaVu Sans Mono',consolas,'Courier New',monospace\"><span style=\"font-weight: bold\"> Trainable params: </span><span style=\"color: #00af00; text-decoration-color: #00af00\">6,463,998</span> (24.66 MB)\n",
              "</pre>\n"
            ]
          },
          "metadata": {}
        },
        {
          "output_type": "display_data",
          "data": {
            "text/plain": [
              "\u001b[1m Non-trainable params: \u001b[0m\u001b[38;5;34m1,485,439\u001b[0m (5.67 MB)\n"
            ],
            "text/html": [
              "<pre style=\"white-space:pre;overflow-x:auto;line-height:normal;font-family:Menlo,'DejaVu Sans Mono',consolas,'Courier New',monospace\"><span style=\"font-weight: bold\"> Non-trainable params: </span><span style=\"color: #00af00; text-decoration-color: #00af00\">1,485,439</span> (5.67 MB)\n",
              "</pre>\n"
            ]
          },
          "metadata": {}
        }
      ]
    },
    {
      "cell_type": "code",
      "source": [
        "# List all available physical devices\n",
        "physical_devices = tf.config.list_physical_devices('GPU')\n",
        "\n",
        "if physical_devices:\n",
        "    print(\"GPU is available:\")\n",
        "    for device in physical_devices:\n",
        "        print(f\"  - {device}\")\n",
        "else:\n",
        "    print(\"GPU is NOT available. Using CPU.\")\n",
        "\n",
        "from tensorflow.python.client import device_lib\n",
        "\n",
        "# Print available devices\n",
        "print(\"Available devices:\")\n",
        "for device in device_lib.list_local_devices():\n",
        "    print(f\"  - {device.name} ({device.device_type})\")"
      ],
      "metadata": {
        "colab": {
          "base_uri": "https://localhost:8080/"
        },
        "id": "y9tne82_gYQW",
        "outputId": "7243f335-feb5-484e-fb4d-c09cd59954ca"
      },
      "id": "y9tne82_gYQW",
      "execution_count": null,
      "outputs": [
        {
          "output_type": "stream",
          "name": "stdout",
          "text": [
            "GPU is available:\n",
            "  - PhysicalDevice(name='/physical_device:GPU:0', device_type='GPU')\n",
            "Available devices:\n",
            "  - /device:CPU:0 (CPU)\n",
            "  - /device:GPU:0 (GPU)\n"
          ]
        }
      ]
    },
    {
      "cell_type": "code",
      "source": [
        "# Move the model to the GPU if available\n",
        "with tf.device('/GPU:0'): # Or '/GPU:1' etc. if you have multiple GPUs. If no GPU, defaults to CPU.\n",
        "    early_stopping = EarlyStopping(\n",
        "        monitor='val_loss',\n",
        "        patience=3,\n",
        "        mode='min',\n",
        "        restore_best_weights=True,\n",
        "        verbose=1\n",
        "    )\n",
        "    history = EfficientNetB2_model.fit(\n",
        "        train,\n",
        "        epochs=50,\n",
        "        validation_data=val,\n",
        "        callbacks=[early_stopping, annealer]\n",
        "    )\n"
      ],
      "metadata": {
        "colab": {
          "base_uri": "https://localhost:8080/"
        },
        "id": "PIy4_o_Hga1d",
        "outputId": "c49fad7b-2133-4d18-9e4e-6a7506ed8868"
      },
      "id": "PIy4_o_Hga1d",
      "execution_count": null,
      "outputs": [
        {
          "output_type": "stream",
          "name": "stdout",
          "text": [
            "Epoch 1/50\n",
            "\u001b[1m125/125\u001b[0m \u001b[32m━━━━━━━━━━━━━━━━━━━━\u001b[0m\u001b[37m\u001b[0m \u001b[1m118s\u001b[0m 501ms/step - accuracy: 0.2689 - loss: 3.3014 - val_accuracy: 0.2720 - val_loss: 1.3718 - learning_rate: 0.0010\n",
            "Epoch 2/50\n",
            "\u001b[1m125/125\u001b[0m \u001b[32m━━━━━━━━━━━━━━━━━━━━\u001b[0m\u001b[37m\u001b[0m \u001b[1m22s\u001b[0m 177ms/step - accuracy: 0.3293 - loss: 1.3666 - val_accuracy: 0.3150 - val_loss: 1.3664 - learning_rate: 9.5000e-04\n",
            "Epoch 3/50\n",
            "\u001b[1m125/125\u001b[0m \u001b[32m━━━━━━━━━━━━━━━━━━━━\u001b[0m\u001b[37m\u001b[0m \u001b[1m21s\u001b[0m 170ms/step - accuracy: 0.3641 - loss: 1.3208 - val_accuracy: 0.4360 - val_loss: 1.3039 - learning_rate: 9.0250e-04\n",
            "Epoch 4/50\n",
            "\u001b[1m125/125\u001b[0m \u001b[32m━━━━━━━━━━━━━━━━━━━━\u001b[0m\u001b[37m\u001b[0m \u001b[1m22s\u001b[0m 173ms/step - accuracy: 0.4174 - loss: 1.2496 - val_accuracy: 0.4380 - val_loss: 1.1708 - learning_rate: 8.5737e-04\n",
            "Epoch 5/50\n",
            "\u001b[1m125/125\u001b[0m \u001b[32m━━━━━━━━━━━━━━━━━━━━\u001b[0m\u001b[37m\u001b[0m \u001b[1m21s\u001b[0m 167ms/step - accuracy: 0.4484 - loss: 1.2086 - val_accuracy: 0.4510 - val_loss: 1.1911 - learning_rate: 8.1451e-04\n",
            "Epoch 6/50\n",
            "\u001b[1m125/125\u001b[0m \u001b[32m━━━━━━━━━━━━━━━━━━━━\u001b[0m\u001b[37m\u001b[0m \u001b[1m22s\u001b[0m 175ms/step - accuracy: 0.4995 - loss: 1.0971 - val_accuracy: 0.4810 - val_loss: 1.1405 - learning_rate: 7.7378e-04\n",
            "Epoch 7/50\n",
            "\u001b[1m125/125\u001b[0m \u001b[32m━━━━━━━━━━━━━━━━━━━━\u001b[0m\u001b[37m\u001b[0m \u001b[1m20s\u001b[0m 161ms/step - accuracy: 0.5238 - loss: 1.0682 - val_accuracy: 0.5900 - val_loss: 0.9452 - learning_rate: 7.3509e-04\n",
            "Epoch 8/50\n",
            "\u001b[1m125/125\u001b[0m \u001b[32m━━━━━━━━━━━━━━━━━━━━\u001b[0m\u001b[37m\u001b[0m \u001b[1m21s\u001b[0m 164ms/step - accuracy: 0.5492 - loss: 1.0251 - val_accuracy: 0.6080 - val_loss: 0.8661 - learning_rate: 6.9834e-04\n",
            "Epoch 9/50\n",
            "\u001b[1m125/125\u001b[0m \u001b[32m━━━━━━━━━━━━━━━━━━━━\u001b[0m\u001b[37m\u001b[0m \u001b[1m20s\u001b[0m 159ms/step - accuracy: 0.5629 - loss: 0.9584 - val_accuracy: 0.6280 - val_loss: 0.8164 - learning_rate: 6.6342e-04\n",
            "Epoch 10/50\n",
            "\u001b[1m125/125\u001b[0m \u001b[32m━━━━━━━━━━━━━━━━━━━━\u001b[0m\u001b[37m\u001b[0m \u001b[1m20s\u001b[0m 161ms/step - accuracy: 0.6033 - loss: 0.9137 - val_accuracy: 0.5680 - val_loss: 1.0372 - learning_rate: 6.3025e-04\n",
            "Epoch 11/50\n",
            "\u001b[1m125/125\u001b[0m \u001b[32m━━━━━━━━━━━━━━━━━━━━\u001b[0m\u001b[37m\u001b[0m \u001b[1m20s\u001b[0m 160ms/step - accuracy: 0.5994 - loss: 0.9241 - val_accuracy: 0.6440 - val_loss: 0.8447 - learning_rate: 5.9874e-04\n",
            "Epoch 12/50\n",
            "\u001b[1m125/125\u001b[0m \u001b[32m━━━━━━━━━━━━━━━━━━━━\u001b[0m\u001b[37m\u001b[0m \u001b[1m21s\u001b[0m 163ms/step - accuracy: 0.6377 - loss: 0.8198 - val_accuracy: 0.5710 - val_loss: 1.1378 - learning_rate: 5.6880e-04\n",
            "Epoch 12: early stopping\n",
            "Restoring model weights from the end of the best epoch: 9.\n"
          ]
        }
      ]
    },
    {
      "cell_type": "code",
      "source": [
        "train_loss, train_accuracy =  EfficientNetB2_model.evaluate(train)\n",
        "print(f'\\nTrain loss: {train_loss:.2f}')\n",
        "print(f'Train Accuracy: {train_accuracy*100:.2f} %')\n",
        "\n",
        "val_loss, val_accuracy =  EfficientNetB2_model.evaluate(val)\n",
        "print(f'\\nvalidation loss: {val_loss:.2f}')\n",
        "print(f'Validation Accuracy: {val_accuracy*100:.2f} %')\n",
        "\n",
        "test_loss, test_accuracy =  EfficientNetB2_model.evaluate(test)\n",
        "print(f'\\ntest loss: {test_loss:.2f}')\n",
        "print(f'test Accuracy: {test_accuracy*100:.2f} %')"
      ],
      "metadata": {
        "colab": {
          "base_uri": "https://localhost:8080/"
        },
        "id": "0WJvhofVgfZ7",
        "outputId": "e89f672c-f34a-477e-fc18-c9d87b39412e"
      },
      "id": "0WJvhofVgfZ7",
      "execution_count": null,
      "outputs": [
        {
          "output_type": "stream",
          "name": "stdout",
          "text": [
            "\u001b[1m125/125\u001b[0m \u001b[32m━━━━━━━━━━━━━━━━━━━━\u001b[0m\u001b[37m\u001b[0m \u001b[1m19s\u001b[0m 154ms/step - accuracy: 0.6543 - loss: 0.7652\n",
            "\n",
            "Train loss: 0.77\n",
            "Train Accuracy: 64.64 %\n",
            "\u001b[1m32/32\u001b[0m \u001b[32m━━━━━━━━━━━━━━━━━━━━\u001b[0m\u001b[37m\u001b[0m \u001b[1m4s\u001b[0m 134ms/step - accuracy: 0.6361 - loss: 0.8252\n",
            "\n",
            "validation loss: 0.82\n",
            "Validation Accuracy: 62.80 %\n",
            "\u001b[1m27/27\u001b[0m \u001b[32m━━━━━━━━━━━━━━━━━━━━\u001b[0m\u001b[37m\u001b[0m \u001b[1m9s\u001b[0m 339ms/step - accuracy: 0.6775 - loss: 0.8389\n",
            "\n",
            "test loss: 0.81\n",
            "test Accuracy: 63.52 %\n"
          ]
        }
      ]
    },
    {
      "cell_type": "code",
      "source": [
        "result = EfficientNetB2_model.evaluate(test, verbose=1)\n",
        "print(result)"
      ],
      "metadata": {
        "colab": {
          "base_uri": "https://localhost:8080/"
        },
        "id": "NdeKuIhPgjdS",
        "outputId": "bdf4ded0-eb92-4969-f641-e7f1273263f4"
      },
      "id": "NdeKuIhPgjdS",
      "execution_count": null,
      "outputs": [
        {
          "output_type": "stream",
          "name": "stdout",
          "text": [
            "\u001b[1m27/27\u001b[0m \u001b[32m━━━━━━━━━━━━━━━━━━━━\u001b[0m\u001b[37m\u001b[0m \u001b[1m4s\u001b[0m 131ms/step - accuracy: 0.6775 - loss: 0.8389\n",
            "[0.81417316198349, 0.6351674795150757]\n"
          ]
        }
      ]
    },
    {
      "cell_type": "code",
      "source": [
        "plt.plot(history.history['accuracy'])\n",
        "plt.plot(history.history['val_accuracy'])\n",
        "plt.title('model accuracy')\n",
        "plt.ylabel('accuracy')\n",
        "plt.xlabel('epoch')\n",
        "plt.legend(['train', 'val'], loc='upper left')\n",
        "plt.show()"
      ],
      "metadata": {
        "colab": {
          "base_uri": "https://localhost:8080/",
          "height": 472
        },
        "id": "XqBaM1n8gnh_",
        "outputId": "98f5bc25-fbf4-4609-aa97-d71400d8fbc9"
      },
      "id": "XqBaM1n8gnh_",
      "execution_count": null,
      "outputs": [
        {
          "output_type": "display_data",
          "data": {
            "text/plain": [
              "<Figure size 640x480 with 1 Axes>"
            ],
            "image/png": "[encoded data removed]"
          },
          "metadata": {}
        }
      ]
    },
    {
      "cell_type": "code",
      "source": [
        "plt.plot(history.history['loss'])\n",
        "plt.plot(history.history['val_loss'])\n",
        "plt.title('model loss')\n",
        "plt.ylabel('loss')\n",
        "plt.xlabel('epoch')\n",
        "plt.legend(['train', 'val'], loc='upper left')\n",
        "plt.show()"
      ],
      "metadata": {
        "colab": {
          "base_uri": "https://localhost:8080/",
          "height": 472
        },
        "id": "nDwWxTS_gqPC",
        "outputId": "4032fd8f-e11e-41ee-d386-9908c5668ce8"
      },
      "id": "nDwWxTS_gqPC",
      "execution_count": null,
      "outputs": [
        {
          "output_type": "display_data",
          "data": {
            "text/plain": [
              "<Figure size 640x480 with 1 Axes>"
            ],
            "image/png": "[encoded data removed]"
          },
          "metadata": {}
        }
      ]
    },
    {
      "cell_type": "code",
      "source": [
        "from sklearn.metrics import confusion_matrix, accuracy_score\n",
        "\n",
        "test_hat =  EfficientNetB2_model.predict(test)\n",
        "test_hat = np.argmax(test_hat, axis=1)\n",
        "\n",
        "labels = (train.class_indices)\n",
        "labels = dict((v,k) for k,v in labels.items())\n",
        "pred_report = [labels[k] for k in test_hat]\n",
        "\n",
        "y_test = test_images.labels\n",
        "print(classification_report(y_test, pred_report))\n",
        "print(\"Accuracy of the Model:\",\"{:.1f}%\".format(accuracy_score(y_test, pred_report)*100))"
      ],
      "metadata": {
        "colab": {
          "base_uri": "https://localhost:8080/"
        },
        "id": "T69mHXGCgtv5",
        "outputId": "42003fdb-450f-4d91-b599-0dbf7bd2bf53"
      },
      "id": "T69mHXGCgtv5",
      "execution_count": null,
      "outputs": [
        {
          "output_type": "stream",
          "name": "stdout",
          "text": [
            "\u001b[1m27/27\u001b[0m \u001b[32m━━━━━━━━━━━━━━━━━━━━\u001b[0m\u001b[37m\u001b[0m \u001b[1m18s\u001b[0m 407ms/step\n",
            "                  precision    recall  f1-score   support\n",
            "\n",
            "    MildDemented       0.69      0.60      0.64       244\n",
            "ModerateDemented       0.92      0.88      0.90       168\n",
            "     NonDemented       0.51      0.89      0.65       261\n",
            "VeryMildDemented       0.75      0.02      0.04       163\n",
            "\n",
            "        accuracy                           0.64       836\n",
            "       macro avg       0.72      0.60      0.56       836\n",
            "    weighted avg       0.69      0.64      0.58       836\n",
            "\n",
            "Accuracy of the Model: 63.5%\n"
          ]
        }
      ]
    },
    {
      "cell_type": "markdown",
      "source": [
        "# EfficientNet B1"
      ],
      "metadata": {
        "id": "qdJZm8GCgvFk"
      },
      "id": "qdJZm8GCgvFk"
    },
    {
      "cell_type": "code",
      "source": [
        "from tensorflow.keras.optimizers import Adamax\n",
        "from tensorflow.keras.applications import EfficientNetB1\n",
        "\n",
        "# Define input image shape\n",
        "img_shape = (244, 244, 3)\n",
        "\n",
        "# Load the pre-trained EfficientNetB1 model without the top classification layer\n",
        "base_model = EfficientNetB1(\n",
        "    include_top=False,         # Do not include the top classification layer\n",
        "    weights=\"imagenet\",        # Use pre-trained ImageNet weights\n",
        "    input_shape=img_shape,     # Input shape\n",
        "    pooling='max'              # Global max pooling after conv base\n",
        ")"
      ],
      "metadata": {
        "colab": {
          "base_uri": "https://localhost:8080/"
        },
        "id": "d2kCrP-lgxdF",
        "outputId": "afa1fe04-684a-4d4b-be4e-d0c8a675056c"
      },
      "id": "d2kCrP-lgxdF",
      "execution_count": null,
      "outputs": [
        {
          "output_type": "stream",
          "name": "stdout",
          "text": [
            "Downloading data from https://storage.googleapis.com/keras-applications/efficientnetb1_notop.h5\n",
            "\u001b[1m27018416/27018416\u001b[0m \u001b[32m━━━━━━━━━━━━━━━━━━━━\u001b[0m\u001b[37m\u001b[0m \u001b[1m0s\u001b[0m 0us/step\n"
          ]
        }
      ]
    },
    {
      "cell_type": "code",
      "source": [
        "base_model.trainable = True\n",
        "\n",
        "# Flag to start fine-tuning\n",
        "set_trainable = False\n",
        "\n",
        "# Unfreeze layers from a specific point onwards\n",
        "for layer in base_model.layers:\n",
        "    if layer.name == 'block6a_expand_conv':  # You can change this layer to whichever layer you want to unfreeze\n",
        "        set_trainable = True\n",
        "    if set_trainable:\n",
        "        layer.trainable = True\n",
        "    else:\n",
        "        layer.trainable = False"
      ],
      "metadata": {
        "id": "xNVEDX1Xgxam"
      },
      "id": "xNVEDX1Xgxam",
      "execution_count": null,
      "outputs": []
    },
    {
      "cell_type": "code",
      "source": [
        "EfficientNetB1_model = Sequential([\n",
        "    tf.keras.layers.InputLayer(input_shape=img_shape),\n",
        "    base_model,\n",
        "    Flatten(),\n",
        "    Dropout(rate=0.3),\n",
        "    Dense(128, activation='relu'),\n",
        "    Dropout(rate=0.25),\n",
        "    Dense(4, activation='softmax')\n",
        "])\n",
        "\n",
        "EfficientNetB1_model.compile(\n",
        "    Adamax(learning_rate=0.001),\n",
        "    loss='categorical_crossentropy',\n",
        "    metrics=['accuracy']\n",
        ")\n",
        "\n",
        "EfficientNetB1_model.summary()"
      ],
      "metadata": {
        "colab": {
          "base_uri": "https://localhost:8080/",
          "height": 321
        },
        "id": "ckaHqtyJgxYf",
        "outputId": "2cc480f7-4e26-4cde-d50c-e9a26f63037a"
      },
      "id": "ckaHqtyJgxYf",
      "execution_count": null,
      "outputs": [
        {
          "output_type": "display_data",
          "data": {
            "text/plain": [
              "\u001b[1mModel: \"sequential_2\"\u001b[0m\n"
            ],
            "text/html": [
              "<pre style=\"white-space:pre;overflow-x:auto;line-height:normal;font-family:Menlo,'DejaVu Sans Mono',consolas,'Courier New',monospace\"><span style=\"font-weight: bold\">Model: \"sequential_2\"</span>\n",
              "</pre>\n"
            ]
          },
          "metadata": {}
        },
        {
          "output_type": "display_data",
          "data": {
            "text/plain": [
              "┏━━━━━━━━━━━━━━━━━━━━━━━━━━━━━━━━━┳━━━━━━━━━━━━━━━━━━━━━━━━┳━━━━━━━━━━━━━━━┓\n",
              "┃\u001b[1m \u001b[0m\u001b[1mLayer (type)                   \u001b[0m\u001b[1m \u001b[0m┃\u001b[1m \u001b[0m\u001b[1mOutput Shape          \u001b[0m\u001b[1m \u001b[0m┃\u001b[1m \u001b[0m\u001b[1m      Param #\u001b[0m\u001b[1m \u001b[0m┃\n",
              "┡━━━━━━━━━━━━━━━━━━━━━━━━━━━━━━━━━╇━━━━━━━━━━━━━━━━━━━━━━━━╇━━━━━━━━━━━━━━━┩\n",
              "│ efficientnetb1 (\u001b[38;5;33mFunctional\u001b[0m)     │ (\u001b[38;5;45mNone\u001b[0m, \u001b[38;5;34m1280\u001b[0m)           │     \u001b[38;5;34m6,575,239\u001b[0m │\n",
              "├─────────────────────────────────┼────────────────────────┼───────────────┤\n",
              "│ flatten_2 (\u001b[38;5;33mFlatten\u001b[0m)             │ (\u001b[38;5;45mNone\u001b[0m, \u001b[38;5;34m1280\u001b[0m)           │             \u001b[38;5;34m0\u001b[0m │\n",
              "├─────────────────────────────────┼────────────────────────┼───────────────┤\n",
              "│ dropout_4 (\u001b[38;5;33mDropout\u001b[0m)             │ (\u001b[38;5;45mNone\u001b[0m, \u001b[38;5;34m1280\u001b[0m)           │             \u001b[38;5;34m0\u001b[0m │\n",
              "├─────────────────────────────────┼────────────────────────┼───────────────┤\n",
              "│ dense_4 (\u001b[38;5;33mDense\u001b[0m)                 │ (\u001b[38;5;45mNone\u001b[0m, \u001b[38;5;34m128\u001b[0m)            │       \u001b[38;5;34m163,968\u001b[0m │\n",
              "├─────────────────────────────────┼────────────────────────┼───────────────┤\n",
              "│ dropout_5 (\u001b[38;5;33mDropout\u001b[0m)             │ (\u001b[38;5;45mNone\u001b[0m, \u001b[38;5;34m128\u001b[0m)            │             \u001b[38;5;34m0\u001b[0m │\n",
              "├─────────────────────────────────┼────────────────────────┼───────────────┤\n",
              "│ dense_5 (\u001b[38;5;33mDense\u001b[0m)                 │ (\u001b[38;5;45mNone\u001b[0m, \u001b[38;5;34m4\u001b[0m)              │           \u001b[38;5;34m516\u001b[0m │\n",
              "└─────────────────────────────────┴────────────────────────┴───────────────┘\n"
            ],
            "text/html": [
              "<pre style=\"white-space:pre;overflow-x:auto;line-height:normal;font-family:Menlo,'DejaVu Sans Mono',consolas,'Courier New',monospace\">┏━━━━━━━━━━━━━━━━━━━━━━━━━━━━━━━━━┳━━━━━━━━━━━━━━━━━━━━━━━━┳━━━━━━━━━━━━━━━┓\n",
              "┃<span style=\"font-weight: bold\"> Layer (type)                    </span>┃<span style=\"font-weight: bold\"> Output Shape           </span>┃<span style=\"font-weight: bold\">       Param # </span>┃\n",
              "┡━━━━━━━━━━━━━━━━━━━━━━━━━━━━━━━━━╇━━━━━━━━━━━━━━━━━━━━━━━━╇━━━━━━━━━━━━━━━┩\n",
              "│ efficientnetb1 (<span style=\"color: #0087ff; text-decoration-color: #0087ff\">Functional</span>)     │ (<span style=\"color: #00d7ff; text-decoration-color: #00d7ff\">None</span>, <span style=\"color: #00af00; text-decoration-color: #00af00\">1280</span>)           │     <span style=\"color: #00af00; text-decoration-color: #00af00\">6,575,239</span> │\n",
              "├─────────────────────────────────┼────────────────────────┼───────────────┤\n",
              "│ flatten_2 (<span style=\"color: #0087ff; text-decoration-color: #0087ff\">Flatten</span>)             │ (<span style=\"color: #00d7ff; text-decoration-color: #00d7ff\">None</span>, <span style=\"color: #00af00; text-decoration-color: #00af00\">1280</span>)           │             <span style=\"color: #00af00; text-decoration-color: #00af00\">0</span> │\n",
              "├─────────────────────────────────┼────────────────────────┼───────────────┤\n",
              "│ dropout_4 (<span style=\"color: #0087ff; text-decoration-color: #0087ff\">Dropout</span>)             │ (<span style=\"color: #00d7ff; text-decoration-color: #00d7ff\">None</span>, <span style=\"color: #00af00; text-decoration-color: #00af00\">1280</span>)           │             <span style=\"color: #00af00; text-decoration-color: #00af00\">0</span> │\n",
              "├─────────────────────────────────┼────────────────────────┼───────────────┤\n",
              "│ dense_4 (<span style=\"color: #0087ff; text-decoration-color: #0087ff\">Dense</span>)                 │ (<span style=\"color: #00d7ff; text-decoration-color: #00d7ff\">None</span>, <span style=\"color: #00af00; text-decoration-color: #00af00\">128</span>)            │       <span style=\"color: #00af00; text-decoration-color: #00af00\">163,968</span> │\n",
              "├─────────────────────────────────┼────────────────────────┼───────────────┤\n",
              "│ dropout_5 (<span style=\"color: #0087ff; text-decoration-color: #0087ff\">Dropout</span>)             │ (<span style=\"color: #00d7ff; text-decoration-color: #00d7ff\">None</span>, <span style=\"color: #00af00; text-decoration-color: #00af00\">128</span>)            │             <span style=\"color: #00af00; text-decoration-color: #00af00\">0</span> │\n",
              "├─────────────────────────────────┼────────────────────────┼───────────────┤\n",
              "│ dense_5 (<span style=\"color: #0087ff; text-decoration-color: #0087ff\">Dense</span>)                 │ (<span style=\"color: #00d7ff; text-decoration-color: #00d7ff\">None</span>, <span style=\"color: #00af00; text-decoration-color: #00af00\">4</span>)              │           <span style=\"color: #00af00; text-decoration-color: #00af00\">516</span> │\n",
              "└─────────────────────────────────┴────────────────────────┴───────────────┘\n",
              "</pre>\n"
            ]
          },
          "metadata": {}
        },
        {
          "output_type": "display_data",
          "data": {
            "text/plain": [
              "\u001b[1m Total params: \u001b[0m\u001b[38;5;34m6,739,723\u001b[0m (25.71 MB)\n"
            ],
            "text/html": [
              "<pre style=\"white-space:pre;overflow-x:auto;line-height:normal;font-family:Menlo,'DejaVu Sans Mono',consolas,'Courier New',monospace\"><span style=\"font-weight: bold\"> Total params: </span><span style=\"color: #00af00; text-decoration-color: #00af00\">6,739,723</span> (25.71 MB)\n",
              "</pre>\n"
            ]
          },
          "metadata": {}
        },
        {
          "output_type": "display_data",
          "data": {
            "text/plain": [
              "\u001b[1m Trainable params: \u001b[0m\u001b[38;5;34m5,471,776\u001b[0m (20.87 MB)\n"
            ],
            "text/html": [
              "<pre style=\"white-space:pre;overflow-x:auto;line-height:normal;font-family:Menlo,'DejaVu Sans Mono',consolas,'Courier New',monospace\"><span style=\"font-weight: bold\"> Trainable params: </span><span style=\"color: #00af00; text-decoration-color: #00af00\">5,471,776</span> (20.87 MB)\n",
              "</pre>\n"
            ]
          },
          "metadata": {}
        },
        {
          "output_type": "display_data",
          "data": {
            "text/plain": [
              "\u001b[1m Non-trainable params: \u001b[0m\u001b[38;5;34m1,267,947\u001b[0m (4.84 MB)\n"
            ],
            "text/html": [
              "<pre style=\"white-space:pre;overflow-x:auto;line-height:normal;font-family:Menlo,'DejaVu Sans Mono',consolas,'Courier New',monospace\"><span style=\"font-weight: bold\"> Non-trainable params: </span><span style=\"color: #00af00; text-decoration-color: #00af00\">1,267,947</span> (4.84 MB)\n",
              "</pre>\n"
            ]
          },
          "metadata": {}
        }
      ]
    },
    {
      "cell_type": "code",
      "source": [
        "# List all available physical devices\n",
        "physical_devices = tf.config.list_physical_devices('GPU')\n",
        "\n",
        "if physical_devices:\n",
        "    print(\"GPU is available:\")\n",
        "    for device in physical_devices:\n",
        "        print(f\"  - {device}\")\n",
        "else:\n",
        "    print(\"GPU is NOT available. Using CPU.\")\n",
        "\n",
        "from tensorflow.python.client import device_lib\n",
        "\n",
        "# Print available devices\n",
        "print(\"Available devices:\")\n",
        "for device in device_lib.list_local_devices():\n",
        "    print(f\"  - {device.name} ({device.device_type})\")"
      ],
      "metadata": {
        "colab": {
          "base_uri": "https://localhost:8080/"
        },
        "id": "xN35HPAzgxWZ",
        "outputId": "9d2fd549-9696-402e-d567-1f1408645c29"
      },
      "id": "xN35HPAzgxWZ",
      "execution_count": null,
      "outputs": [
        {
          "output_type": "stream",
          "name": "stdout",
          "text": [
            "GPU is available:\n",
            "  - PhysicalDevice(name='/physical_device:GPU:0', device_type='GPU')\n",
            "Available devices:\n",
            "  - /device:CPU:0 (CPU)\n",
            "  - /device:GPU:0 (GPU)\n"
          ]
        }
      ]
    },
    {
      "cell_type": "code",
      "source": [
        "# Move the model to the GPU if available\n",
        "with tf.device('/GPU:0'): # Or '/GPU:1' etc. if you have multiple GPUs. If no GPU, defaults to CPU.\n",
        "    early_stopping = EarlyStopping(\n",
        "        monitor='val_loss',\n",
        "        patience=3,\n",
        "        mode='min',\n",
        "        restore_best_weights=True,\n",
        "        verbose=1\n",
        "    )\n",
        "    history = EfficientNetB1_model.fit(\n",
        "        train,\n",
        "        epochs=50,\n",
        "        validation_data=val,\n",
        "        callbacks=[early_stopping, annealer]\n",
        "    )\n"
      ],
      "metadata": {
        "colab": {
          "base_uri": "https://localhost:8080/"
        },
        "id": "DO6OmhW9gxT7",
        "outputId": "014f499f-aa7d-44fb-9f87-3e137b6a84d3"
      },
      "id": "DO6OmhW9gxT7",
      "execution_count": null,
      "outputs": [
        {
          "output_type": "stream",
          "name": "stdout",
          "text": [
            "Epoch 1/50\n",
            "\u001b[1m125/125\u001b[0m \u001b[32m━━━━━━━━━━━━━━━━━━━━\u001b[0m\u001b[37m\u001b[0m \u001b[1m112s\u001b[0m 477ms/step - accuracy: 0.2705 - loss: 2.7449 - val_accuracy: 0.3140 - val_loss: 1.3729 - learning_rate: 0.0010\n",
            "Epoch 2/50\n",
            "\u001b[1m125/125\u001b[0m \u001b[32m━━━━━━━━━━━━━━━━━━━━\u001b[0m\u001b[37m\u001b[0m \u001b[1m20s\u001b[0m 157ms/step - accuracy: 0.3052 - loss: 1.3838 - val_accuracy: 0.2910 - val_loss: 1.3816 - learning_rate: 9.5000e-04\n",
            "Epoch 3/50\n",
            "\u001b[1m125/125\u001b[0m \u001b[32m━━━━━━━━━━━━━━━━━━━━\u001b[0m\u001b[37m\u001b[0m \u001b[1m20s\u001b[0m 163ms/step - accuracy: 0.3112 - loss: 1.3775 - val_accuracy: 0.2960 - val_loss: 1.3645 - learning_rate: 9.0250e-04\n",
            "Epoch 4/50\n",
            "\u001b[1m125/125\u001b[0m \u001b[32m━━━━━━━━━━━━━━━━━━━━\u001b[0m\u001b[37m\u001b[0m \u001b[1m22s\u001b[0m 173ms/step - accuracy: 0.3222 - loss: 1.3680 - val_accuracy: 0.3260 - val_loss: 1.3523 - learning_rate: 8.5737e-04\n",
            "Epoch 5/50\n",
            "\u001b[1m125/125\u001b[0m \u001b[32m━━━━━━━━━━━━━━━━━━━━\u001b[0m\u001b[37m\u001b[0m \u001b[1m20s\u001b[0m 161ms/step - accuracy: 0.3181 - loss: 1.3691 - val_accuracy: 0.3560 - val_loss: 1.3311 - learning_rate: 8.1451e-04\n",
            "Epoch 6/50\n",
            "\u001b[1m125/125\u001b[0m \u001b[32m━━━━━━━━━━━━━━━━━━━━\u001b[0m\u001b[37m\u001b[0m \u001b[1m20s\u001b[0m 163ms/step - accuracy: 0.3128 - loss: 1.3588 - val_accuracy: 0.3570 - val_loss: 1.3328 - learning_rate: 7.7378e-04\n",
            "Epoch 7/50\n",
            "\u001b[1m125/125\u001b[0m \u001b[32m━━━━━━━━━━━━━━━━━━━━\u001b[0m\u001b[37m\u001b[0m \u001b[1m20s\u001b[0m 159ms/step - accuracy: 0.3250 - loss: 1.3553 - val_accuracy: 0.3630 - val_loss: 1.2974 - learning_rate: 7.3509e-04\n",
            "Epoch 8/50\n",
            "\u001b[1m125/125\u001b[0m \u001b[32m━━━━━━━━━━━━━━━━━━━━\u001b[0m\u001b[37m\u001b[0m \u001b[1m21s\u001b[0m 165ms/step - accuracy: 0.3699 - loss: 1.3288 - val_accuracy: 0.3650 - val_loss: 1.2906 - learning_rate: 6.9834e-04\n",
            "Epoch 9/50\n",
            "\u001b[1m125/125\u001b[0m \u001b[32m━━━━━━━━━━━━━━━━━━━━\u001b[0m\u001b[37m\u001b[0m \u001b[1m20s\u001b[0m 160ms/step - accuracy: 0.3616 - loss: 1.3100 - val_accuracy: 0.4210 - val_loss: 1.2485 - learning_rate: 6.6342e-04\n",
            "Epoch 10/50\n",
            "\u001b[1m125/125\u001b[0m \u001b[32m━━━━━━━━━━━━━━━━━━━━\u001b[0m\u001b[37m\u001b[0m \u001b[1m21s\u001b[0m 164ms/step - accuracy: 0.3901 - loss: 1.3000 - val_accuracy: 0.4740 - val_loss: 1.1154 - learning_rate: 6.3025e-04\n",
            "Epoch 11/50\n",
            "\u001b[1m125/125\u001b[0m \u001b[32m━━━━━━━━━━━━━━━━━━━━\u001b[0m\u001b[37m\u001b[0m \u001b[1m20s\u001b[0m 157ms/step - accuracy: 0.4205 - loss: 1.2436 - val_accuracy: 0.4930 - val_loss: 1.0846 - learning_rate: 5.9874e-04\n",
            "Epoch 12/50\n",
            "\u001b[1m125/125\u001b[0m \u001b[32m━━━━━━━━━━━━━━━━━━━━\u001b[0m\u001b[37m\u001b[0m \u001b[1m21s\u001b[0m 167ms/step - accuracy: 0.4494 - loss: 1.1710 - val_accuracy: 0.5610 - val_loss: 1.0376 - learning_rate: 5.6880e-04\n",
            "Epoch 13/50\n",
            "\u001b[1m125/125\u001b[0m \u001b[32m━━━━━━━━━━━━━━━━━━━━\u001b[0m\u001b[37m\u001b[0m \u001b[1m20s\u001b[0m 159ms/step - accuracy: 0.4656 - loss: 1.1485 - val_accuracy: 0.4360 - val_loss: 1.1971 - learning_rate: 5.4036e-04\n",
            "Epoch 14/50\n",
            "\u001b[1m125/125\u001b[0m \u001b[32m━━━━━━━━━━━━━━━━━━━━\u001b[0m\u001b[37m\u001b[0m \u001b[1m21s\u001b[0m 164ms/step - accuracy: 0.4930 - loss: 1.1181 - val_accuracy: 0.6020 - val_loss: 0.9243 - learning_rate: 5.1334e-04\n",
            "Epoch 15/50\n",
            "\u001b[1m125/125\u001b[0m \u001b[32m━━━━━━━━━━━━━━━━━━━━\u001b[0m\u001b[37m\u001b[0m \u001b[1m21s\u001b[0m 169ms/step - accuracy: 0.5207 - loss: 1.0615 - val_accuracy: 0.4850 - val_loss: 1.1440 - learning_rate: 4.8767e-04\n",
            "Epoch 16/50\n",
            "\u001b[1m125/125\u001b[0m \u001b[32m━━━━━━━━━━━━━━━━━━━━\u001b[0m\u001b[37m\u001b[0m \u001b[1m20s\u001b[0m 161ms/step - accuracy: 0.5236 - loss: 1.0313 - val_accuracy: 0.3620 - val_loss: 1.5525 - learning_rate: 4.6329e-04\n",
            "Epoch 17/50\n",
            "\u001b[1m125/125\u001b[0m \u001b[32m━━━━━━━━━━━━━━━━━━━━\u001b[0m\u001b[37m\u001b[0m \u001b[1m20s\u001b[0m 163ms/step - accuracy: 0.5326 - loss: 1.0181 - val_accuracy: 0.3770 - val_loss: 1.8012 - learning_rate: 4.4013e-04\n",
            "Epoch 17: early stopping\n",
            "Restoring model weights from the end of the best epoch: 14.\n"
          ]
        }
      ]
    },
    {
      "cell_type": "code",
      "source": [
        "train_loss, train_accuracy =  EfficientNetB1_model.evaluate(train)\n",
        "print(f'\\nTrain loss: {train_loss:.2f}')\n",
        "print(f'Train Accuracy: {train_accuracy*100:.2f} %')\n",
        "\n",
        "val_loss, val_accuracy =  EfficientNetB1_model.evaluate(val)\n",
        "print(f'\\nvalidation loss: {val_loss:.2f}')\n",
        "print(f'Validation Accuracy: {val_accuracy*100:.2f} %')\n",
        "\n",
        "test_loss, test_accuracy =  EfficientNetB1_model.evaluate(test)\n",
        "print(f'\\ntest loss: {test_loss:.2f}')\n",
        "print(f'test Accuracy: {test_accuracy*100:.2f} %')"
      ],
      "metadata": {
        "colab": {
          "base_uri": "https://localhost:8080/"
        },
        "id": "UKiiD7P2gxRf",
        "outputId": "b42241ae-6f24-4e89-86a6-3a8004d72852"
      },
      "id": "UKiiD7P2gxRf",
      "execution_count": null,
      "outputs": [
        {
          "output_type": "stream",
          "name": "stdout",
          "text": [
            "\u001b[1m125/125\u001b[0m \u001b[32m━━━━━━━━━━━━━━━━━━━━\u001b[0m\u001b[37m\u001b[0m \u001b[1m20s\u001b[0m 158ms/step - accuracy: 0.6072 - loss: 0.8916\n",
            "\n",
            "Train loss: 0.89\n",
            "Train Accuracy: 60.74 %\n",
            "\u001b[1m32/32\u001b[0m \u001b[32m━━━━━━━━━━━━━━━━━━━━\u001b[0m\u001b[37m\u001b[0m \u001b[1m4s\u001b[0m 132ms/step - accuracy: 0.5961 - loss: 0.9260\n",
            "\n",
            "validation loss: 0.92\n",
            "Validation Accuracy: 60.20 %\n",
            "\u001b[1m27/27\u001b[0m \u001b[32m━━━━━━━━━━━━━━━━━━━━\u001b[0m\u001b[37m\u001b[0m \u001b[1m8s\u001b[0m 298ms/step - accuracy: 0.6631 - loss: 0.8991\n",
            "\n",
            "test loss: 0.91\n",
            "test Accuracy: 60.41 %\n"
          ]
        }
      ]
    },
    {
      "cell_type": "code",
      "source": [
        "result = EfficientNetB1_model.evaluate(test, verbose=1)\n",
        "print(result)"
      ],
      "metadata": {
        "colab": {
          "base_uri": "https://localhost:8080/"
        },
        "id": "RSvZ0B9pgwt0",
        "outputId": "185691df-6e11-4498-beaf-c95365169aff"
      },
      "id": "RSvZ0B9pgwt0",
      "execution_count": null,
      "outputs": [
        {
          "output_type": "stream",
          "name": "stdout",
          "text": [
            "\u001b[1m27/27\u001b[0m \u001b[32m━━━━━━━━━━━━━━━━━━━━\u001b[0m\u001b[37m\u001b[0m \u001b[1m4s\u001b[0m 127ms/step - accuracy: 0.6631 - loss: 0.8991\n",
            "[0.9114353656768799, 0.6040669679641724]\n"
          ]
        }
      ]
    },
    {
      "cell_type": "code",
      "source": [
        "plt.plot(history.history['accuracy'])\n",
        "plt.plot(history.history['val_accuracy'])\n",
        "plt.title('model accuracy')\n",
        "plt.ylabel('accuracy')\n",
        "plt.xlabel('epoch')\n",
        "plt.legend(['train', 'val'], loc='upper left')\n",
        "plt.show()"
      ],
      "metadata": {
        "colab": {
          "base_uri": "https://localhost:8080/",
          "height": 472
        },
        "id": "6z3fCU1njONF",
        "outputId": "b60e8e2c-a3cf-4bc8-8e6f-d07a60451165"
      },
      "id": "6z3fCU1njONF",
      "execution_count": null,
      "outputs": [
        {
          "output_type": "display_data",
          "data": {
            "text/plain": [
              "<Figure size 640x480 with 1 Axes>"
            ],
            "image/png": "[encoded data removed]"
          },
          "metadata": {}
        }
      ]
    },
    {
      "cell_type": "code",
      "source": [
        "plt.plot(history.history['loss'])\n",
        "plt.plot(history.history['val_loss'])\n",
        "plt.title('model loss')\n",
        "plt.ylabel('loss')\n",
        "plt.xlabel('epoch')\n",
        "plt.legend(['train', 'val'], loc='upper left')\n",
        "plt.show()"
      ],
      "metadata": {
        "colab": {
          "base_uri": "https://localhost:8080/",
          "height": 472
        },
        "id": "fbwmlfMJjPpy",
        "outputId": "bad9e72d-5a0c-4bce-fabb-04b526d6f753"
      },
      "id": "fbwmlfMJjPpy",
      "execution_count": null,
      "outputs": [
        {
          "output_type": "display_data",
          "data": {
            "text/plain": [
              "<Figure size 640x480 with 1 Axes>"
            ],
            "image/png": "[encoded data removed]"
          },
          "metadata": {}
        }
      ]
    },
    {
      "cell_type": "code",
      "source": [
        "from sklearn.metrics import confusion_matrix, accuracy_score\n",
        "\n",
        "test_hat =  EfficientNetB1_model.predict(test)\n",
        "test_hat = np.argmax(test_hat, axis=1)\n",
        "\n",
        "labels = (train.class_indices)\n",
        "labels = dict((v,k) for k,v in labels.items())\n",
        "pred_report = [labels[k] for k in test_hat]\n",
        "\n",
        "y_test = test_images.labels\n",
        "print(classification_report(y_test, pred_report))\n",
        "print(\"Accuracy of the Model:\",\"{:.1f}%\".format(accuracy_score(y_test, pred_report)*100))"
      ],
      "metadata": {
        "colab": {
          "base_uri": "https://localhost:8080/"
        },
        "id": "DPqxPjGjjQaO",
        "outputId": "54e401ab-950f-4165-eb19-f1ad5320dd11"
      },
      "id": "DPqxPjGjjQaO",
      "execution_count": null,
      "outputs": [
        {
          "output_type": "stream",
          "name": "stdout",
          "text": [
            "\u001b[1m27/27\u001b[0m \u001b[32m━━━━━━━━━━━━━━━━━━━━\u001b[0m\u001b[37m\u001b[0m \u001b[1m18s\u001b[0m 417ms/step\n",
            "                  precision    recall  f1-score   support\n",
            "\n",
            "    MildDemented       0.53      0.60      0.56       244\n",
            "ModerateDemented       0.84      0.85      0.84       168\n",
            "     NonDemented       0.56      0.83      0.66       261\n",
            "VeryMildDemented       0.00      0.00      0.00       163\n",
            "\n",
            "        accuracy                           0.60       836\n",
            "       macro avg       0.48      0.57      0.52       836\n",
            "    weighted avg       0.50      0.60      0.54       836\n",
            "\n",
            "Accuracy of the Model: 60.4%\n"
          ]
        }
      ]
    },
    {
      "cell_type": "code",
      "source": [],
      "metadata": {
        "id": "OSgE3UNijhDa"
      },
      "id": "OSgE3UNijhDa",
      "execution_count": null,
      "outputs": []
    }
  ],
  "metadata": {
    "kernelspec": {
      "display_name": "Python 3",
      "name": "python3"
    },
    "language_info": {
      "codemirror_mode": {
        "name": "ipython",
        "version": 3
      },
      "file_extension": ".py",
      "mimetype": "text/x-python",
      "name": "python",
      "nbconvert_exporter": "python",
      "pygments_lexer": "ipython3",
      "version": "3.11.6"
    },
    "colab": {
      "provenance": [],
      "gpuType": "T4"
    },
    "accelerator": "GPU"
  },
  "nbformat": 4,
  "nbformat_minor": 5
}